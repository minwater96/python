{
 "cells": [
  {
   "cell_type": "markdown",
   "id": "2e5c254c-8e60-499b-afeb-b2c32ad21e79",
   "metadata": {},
   "source": [
    "# 메소드"
   ]
  },
  {
   "cell_type": "markdown",
   "id": "e4f75d06-34f6-4837-bfd1-e20bcf34b366",
   "metadata": {},
   "source": [
    "## 1. 문자열 메소드"
   ]
  },
  {
   "cell_type": "code",
   "execution_count": 4,
   "id": "b016d19e-1127-4345-bd5d-b3e993ef505e",
   "metadata": {},
   "outputs": [],
   "source": [
    "a = 'hello my name is hong'"
   ]
  },
  {
   "cell_type": "code",
   "execution_count": 5,
   "id": "742e65f0-85cb-4d3c-a418-ba1725684207",
   "metadata": {},
   "outputs": [
    {
     "name": "stdout",
     "output_type": "stream",
     "text": [
      "hello my name is hong\n"
     ]
    }
   ],
   "source": [
    "print(a)"
   ]
  },
  {
   "cell_type": "code",
   "execution_count": 11,
   "id": "cbb1ef5e-1fac-4fe1-bfd8-cf2c997518d9",
   "metadata": {},
   "outputs": [
    {
     "name": "stdout",
     "output_type": "stream",
     "text": [
      "Hello my name is hong\n"
     ]
    }
   ],
   "source": [
    "# 첫번째 글자를 대문자로 변경\n",
    "print(a.capitalize())"
   ]
  },
  {
   "cell_type": "code",
   "execution_count": 12,
   "id": "a7a31393-2de6-4440-a83d-24633e84aa04",
   "metadata": {},
   "outputs": [
    {
     "name": "stdout",
     "output_type": "stream",
     "text": [
      "Hello My Name Is Hong\n"
     ]
    }
   ],
   "source": [
    "# 모든 단어들의 첫번째 글자를 대문자로 변경\n",
    "print(a.title()) "
   ]
  },
  {
   "cell_type": "code",
   "execution_count": 9,
   "id": "eb97a511-14f6-4316-a874-0defb1048b73",
   "metadata": {},
   "outputs": [
    {
     "data": {
      "text/plain": [
       "'HELLO MY NAME IS HONG'"
      ]
     },
     "execution_count": 9,
     "metadata": {},
     "output_type": "execute_result"
    }
   ],
   "source": [
    "# 모든 단어들을 대문자로 변경\n",
    "a.upper()"
   ]
  },
  {
   "cell_type": "code",
   "execution_count": 10,
   "id": "16e878d3-dcdf-406d-bf8f-9edafb612d28",
   "metadata": {},
   "outputs": [
    {
     "data": {
      "text/plain": [
       "'hello my name is hong'"
      ]
     },
     "execution_count": 10,
     "metadata": {},
     "output_type": "execute_result"
    }
   ],
   "source": [
    "# 모든 단어들을 소문자로 변경\n",
    "a.lower()"
   ]
  },
  {
   "cell_type": "code",
   "execution_count": 15,
   "id": "5d5044a3-42d6-4c1a-a4a7-f7cc58598961",
   "metadata": {},
   "outputs": [
    {
     "name": "stdout",
     "output_type": "stream",
     "text": [
      "my_name_is\n"
     ]
    }
   ],
   "source": [
    "my_list = ['my', 'name', 'is']\n",
    "print('_'.join(my_list)) #리스트를 묶는 함수"
   ]
  },
  {
   "cell_type": "code",
   "execution_count": 22,
   "id": "4d44edc2-abc6-4052-b193-3fd25791a838",
   "metadata": {},
   "outputs": [
    {
     "name": "stdout",
     "output_type": "stream",
     "text": [
      "hello\n",
      "hello\n",
      "hello-----------\n",
      "-----------hello\n"
     ]
    }
   ],
   "source": [
    "my_string = '   hello \\n    '\n",
    "#print(my_string)\n",
    "print(my_string.strip()) #양옆의 공백을 지울때 사용\n",
    "my_string2 = '-----------hello-----------'\n",
    "print(my_string2.strip('-')) # 양쪽 데이터 제거\n",
    "print(my_string2.lstrip('-')) # 왼쪽 데이터 제거\n",
    "print(my_string2.rstrip('-')) # 오른쪽 데이터 제거"
   ]
  },
  {
   "cell_type": "code",
   "execution_count": 26,
   "id": "5faab8e5-f168-4765-a10e-fb3aac5a6819",
   "metadata": {},
   "outputs": [
    {
     "data": {
      "text/plain": [
       "'w????ooooooow'"
      ]
     },
     "execution_count": 26,
     "metadata": {},
     "output_type": "execute_result"
    }
   ],
   "source": [
    "a = 'wooooooooooow'\n",
    "\n",
    "a.replace('o', '?', 4) #('과거글자', '바꿀글자', '몇개') 로 바꾸기 위해 사용"
   ]
  },
  {
   "cell_type": "code",
   "execution_count": 33,
   "id": "3156ff6a-ad9d-4199-9c29-c11dcca275de",
   "metadata": {},
   "outputs": [
    {
     "name": "stdout",
     "output_type": "stream",
     "text": [
      "0\n",
      "3\n",
      "1\n",
      "-1\n"
     ]
    }
   ],
   "source": [
    "a = 'apple'\n",
    "print(a.find('a')) # 찾는 글자의 위치 표기\n",
    "print(a.find('l'))\n",
    "print(a.find('p'))\n",
    "print(a.find('z')) # 없는 데이터는 -1 표기"
   ]
  },
  {
   "cell_type": "code",
   "execution_count": 35,
   "id": "cfe13aae-36dc-4b27-9473-77a8d26bd633",
   "metadata": {},
   "outputs": [
    {
     "name": "stdout",
     "output_type": "stream",
     "text": [
      "0\n",
      "1\n"
     ]
    },
    {
     "ename": "ValueError",
     "evalue": "substring not found",
     "output_type": "error",
     "traceback": [
      "\u001b[0;31m---------------------------------------------------------------------------\u001b[0m",
      "\u001b[0;31mValueError\u001b[0m                                Traceback (most recent call last)",
      "Cell \u001b[0;32mIn[35], line 4\u001b[0m\n\u001b[1;32m      2\u001b[0m \u001b[38;5;28mprint\u001b[39m(a\u001b[38;5;241m.\u001b[39mindex(\u001b[38;5;124m'\u001b[39m\u001b[38;5;124ma\u001b[39m\u001b[38;5;124m'\u001b[39m)) \n\u001b[1;32m      3\u001b[0m \u001b[38;5;28mprint\u001b[39m(a\u001b[38;5;241m.\u001b[39mindex(\u001b[38;5;124m'\u001b[39m\u001b[38;5;124mp\u001b[39m\u001b[38;5;124m'\u001b[39m))\n\u001b[0;32m----> 4\u001b[0m \u001b[38;5;28mprint\u001b[39m(\u001b[43ma\u001b[49m\u001b[38;5;241;43m.\u001b[39;49m\u001b[43mindex\u001b[49m\u001b[43m(\u001b[49m\u001b[38;5;124;43m'\u001b[39;49m\u001b[38;5;124;43mz\u001b[39;49m\u001b[38;5;124;43m'\u001b[39;49m\u001b[43m)\u001b[49m) \u001b[38;5;66;03m# 없는 데이터는 에러 표기\u001b[39;00m\n",
      "\u001b[0;31mValueError\u001b[0m: substring not found"
     ]
    }
   ],
   "source": [
    "a = 'apple'\n",
    "print(a.index('a')) \n",
    "print(a.index('p'))\n",
    "print(a.index('z')) # 없는 데이터는 에러 표기"
   ]
  },
  {
   "cell_type": "code",
   "execution_count": 40,
   "id": "2bee1eb3-e953-4a2b-b2f5-3ab90ad7ee1c",
   "metadata": {},
   "outputs": [
    {
     "name": "stdout",
     "output_type": "stream",
     "text": [
      "['my', 'name', 'in', 'hong']\n",
      "['my', 'name', 'in', 'hong']\n"
     ]
    }
   ],
   "source": [
    "a = 'my name in hong'\n",
    "print(a.split()) # 데이터를 나누기 위해 사용\n",
    "b = 'my_name_in_hong'\n",
    "print(b.split('_')) # 데이터를 나누기 위해 사용"
   ]
  },
  {
   "cell_type": "code",
   "execution_count": 42,
   "id": "7e3ac5ca-8b76-4fea-a343-c16b68afe196",
   "metadata": {},
   "outputs": [
    {
     "data": {
      "text/plain": [
       "12"
      ]
     },
     "execution_count": 42,
     "metadata": {},
     "output_type": "execute_result"
    }
   ],
   "source": [
    "a = 'woooooooooooo'\n",
    "a.count('o') # o의 갯수를 알기위해 사용"
   ]
  },
  {
   "cell_type": "markdown",
   "id": "fe4eae3a-0a10-4da4-a881-13a7e929def0",
   "metadata": {},
   "source": [
    "## 2. 리스트 메소드"
   ]
  },
  {
   "cell_type": "code",
   "execution_count": 60,
   "id": "1634fd66-504f-47ac-8db3-ab9eacda928f",
   "metadata": {},
   "outputs": [],
   "source": [
    "numbers = [1, 4, 3, 6, 8, 9, 3]"
   ]
  },
  {
   "cell_type": "code",
   "execution_count": 61,
   "id": "2456835e-5374-470b-a8e3-aa784f4d2e34",
   "metadata": {},
   "outputs": [
    {
     "name": "stdout",
     "output_type": "stream",
     "text": [
      "[1, 4, 3, 6, 8, 9, 3, 10]\n"
     ]
    }
   ],
   "source": [
    "numbers.append(10) # 리스트에 데이터 추가, *맨뒤에\n",
    "print(numbers)"
   ]
  },
  {
   "cell_type": "code",
   "execution_count": 62,
   "id": "334c2d31-02b5-454f-9588-c6c0423b54b9",
   "metadata": {},
   "outputs": [
    {
     "name": "stdout",
     "output_type": "stream",
     "text": [
      "[1, 4, 3, 6, 8, 9, 3, 10, '99', '100']\n",
      "[1, 4, 3, 6, 8, 9, 3, 10, '99', '100', '99', '100']\n"
     ]
    }
   ],
   "source": [
    "a = ['99', '100']\n",
    "\n",
    "numbers.extend(a)\n",
    "print(numbers)\n",
    "numbers = numbers + a\n",
    "print(numbers)"
   ]
  },
  {
   "cell_type": "code",
   "execution_count": 63,
   "id": "f44358d6-1057-4ffc-bd4a-d74c16369762",
   "metadata": {},
   "outputs": [
    {
     "name": "stdout",
     "output_type": "stream",
     "text": [
      "[-10, 1, 4, 3, 6, 8, 9, 3, 10, '99', '100', '99', '100']\n"
     ]
    }
   ],
   "source": [
    "numbers.insert(0, -10) # 강제로 원하는 위치에 데이터 삽입을 위해 사용\n",
    "print(numbers)"
   ]
  },
  {
   "cell_type": "code",
   "execution_count": 64,
   "id": "c1d6790f-216c-4a33-b119-773ce05b77ac",
   "metadata": {},
   "outputs": [
    {
     "name": "stdout",
     "output_type": "stream",
     "text": [
      "[1, 4, 3, 6, 8, 9, 3, 10, '99', '100', '99', '100']\n"
     ]
    }
   ],
   "source": [
    "numbers.remove(-10) # 원하는 값의 데이터를 지우기 위해 사용\n",
    "print(numbers)"
   ]
  },
  {
   "cell_type": "code",
   "execution_count": 65,
   "id": "82faf362-a286-476f-ad10-85d53b9873a1",
   "metadata": {},
   "outputs": [
    {
     "name": "stdout",
     "output_type": "stream",
     "text": [
      "[1, 4, 3, 6, 8, 9, 3, 10, '99', '100', '99'] 100\n",
      "[4, 3, 6, 8, 9, 3, 10, '99', '100', '99'] 1\n"
     ]
    }
   ],
   "source": [
    "result = numbers.pop() # 맨 뒤에있는 데이터를 빼올때 사용\n",
    "print(numbers, result)\n",
    "\n",
    "result = numbers.pop(0) # 위치를 지정해서 데이터 빼올때 사용\n",
    "print(numbers, result)"
   ]
  },
  {
   "cell_type": "code",
   "execution_count": 68,
   "id": "bb2f8bbe-e8ee-42e2-9ebb-4ea067777dcc",
   "metadata": {},
   "outputs": [
    {
     "name": "stdout",
     "output_type": "stream",
     "text": [
      "[1, 2, 3, 3, 5, 7, 8]\n",
      "[8, 7, 5, 3, 3, 2, 1]\n"
     ]
    }
   ],
   "source": [
    "numbers.sort() # 직접 정렬을 위해 사용\n",
    "print(numbers)\n",
    "\n",
    "numbers.sort(reverse=True) # 내림차순\n",
    "print(numbers)"
   ]
  },
  {
   "cell_type": "code",
   "execution_count": 69,
   "id": "c96ff645-6ba1-437c-a9f6-317a96359c96",
   "metadata": {},
   "outputs": [
    {
     "name": "stdout",
     "output_type": "stream",
     "text": [
      "[1, 2, 3, 3, 5, 7, 8]\n",
      "[5, 3, 7, 1, 8, 2, 3]\n"
     ]
    }
   ],
   "source": [
    "numbers = [5, 3, 7, 1, 8, 2, 3]\n",
    "\n",
    "print(sorted(numbers)) # 배열이 정렬 되었을 때의 모습을 확인\n",
    "print(numbers)"
   ]
  },
  {
   "cell_type": "code",
   "execution_count": 72,
   "id": "3925da44-279b-46a6-a3c5-e00fd337f295",
   "metadata": {},
   "outputs": [
    {
     "name": "stdout",
     "output_type": "stream",
     "text": [
      "[5, 3, 7, 1, 8, 2, 3]\n",
      "[3, 2, 8, 1, 7, 3, 5]\n"
     ]
    }
   ],
   "source": [
    "print(numbers)\n",
    "numbers.reverse() #원래 데이터를 역전하여 사용\n",
    "print(numbers)"
   ]
  },
  {
   "cell_type": "code",
   "execution_count": 77,
   "id": "5a4a2c60-9d62-4bed-9a25-a4e4a155cb42",
   "metadata": {},
   "outputs": [
    {
     "name": "stdout",
     "output_type": "stream",
     "text": [
      "[3, 2, 8, 1, 7, 3, 5]\n",
      "3\n",
      "[5, 3, 7, 1, 8, 2, 3]\n"
     ]
    }
   ],
   "source": [
    "print(numbers)\n",
    "print(numbers[-2]) # 뒤에서부터 데이터를 indexing\n",
    "print(numbers[::-1]) # 결과적으로 reverse와 같은 모습"
   ]
  },
  {
   "cell_type": "markdown",
   "id": "70c395cc-e095-4dcc-bfce-52030a6c8ddc",
   "metadata": {},
   "source": [
    "### 2-1. list copy"
   ]
  },
  {
   "cell_type": "code",
   "execution_count": 78,
   "id": "bdc10d92-f055-4ec3-9a29-3c89925e8249",
   "metadata": {},
   "outputs": [],
   "source": [
    "origin_list = [1, 2, 3]\n",
    "copy_list = origin_list"
   ]
  },
  {
   "cell_type": "code",
   "execution_count": 79,
   "id": "6128b294-8343-48fe-ae3e-2b0d6c3450b9",
   "metadata": {},
   "outputs": [
    {
     "name": "stdout",
     "output_type": "stream",
     "text": [
      "[1, 2, 3]\n",
      "[1, 2, 3]\n"
     ]
    }
   ],
   "source": [
    "print(origin_list)\n",
    "print(copy_list)"
   ]
  },
  {
   "cell_type": "code",
   "execution_count": 80,
   "id": "14ab1863-32bf-4638-ba25-e944097a60b6",
   "metadata": {},
   "outputs": [],
   "source": [
    "origin_list[0] = 100"
   ]
  },
  {
   "cell_type": "code",
   "execution_count": 81,
   "id": "f87171a2-31b6-4f82-a88b-d018c4c367c9",
   "metadata": {},
   "outputs": [
    {
     "name": "stdout",
     "output_type": "stream",
     "text": [
      "[100, 2, 3]\n",
      "[100, 2, 3]\n"
     ]
    }
   ],
   "source": [
    "print(origin_list)\n",
    "print(copy_list) # 주소에 저장된 값이 같기에 같이 수정됨"
   ]
  },
  {
   "cell_type": "code",
   "execution_count": 82,
   "id": "45f5aaa1-c29d-49fd-beae-08a47fb8f0fd",
   "metadata": {},
   "outputs": [
    {
     "name": "stdout",
     "output_type": "stream",
     "text": [
      "[100, 2, 3]\n",
      "[1, 2, 3]\n"
     ]
    }
   ],
   "source": [
    "origin_list = [1, 2, 3]\n",
    "copy_list = origin_list[:] #값을 가지고와서 새로 저장하기에 수정되지 않음\n",
    "\n",
    "origin_list[0] = 100\n",
    "\n",
    "print(origin_list)\n",
    "print(copy_list)"
   ]
  },
  {
   "cell_type": "code",
   "execution_count": 83,
   "id": "d989ec76-1518-449e-9d63-80014803b02c",
   "metadata": {},
   "outputs": [
    {
     "name": "stdout",
     "output_type": "stream",
     "text": [
      "[100, 2, [300, 4]]\n",
      "[1, 2, [300, 4]]\n"
     ]
    }
   ],
   "source": [
    "origin_list = [    1,   2,  [3, 4]   ]\n",
    "copy_list = origin_list[:]\n",
    "\n",
    "origin_list[0] = 100\n",
    "origin_list[2][0] = 300\n",
    "\n",
    "print(origin_list)\n",
    "print(copy_list)"
   ]
  },
  {
   "cell_type": "code",
   "execution_count": 84,
   "id": "f0f89841-7230-4c87-b6b1-aa27986ab13c",
   "metadata": {},
   "outputs": [
    {
     "name": "stdout",
     "output_type": "stream",
     "text": [
      "[100, 2, [300, 4]]\n",
      "[1, 2, [3, 4]]\n"
     ]
    }
   ],
   "source": [
    "import copy\n",
    "origin_list = [1, 2, [3, 4]]\n",
    "copy_list = copy.deepcopy(origin_list)\n",
    "\n",
    "origin_list[0] = 100\n",
    "origin_list[2][0] = 300\n",
    "\n",
    "print(origin_list)\n",
    "print(copy_list)"
   ]
  },
  {
   "cell_type": "markdown",
   "id": "3acc092b-5710-4e9b-a49c-a02e1abb15ae",
   "metadata": {},
   "source": [
    "### 2-2. list comprehension"
   ]
  },
  {
   "cell_type": "code",
   "execution_count": 86,
   "id": "d3917ce1-0d40-4eea-8c1c-60b45cdf4c01",
   "metadata": {},
   "outputs": [
    {
     "name": "stdout",
     "output_type": "stream",
     "text": [
      "[1, 2, 3, 4, 5, 6, 7, 8, 9, 10]\n"
     ]
    }
   ],
   "source": [
    "numbers = list(range(1, 11))\n",
    "print(numbers)"
   ]
  },
  {
   "cell_type": "code",
   "execution_count": 92,
   "id": "572e0b3c-44f3-45b9-8538-5e1e63c98236",
   "metadata": {},
   "outputs": [
    {
     "name": "stdout",
     "output_type": "stream",
     "text": [
      "[1, 8, 27, 64, 125, 216, 343, 512, 729, 1000]\n"
     ]
    }
   ],
   "source": [
    "result = []\n",
    "\n",
    "for number in numbers:\n",
    "    temp = number**3\n",
    "    result.append(temp)\n",
    "print(result)"
   ]
  },
  {
   "cell_type": "code",
   "execution_count": 93,
   "id": "685fb44e-3363-4380-aff7-ae41d1d696ac",
   "metadata": {},
   "outputs": [
    {
     "name": "stdout",
     "output_type": "stream",
     "text": [
      "[1, 8, 27, 64, 125, 216, 343, 512, 729, 1000]\n"
     ]
    }
   ],
   "source": [
    "result = [number ** 3 for number in numbers]\n",
    "print(result)"
   ]
  },
  {
   "cell_type": "code",
   "execution_count": 95,
   "id": "4cb8bc3d-7242-45bf-8611-1ac2ac810d51",
   "metadata": {},
   "outputs": [
    {
     "name": "stdout",
     "output_type": "stream",
     "text": [
      "[2, 4, 6, 8, 10]\n"
     ]
    }
   ],
   "source": [
    "# 짝수만 고르기\n",
    "\n",
    "result = []\n",
    "\n",
    "for number in numbers:\n",
    "    if number % 2 == 0:\n",
    "        result.append(number)\n",
    "\n",
    "print(result)"
   ]
  },
  {
   "cell_type": "code",
   "execution_count": 96,
   "id": "03db64af-6718-4fd3-b654-0dcd82f9913a",
   "metadata": {},
   "outputs": [
    {
     "name": "stdout",
     "output_type": "stream",
     "text": [
      "[2, 4, 6, 8, 10]\n"
     ]
    }
   ],
   "source": [
    "result = [number for number in numbers if number % 2 == 0]\n",
    "print(result)"
   ]
  },
  {
   "cell_type": "code",
   "execution_count": 132,
   "id": "f452049e-cd37-4a71-8909-22a9672a494d",
   "metadata": {},
   "outputs": [
    {
     "name": "stdout",
     "output_type": "stream",
     "text": [
      "['m', 'y', ' ', 'n', 'm', ' ', 's', ' ', 'h', 'n', 'g']\n",
      "my nm s hng\n"
     ]
    }
   ],
   "source": [
    "# 연습!\n",
    "\n",
    "words = 'my name is hong'\n",
    "# 모음제거 => my mn s hng\n",
    "\n",
    "vowels = ['a', 'e', 'i', 'o', 'u']\n",
    "result = []\n",
    "\n",
    "for word in words:\n",
    "    if word not in vowels:\n",
    "        #자음인 경우\n",
    "        result.append(word)\n",
    "\n",
    "print(result)\n",
    "print(''.join(result))"
   ]
  },
  {
   "cell_type": "code",
   "execution_count": 134,
   "id": "64527da4-7354-45f9-8ca1-8971d5235933",
   "metadata": {},
   "outputs": [
    {
     "name": "stdout",
     "output_type": "stream",
     "text": [
      "my nm s hng\n"
     ]
    }
   ],
   "source": [
    "vowels = ['a', 'e', 'i', 'o', 'u']\n",
    "result = [char for char in words if char not in vowels]\n",
    "print(''.join(result))"
   ]
  },
  {
   "cell_type": "code",
   "execution_count": 135,
   "id": "0140fdad-0e77-434f-a720-9f61f6cf9388",
   "metadata": {},
   "outputs": [
    {
     "name": "stdout",
     "output_type": "stream",
     "text": [
      "my nm s hng\n"
     ]
    }
   ],
   "source": [
    "# 3. replace 메소드 활용\n",
    "\n",
    "vowels = ['a', 'e', 'i', 'o', 'u']\n",
    "\n",
    "for char in vowels:\n",
    "    words = words.replace(char, '')\n",
    "\n",
    "print(words)"
   ]
  },
  {
   "cell_type": "markdown",
   "id": "dce29caf-7113-4ffa-affa-5c260884255d",
   "metadata": {},
   "source": [
    "## 3. Dictionary 메소드"
   ]
  },
  {
   "cell_type": "code",
   "execution_count": 137,
   "id": "ca7f4090-c4c6-4335-967f-6b5c7213a181",
   "metadata": {},
   "outputs": [],
   "source": [
    "info = {\n",
    "    'name': 'hong',\n",
    "    'location': 'seoul',\n",
    "    'age': 20,\n",
    "    'models' : ['iphone', 'mac Book', 'watch'],\n",
    "    'phone_book' : {\n",
    "        'kim': '010-1234-1234',\n",
    "        'lee': '010-4567-4567',\n",
    "    }\n",
    "}"
   ]
  },
  {
   "cell_type": "code",
   "execution_count": 141,
   "id": "e62eae8c-ec57-4812-a1a0-b6382b54c84e",
   "metadata": {},
   "outputs": [
    {
     "name": "stdout",
     "output_type": "stream",
     "text": [
      "hong\n",
      "20\n",
      "iphone\n",
      "010-1234-1234\n"
     ]
    }
   ],
   "source": [
    "print(info['name'])\n",
    "print(info['age'])\n",
    "print(info['models'][0])\n",
    "print(info['phone_book']['kim'])"
   ]
  },
  {
   "cell_type": "code",
   "execution_count": 144,
   "id": "077f104b-2c36-4c97-9dcb-14fa320501e7",
   "metadata": {},
   "outputs": [
    {
     "name": "stdout",
     "output_type": "stream",
     "text": [
      "{'name': 'park', 'location': 'seoul', 'age': 20, 'models': ['iphone', 'mac Book', 'watch'], 'phone_book': {'kim': '010-1234-1234', 'lee': '010-4567-4567'}}\n",
      "{'name': 'oh', 'location': 'seoul', 'age': 20, 'models': ['iphone', 'mac Book', 'watch'], 'phone_book': {'kim': '010-1234-1234', 'lee': '010-4567-4567'}}\n"
     ]
    }
   ],
   "source": [
    "# 수정을 위한 메소드\n",
    "info['name'] = 'park'\n",
    "print(info)\n",
    "\n",
    "info.update(name='oh')\n",
    "print(info)"
   ]
  },
  {
   "cell_type": "code",
   "execution_count": 145,
   "id": "aad45f7b-21b6-47bf-99ad-10340989482b",
   "metadata": {},
   "outputs": [
    {
     "name": "stdout",
     "output_type": "stream",
     "text": [
      "{'name': 'oh', 'location': 'seoul', 'models': ['iphone', 'mac Book', 'watch'], 'phone_book': {'kim': '010-1234-1234', 'lee': '010-4567-4567'}} 20\n"
     ]
    }
   ],
   "source": [
    "age = info.pop('age')\n",
    "print(info, age)"
   ]
  },
  {
   "cell_type": "code",
   "execution_count": 148,
   "id": "3c994c01-d813-41e9-940f-53c58a874891",
   "metadata": {},
   "outputs": [
    {
     "name": "stdout",
     "output_type": "stream",
     "text": [
      "oh\n",
      "oh\n"
     ]
    }
   ],
   "source": [
    "#데이터에 접근하는 방법\n",
    "print(info.get('name'))\n",
    "print(info['name'])"
   ]
  },
  {
   "cell_type": "code",
   "execution_count": 150,
   "id": "cb60a3d5-3534-4161-b8f1-19a4a42e2a71",
   "metadata": {},
   "outputs": [
    {
     "ename": "TypeError",
     "evalue": "'builtin_function_or_method' object is not subscriptable",
     "output_type": "error",
     "traceback": [
      "\u001b[0;31m---------------------------------------------------------------------------\u001b[0m",
      "\u001b[0;31mTypeError\u001b[0m                                 Traceback (most recent call last)",
      "Cell \u001b[0;32mIn[150], line 1\u001b[0m\n\u001b[0;32m----> 1\u001b[0m \u001b[38;5;28mprint\u001b[39m(\u001b[43minfo\u001b[49m\u001b[38;5;241;43m.\u001b[39;49m\u001b[43mget\u001b[49m\u001b[43m[\u001b[49m\u001b[38;5;124;43m'\u001b[39;49m\u001b[38;5;124;43mbirth\u001b[39;49m\u001b[38;5;124;43m'\u001b[39;49m\u001b[43m]\u001b[49m)\n",
      "\u001b[0;31mTypeError\u001b[0m: 'builtin_function_or_method' object is not subscriptable"
     ]
    }
   ],
   "source": [
    "print(info.get['birth'])"
   ]
  },
  {
   "cell_type": "code",
   "execution_count": 151,
   "id": "e908fbd4-f8cb-4bd0-9fc9-b6e072b83e60",
   "metadata": {},
   "outputs": [
    {
     "name": "stdout",
     "output_type": "stream",
     "text": [
      "None\n"
     ]
    }
   ],
   "source": [
    "print(info.get('birth'))"
   ]
  },
  {
   "cell_type": "code",
   "execution_count": 169,
   "id": "0803aa45-e202-4a12-9dd7-8b8b47dd2d18",
   "metadata": {},
   "outputs": [
    {
     "name": "stdout",
     "output_type": "stream",
     "text": [
      "{'A': 2, 'B': 2, 'O': 1, 'AB': 1}\n"
     ]
    }
   ],
   "source": [
    "#연습문제\n",
    "blood_type = ['A', 'B', 'B', 'O','AB', 'A']\n",
    "\n",
    "# => blood_dict = {'A': 2, 'B': 2, 'AB': 1, 'O': 1}\n",
    "\n",
    "blood_dict = {}\n",
    "\n",
    "for I in blood_type:\n",
    "    if I == 'A':\n",
    "        blood_dict['A'] = blood_type.count('A')\n",
    "    elif I == 'B':\n",
    "        blood_dict['B'] = blood_type.count('B')\n",
    "    elif I == 'AB':\n",
    "        blood_dict['AB'] = blood_type.count('AB')\n",
    "    else:\n",
    "        blood_dict['O'] = blood_type.count('O')\n",
    "print(blood_dict)"
   ]
  },
  {
   "cell_type": "code",
   "execution_count": 170,
   "id": "9a78528c-c336-4d2f-9b2b-5e537d0baa44",
   "metadata": {},
   "outputs": [
    {
     "name": "stdout",
     "output_type": "stream",
     "text": [
      "{'A': 2, 'B': 2, 'AB': 1, 'O': 1}\n"
     ]
    }
   ],
   "source": [
    "result = {\n",
    "    'A': 0,\n",
    "    'B': 0,\n",
    "    'AB': 0,\n",
    "    'O': 0,\n",
    "}\n",
    "\n",
    "for blood in blood_type:\n",
    "    result[blood] += 1\n",
    "\n",
    "print(result)\n",
    "        "
   ]
  },
  {
   "cell_type": "code",
   "execution_count": 175,
   "id": "15540657-5f46-4192-bd47-9ca7e3acb8a8",
   "metadata": {},
   "outputs": [
    {
     "name": "stdout",
     "output_type": "stream",
     "text": [
      "{'서울': 2, '대전': 1, '부산': 1, '강릉': 1, 'LA': 1, '도쿄': 1}\n"
     ]
    }
   ],
   "source": [
    "locations = ['서울', '대전', '서울', '부산', '강릉', 'LA', '도쿄']\n",
    "\n",
    "result = {}\n",
    "\n",
    "for location in locations:\n",
    "    result[location] = locations.count(location)\n",
    "\n",
    "print(result)"
   ]
  },
  {
   "cell_type": "code",
   "execution_count": 176,
   "id": "7bd2169e-df67-42a9-a041-37f04d22e43e",
   "metadata": {},
   "outputs": [
    {
     "name": "stdout",
     "output_type": "stream",
     "text": [
      "{'서울': 2, '대전': 1, '부산': 1, '강릉': 1, 'LA': 1, '도쿄': 1}\n"
     ]
    }
   ],
   "source": [
    "result = {}\n",
    "\n",
    "for location in locations:\n",
    "    if result.get(location):\n",
    "        result[location] += 1\n",
    "    else:\n",
    "        result[location] = 1\n",
    "print(result)"
   ]
  },
  {
   "cell_type": "markdown",
   "id": "3e2ed25f-bc37-4d20-9f36-0c811fcf704f",
   "metadata": {},
   "source": [
    "### 3-1. dict comprehension"
   ]
  },
  {
   "cell_type": "code",
   "execution_count": 177,
   "id": "381d5e21-e5c2-49d3-a7d4-79da989146d7",
   "metadata": {},
   "outputs": [
    {
     "name": "stdout",
     "output_type": "stream",
     "text": [
      "{1: 1, 2: 8, 3: 27, 4: 64, 5: 125, 6: 216, 7: 343, 8: 512, 9: 729, 10: 1000}\n"
     ]
    }
   ],
   "source": [
    "# {1: 1, 2: 8, 3: 27, ... 10: 1000}\n",
    "\n",
    "result = {}\n",
    "numbers = list(range(1, 11))\n",
    "\n",
    "for number in numbers:\n",
    "    result[number] = number ** 3\n",
    "\n",
    "print(result)"
   ]
  },
  {
   "cell_type": "code",
   "execution_count": 178,
   "id": "33ed7aca-5444-468a-8fb6-f335c9570728",
   "metadata": {},
   "outputs": [
    {
     "name": "stdout",
     "output_type": "stream",
     "text": [
      "{1: 1, 2: 8, 3: 27, 4: 64, 5: 125, 6: 216, 7: 343, 8: 512, 9: 729, 10: 1000}\n"
     ]
    }
   ],
   "source": [
    "result = {number: number ** 3 for number in numbers}\n",
    "print(result)"
   ]
  },
  {
   "cell_type": "code",
   "execution_count": 182,
   "id": "81367fd4-60fa-428c-9391-15953c7fedb7",
   "metadata": {},
   "outputs": [
    {
     "name": "stdout",
     "output_type": "stream",
     "text": [
      "{'대전': 100, '광주': 90}\n"
     ]
    }
   ],
   "source": [
    "dust = {\n",
    "    '서울': 50,\n",
    "    '대전': 100,\n",
    "    '부산': 70,\n",
    "    '광주': 90,\n",
    "}\n",
    "\n",
    "# result = {'대전': 100, '광주': 90}\n",
    "result = {}\n",
    "for key, value in dust.items():\n",
    "    if value > 70:\n",
    "        result[key] = value\n",
    "print(result)"
   ]
  },
  {
   "cell_type": "code",
   "execution_count": 185,
   "id": "9649c467-2d50-4f70-abc7-b8959113aa41",
   "metadata": {},
   "outputs": [
    {
     "name": "stdout",
     "output_type": "stream",
     "text": [
      "{'대전': '나쁨', '광주': '나쁨'}\n"
     ]
    }
   ],
   "source": [
    "# comp\n",
    "result = {k: '나쁨' for k, v in dust.items() if v > 70}\n",
    "print(result)"
   ]
  },
  {
   "cell_type": "markdown",
   "id": "e406fc4d-1438-479c-8ee0-4e9d6b25a0de",
   "metadata": {},
   "source": [
    "## 4. 세트(set) 메소드"
   ]
  },
  {
   "cell_type": "code",
   "execution_count": 206,
   "id": "e4635068-868b-4792-b99a-04cf26b73074",
   "metadata": {},
   "outputs": [],
   "source": [
    "#set\n",
    "fruits = {'apple', 'banana', 'melon'}"
   ]
  },
  {
   "cell_type": "code",
   "execution_count": 207,
   "id": "ad19a8a3-2c37-4ccf-8560-a315ba9661be",
   "metadata": {},
   "outputs": [
    {
     "name": "stdout",
     "output_type": "stream",
     "text": [
      "{'melon', 'banana', 'apple'}\n"
     ]
    }
   ],
   "source": [
    "print(fruits)"
   ]
  },
  {
   "cell_type": "code",
   "execution_count": 208,
   "id": "578b5ff5-e4b0-4e38-8b1c-a729bc182a3f",
   "metadata": {},
   "outputs": [
    {
     "name": "stdout",
     "output_type": "stream",
     "text": [
      "{'melon', 'watermalon', 'banana', 'apple'}\n"
     ]
    }
   ],
   "source": [
    "# set를 안에 값을 넣는 것\n",
    "fruits.add('watermalon')\n",
    "print(fruits)"
   ]
  },
  {
   "cell_type": "code",
   "execution_count": 209,
   "id": "491901c8-d63f-4c4c-adaf-8d9ce28c9fb9",
   "metadata": {},
   "outputs": [
    {
     "name": "stdout",
     "output_type": "stream",
     "text": [
      "{'grape', 'watermalon', 'banana', 'melon', 'orange', 'apple'}\n"
     ]
    }
   ],
   "source": [
    "# => extends 원래 set와 다른 set를 합치기 위해 사용\n",
    "fruits.update({'grape', 'orange'})\n",
    "print(fruits)"
   ]
  },
  {
   "cell_type": "code",
   "execution_count": 210,
   "id": "66058532-c4ec-4239-b8cb-53004ad207ca",
   "metadata": {},
   "outputs": [
    {
     "name": "stdout",
     "output_type": "stream",
     "text": [
      "{'grape', 'watermalon', 'banana', 'melon', 'orange'}\n"
     ]
    }
   ],
   "source": [
    "fruits.remove('apple')\n",
    "print(fruits)"
   ]
  },
  {
   "cell_type": "code",
   "execution_count": 211,
   "id": "661d0640-8591-4dcd-bd37-745bd80c7453",
   "metadata": {},
   "outputs": [
    {
     "name": "stdout",
     "output_type": "stream",
     "text": [
      "{'watermalon', 'banana', 'melon', 'orange'}\n"
     ]
    }
   ],
   "source": [
    "fruits.pop()\n",
    "print(fruits)"
   ]
  },
  {
   "cell_type": "markdown",
   "id": "4074276d-3d99-40a8-96b0-a2e7d888e9d8",
   "metadata": {},
   "source": [
    "## 5. map, filter, zip\n",
    "> 반복작업을 조금 편하게 도와주는 함수"
   ]
  },
  {
   "cell_type": "markdown",
   "id": "586911ce-b5ac-470d-9624-efac5eff7036",
   "metadata": {},
   "source": [
    "### 5-1. map\n",
    "> map(function, iterable)"
   ]
  },
  {
   "cell_type": "code",
   "execution_count": 214,
   "id": "a97f0e1e-0912-4c3b-a7cd-5574d592b84e",
   "metadata": {},
   "outputs": [
    {
     "name": "stdout",
     "output_type": "stream",
     "text": [
      "['1', '2', '3', '4', '5']\n"
     ]
    }
   ],
   "source": [
    "numbers = [1, 2, 3, 4, 5]\n",
    "# => ['1', '2', '3', '4', '5']\n",
    "\n",
    "result = []\n",
    "for number in numbers:\n",
    "    result.append(str(number))\n",
    "print(result)"
   ]
  },
  {
   "cell_type": "code",
   "execution_count": 220,
   "id": "e9c67bac-f966-4a31-9a55-97e15ed1ecb7",
   "metadata": {},
   "outputs": [
    {
     "name": "stdout",
     "output_type": "stream",
     "text": [
      "<map object at 0x105cd9900>\n",
      "['1', '2', '3', '4', '5']\n"
     ]
    }
   ],
   "source": [
    "result = map(str, numbers)\n",
    "\n",
    "print(result)\n",
    "\n",
    "print(list(result)) #list로 바꿔야 출력 가능"
   ]
  },
  {
   "cell_type": "code",
   "execution_count": 217,
   "id": "242a99fd-74bb-4d03-b9a2-f2b437116c83",
   "metadata": {},
   "outputs": [
    {
     "name": "stdout",
     "output_type": "stream",
     "text": [
      "[1, 8, 27, 64, 125]\n"
     ]
    }
   ],
   "source": [
    "result = []\n",
    "\n",
    "for number in numbers:\n",
    "    result.append(number ** 3)\n",
    "print(result)"
   ]
  },
  {
   "cell_type": "code",
   "execution_count": 218,
   "id": "f583c5c1-0e9b-4cfa-b090-7cb915b7e841",
   "metadata": {},
   "outputs": [],
   "source": [
    "def cube(x):\n",
    "    return x ** 3"
   ]
  },
  {
   "cell_type": "code",
   "execution_count": 219,
   "id": "bdf1a856-b80d-4776-8711-41dae6d43a96",
   "metadata": {},
   "outputs": [
    {
     "name": "stdout",
     "output_type": "stream",
     "text": [
      "[1, 8, 27, 64, 125]\n"
     ]
    }
   ],
   "source": [
    "result = map(cube, numbers)\n",
    "print(list(result))"
   ]
  },
  {
   "cell_type": "code",
   "execution_count": 233,
   "id": "c4f51da4-5bfa-4359-91f1-2e2e6eecf640",
   "metadata": {},
   "outputs": [
    {
     "name": "stdout",
     "output_type": "stream",
     "text": [
      "[1, 3, 5, 7, 9]\n"
     ]
    }
   ],
   "source": [
    "test_input = '1 3 5 7 9'\n",
    "print(list(map(int, test_input.split())))"
   ]
  },
  {
   "cell_type": "markdown",
   "id": "f3b89fc8-7475-4d09-80cd-8d223d56ff81",
   "metadata": {},
   "source": [
    "### 5-2. filter\n",
    "> filter(function, iterable)"
   ]
  },
  {
   "cell_type": "code",
   "execution_count": 237,
   "id": "cab4fd66-7c80-4bcc-9caf-c2ddfc561078",
   "metadata": {},
   "outputs": [],
   "source": [
    "def is_odd(x):\n",
    "    return x % 2"
   ]
  },
  {
   "cell_type": "code",
   "execution_count": 234,
   "id": "99d5b389-492b-4cc0-9d26-11ab0c85473b",
   "metadata": {},
   "outputs": [
    {
     "name": "stdout",
     "output_type": "stream",
     "text": [
      "[1, 3, 5]\n"
     ]
    }
   ],
   "source": [
    "numbers = [1, 2, 3, 4, 5]\n",
    "\n",
    "result = []\n",
    "for number in numbers:\n",
    "    if number % 2:\n",
    "        result.append(number)\n",
    "print(result)"
   ]
  },
  {
   "cell_type": "code",
   "execution_count": 239,
   "id": "9caba824-f521-421b-9ba6-ad0d72ff37d6",
   "metadata": {},
   "outputs": [
    {
     "name": "stdout",
     "output_type": "stream",
     "text": [
      "[1, 3, 5]\n"
     ]
    }
   ],
   "source": [
    "# 값에 부합하는 값만 추출\n",
    "result = filter(is_odd, numbers)\n",
    "print(list(result))"
   ]
  },
  {
   "cell_type": "markdown",
   "id": "eaaa8d71-dc42-4d17-b66b-723927c2100a",
   "metadata": {},
   "source": [
    "### 5-3 zip"
   ]
  },
  {
   "cell_type": "code",
   "execution_count": 241,
   "id": "6e54701c-5d88-4f09-b4b2-02dd9e666a40",
   "metadata": {},
   "outputs": [
    {
     "name": "stdout",
     "output_type": "stream",
     "text": [
      "<zip object at 0x1055b8fc0>\n",
      "[(1, 100), (2, 200), (3, 300)]\n"
     ]
    }
   ],
   "source": [
    "# 같은 위치에 있는 값을 묶을 때 사용\n",
    "a = [1, 2, 3]\n",
    "b = [100, 200, 300, 400, 500]\n",
    "\n",
    "result = zip(a, b)\n",
    "print(result)\n",
    "print(list(result))"
   ]
  }
 ],
 "metadata": {
  "kernelspec": {
   "display_name": "Python 3 (ipykernel)",
   "language": "python",
   "name": "python3"
  },
  "language_info": {
   "codemirror_mode": {
    "name": "ipython",
    "version": 3
   },
   "file_extension": ".py",
   "mimetype": "text/x-python",
   "name": "python",
   "nbconvert_exporter": "python",
   "pygments_lexer": "ipython3",
   "version": "3.12.4"
  }
 },
 "nbformat": 4,
 "nbformat_minor": 5
}
