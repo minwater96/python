{
 "cells": [
  {
   "cell_type": "markdown",
   "id": "fd3a01b6-3985-40b5-9b36-451344adcb7b",
   "metadata": {},
   "source": [
    "# 객체지향 프로그래밍(OOP)"
   ]
  },
  {
   "cell_type": "markdown",
   "id": "962af840-c1ae-4c1d-a174-0d860414b86b",
   "metadata": {},
   "source": [
    "- 클래스(class): 같은 종류의 속하는 속성(attribute)과 행위(method)를 정의한 것\n",
    "- 인스턴스(instance): 클래스를 실제로 메모리상에 할당한 것\n",
    "- 속성(attribute): 클래스/인스턴스가 가지고 있는 데이터/값\n",
    "- 행위(method): 클래스/인스턴스가 가지고 있는 함수/기능"
   ]
  },
  {
   "cell_type": "code",
   "execution_count": 1,
   "id": "cabfa143-7308-4c50-8643-ad9e60064c53",
   "metadata": {},
   "outputs": [],
   "source": [
    "number = 1 + 2j"
   ]
  },
  {
   "cell_type": "code",
   "execution_count": 2,
   "id": "de685330-e99c-4de6-ba41-b1f8723f1842",
   "metadata": {},
   "outputs": [
    {
     "data": {
      "text/plain": [
       "complex"
      ]
     },
     "execution_count": 2,
     "metadata": {},
     "output_type": "execute_result"
    }
   ],
   "source": [
    "type(number)"
   ]
  },
  {
   "cell_type": "code",
   "execution_count": 4,
   "id": "613b4bb0-f76d-4c55-9d8c-a9d8c84d1c0e",
   "metadata": {},
   "outputs": [
    {
     "name": "stdout",
     "output_type": "stream",
     "text": [
      "1.0\n",
      "2.0\n"
     ]
    }
   ],
   "source": [
    "print(number.real)\n",
    "print(number.imag)"
   ]
  },
  {
   "cell_type": "code",
   "execution_count": 5,
   "id": "78307e40-a944-4278-be01-210843d49137",
   "metadata": {},
   "outputs": [],
   "source": [
    "numbers = [1, 2, 3]"
   ]
  },
  {
   "cell_type": "code",
   "execution_count": 6,
   "id": "315b40b6-7ed9-4890-b31d-3824bfa1c1eb",
   "metadata": {},
   "outputs": [
    {
     "data": {
      "text/plain": [
       "list"
      ]
     },
     "execution_count": 6,
     "metadata": {},
     "output_type": "execute_result"
    }
   ],
   "source": [
    "type(numbers)"
   ]
  },
  {
   "cell_type": "code",
   "execution_count": 11,
   "id": "fc6655f8-8d32-41cb-b661-575dee80f799",
   "metadata": {},
   "outputs": [
    {
     "name": "stdout",
     "output_type": "stream",
     "text": [
      "[3, 2, 1]\n"
     ]
    }
   ],
   "source": [
    "numbers.reverse()\n",
    "print(numbers)"
   ]
  },
  {
   "cell_type": "code",
   "execution_count": 13,
   "id": "3af49d15-3869-4ac5-b8f1-acb9ba44e93a",
   "metadata": {},
   "outputs": [
    {
     "name": "stdout",
     "output_type": "stream",
     "text": [
      "010-1234-1234에서 010-4567-4567로 전화거는중\n"
     ]
    }
   ],
   "source": [
    "power = False\n",
    "number_hong = '010-1234-1234'\n",
    "book = {\n",
    "    'kim': '010-4567-4567',\n",
    "    'park': '010-4321-4321',\n",
    "}\n",
    "\n",
    "def call(from_number, to_number):\n",
    "    print(f'{from_number}에서 {to_number}로 전화거는중') \n",
    "\n",
    "call(number, book['kim'])"
   ]
  },
  {
   "cell_type": "code",
   "execution_count": null,
   "id": "3f99583c-34a3-411d-8605-de139d2ba896",
   "metadata": {},
   "outputs": [],
   "source": [
    "# kim의 전화 정보를 만들기 위해서는 다시 새롭게 해야함 -> 비효율적"
   ]
  },
  {
   "cell_type": "markdown",
   "id": "fa155d48-ade3-43db-b5af-e7bbcdccd50c",
   "metadata": {},
   "source": [
    "## 1. Class\n",
    "\n",
    "- 클래스 선언\n",
    "```python\n",
    "class ClassName():\n",
    "    attribute1 = value1\n",
    "    attribute2 = value2\n",
    "    ...\n",
    "    \n",
    "    def method_name1(self):\n",
    "        code\n",
    "\n",
    "    def method_name2(self):\n",
    "        code\n",
    "    ...\n",
    "```\n",
    "\n",
    "- 인스턴스화 (클래스 실행)\n",
    "\n",
    "```python\n",
    "c = ClassName()\n",
    "```"
   ]
  },
  {
   "cell_type": "code",
   "execution_count": 20,
   "id": "61d56f2c-3e8c-493a-b59f-39b90a4a93a4",
   "metadata": {},
   "outputs": [],
   "source": [
    "#선언\n",
    "class MyClass():\n",
    "    name = 'kim'\n",
    "\n",
    "    def hello(self):\n",
    "        return 'hello'"
   ]
  },
  {
   "cell_type": "code",
   "execution_count": 21,
   "id": "0360a3e4-4a04-457d-9c5e-70bd36a9027d",
   "metadata": {},
   "outputs": [
    {
     "name": "stdout",
     "output_type": "stream",
     "text": [
      "<__main__.MyClass object at 0x1051e08f0>\n",
      "<class '__main__.MyClass'>\n"
     ]
    }
   ],
   "source": [
    "# 인스턴스화\n",
    "m = MyClass()\n",
    "print(m)\n",
    "print(type(m))"
   ]
  },
  {
   "cell_type": "code",
   "execution_count": 22,
   "id": "a046861c-f09f-406d-91a0-bc3d0b20e158",
   "metadata": {},
   "outputs": [
    {
     "name": "stdout",
     "output_type": "stream",
     "text": [
      "kim\n",
      "hello\n"
     ]
    }
   ],
   "source": [
    "#데이터에 접근\n",
    "print(m.name)\n",
    "print(m.hello())"
   ]
  },
  {
   "cell_type": "code",
   "execution_count": 23,
   "id": "1ce7a403-2f15-4892-bf32-84c554e8d504",
   "metadata": {},
   "outputs": [
    {
     "name": "stdout",
     "output_type": "stream",
     "text": [
      "<__main__.MyClass object at 0x1051b4f80>\n"
     ]
    }
   ],
   "source": [
    "m2 = MyClass()\n",
    "print(m2)"
   ]
  },
  {
   "cell_type": "code",
   "execution_count": 24,
   "id": "8f222b23-b3bb-4076-8dc0-6f9c064ce87f",
   "metadata": {},
   "outputs": [
    {
     "name": "stdout",
     "output_type": "stream",
     "text": [
      "park\n",
      "hello\n"
     ]
    }
   ],
   "source": [
    "m2.name = 'park'\n",
    "print(m2.name)\n",
    "print(m2.hello())"
   ]
  },
  {
   "cell_type": "code",
   "execution_count": 40,
   "id": "8329efcb-b657-4e39-81a8-17f41c0a2602",
   "metadata": {},
   "outputs": [],
   "source": [
    "class phone():\n",
    "    power = False\n",
    "    number = '010-0000-0000'\n",
    "    book = {}\n",
    "    model = ''\n",
    "\n",
    "    def on(self):\n",
    "        if self.power == False:\n",
    "            self.power = True\n",
    "\n",
    "    def off(self):\n",
    "        if self.power == True:\n",
    "            self.power = False\n",
    "\n",
    "    def call(self, target):\n",
    "        if self.power == True:\n",
    "            print(f'{self.number}에서 {target}로 전화거는중.')\n",
    "        else:\n",
    "            print('핸드폰이 꺼져있습니다.')"
   ]
  },
  {
   "cell_type": "code",
   "execution_count": 47,
   "id": "28625463-4a86-4339-b918-e12d755edccb",
   "metadata": {},
   "outputs": [],
   "source": [
    "my_phone = phone()\n",
    "your_phone = phone()"
   ]
  },
  {
   "cell_type": "code",
   "execution_count": 48,
   "id": "5cd17a2f-cd69-42e7-b45e-1e5651125374",
   "metadata": {},
   "outputs": [
    {
     "name": "stdout",
     "output_type": "stream",
     "text": [
      "010-1234-1234\n"
     ]
    }
   ],
   "source": [
    "my_phone.number = '010-1234-1234'\n",
    "print(my_phone.number)"
   ]
  },
  {
   "cell_type": "code",
   "execution_count": 49,
   "id": "b2c46d89-58c0-45ec-b09b-bb0317e6fc8f",
   "metadata": {},
   "outputs": [
    {
     "name": "stdout",
     "output_type": "stream",
     "text": [
      "010-4321-4321\n"
     ]
    }
   ],
   "source": [
    "your_phone.number = '010-4321-4321'\n",
    "print(your_phone.number)"
   ]
  },
  {
   "cell_type": "code",
   "execution_count": 50,
   "id": "dcd0fa15-ba5c-4cf0-bf7c-4efbefcf2fab",
   "metadata": {},
   "outputs": [
    {
     "name": "stdout",
     "output_type": "stream",
     "text": [
      "핸드폰이 꺼져있습니다.\n"
     ]
    }
   ],
   "source": [
    "my_phone.call(your_phone.number)"
   ]
  },
  {
   "cell_type": "code",
   "execution_count": 52,
   "id": "462c5ee3-da82-446a-8ce8-8bcc10ed6b0b",
   "metadata": {},
   "outputs": [
    {
     "name": "stdout",
     "output_type": "stream",
     "text": [
      "010-1234-1234에서 010-4321-4321로 전화거는중.\n",
      "010-1234-1234에서 112로 전화거는중.\n"
     ]
    }
   ],
   "source": [
    "my_phone.on()\n",
    "my_phone.call(your_phone.number)\n",
    "my_phone.call('112')"
   ]
  },
  {
   "cell_type": "code",
   "execution_count": 53,
   "id": "c9c7fc33-71f9-4123-a382-c56eda3b6869",
   "metadata": {},
   "outputs": [
    {
     "name": "stdout",
     "output_type": "stream",
     "text": [
      "010-4321-4321에서 119로 전화거는중.\n"
     ]
    }
   ],
   "source": [
    "your_phone.on()\n",
    "your_phone.call('119')"
   ]
  },
  {
   "cell_type": "code",
   "execution_count": 88,
   "id": "8551b386-b967-4441-b58b-d17eaaa5106f",
   "metadata": {},
   "outputs": [],
   "source": [
    "# \n",
    "class MyList():\n",
    "    data = []\n",
    "    \n",
    "    def append(self, number):\n",
    "        self.data = self.data + [number]\n",
    "\n",
    "    def pop(self):\n",
    "        result = self.data[-1]\n",
    "        self.data = self.data[:-1]\n",
    "        return result"
   ]
  },
  {
   "cell_type": "code",
   "execution_count": 89,
   "id": "2d47a1e9-3844-44db-af20-629da61da7eb",
   "metadata": {},
   "outputs": [
    {
     "name": "stdout",
     "output_type": "stream",
     "text": [
      "[]\n",
      "[5]\n",
      "[5, 10]\n",
      "[5]\n"
     ]
    }
   ],
   "source": [
    "list_a = MyList()\n",
    "\n",
    "print(list_a.data) #=> []\n",
    "\n",
    "list_a.append(5)\n",
    "print(list_a.data) #=> [5]\n",
    "\n",
    "list_a.append(10)\n",
    "print(list_a.data) #=> [5, 10]\n",
    "\n",
    "list_a.pop()\n",
    "print(list_a.data) #=> [5]"
   ]
  },
  {
   "cell_type": "code",
   "execution_count": 90,
   "id": "464fc7a0-f4a3-46a2-9bba-3363fcc35883",
   "metadata": {},
   "outputs": [
    {
     "name": "stdout",
     "output_type": "stream",
     "text": [
      "['일', '이', '삼']\n"
     ]
    }
   ],
   "source": [
    "list_b = MyList()\n",
    "list_b.append('일')\n",
    "list_b.append('이')\n",
    "list_b.append('삼')\n",
    "print(list_b.data)"
   ]
  },
  {
   "cell_type": "markdown",
   "id": "9b1797c5-7532-472a-b24e-9ca14cc85df9",
   "metadata": {},
   "source": [
    "## 2. 생성자, 소멸자\n",
    "\n",
    "```python\n",
    "class person():\n",
    "    name = 'kim'\n",
    "\n",
    "    def __init__(self):\n",
    "        pass\n",
    "\n",
    "    def __del__(self):\n",
    "        pass\n",
    "        \n",
    "```"
   ]
  },
  {
   "cell_type": "code",
   "execution_count": 102,
   "id": "39191e06-2883-41e2-bcd4-4c0057096480",
   "metadata": {},
   "outputs": [],
   "source": [
    "class Person():\n",
    "    name = ''\n",
    "\n",
    "    def __init__(self, name='익명'):\n",
    "        self.name = name\n",
    "        print('생성됨')\n",
    "\n",
    "    def __del__(self):\n",
    "        print('소멸됨')"
   ]
  },
  {
   "cell_type": "code",
   "execution_count": 101,
   "id": "e8986280-e9ea-4825-9649-2d02df1941fc",
   "metadata": {},
   "outputs": [
    {
     "name": "stdout",
     "output_type": "stream",
     "text": [
      "생성됨\n",
      "소멸됨\n",
      "kim\n"
     ]
    }
   ],
   "source": [
    "p1 = Person('kim')\n",
    "print(p1.name)"
   ]
  },
  {
   "cell_type": "code",
   "execution_count": 104,
   "id": "9db54a8a-71b7-4fef-a3ec-a27527091750",
   "metadata": {},
   "outputs": [
    {
     "name": "stdout",
     "output_type": "stream",
     "text": [
      "생성됨\n",
      "소멸됨\n",
      "익명\n"
     ]
    }
   ],
   "source": [
    "p2 = Person()\n",
    "print(p2.name)"
   ]
  },
  {
   "cell_type": "code",
   "execution_count": 105,
   "id": "9e43a915-6ab4-4960-96ab-889bc3152004",
   "metadata": {},
   "outputs": [
    {
     "name": "stdout",
     "output_type": "stream",
     "text": [
      "소멸됨\n"
     ]
    }
   ],
   "source": [
    "del p2"
   ]
  },
  {
   "cell_type": "code",
   "execution_count": 124,
   "id": "aa1a8de5-04e4-4be8-a4e3-c91d29b8a19d",
   "metadata": {},
   "outputs": [],
   "source": [
    "class Circle():\n",
    "    pi = 3.14\n",
    "\n",
    "    def __init__(self, r, x=0, y=0):\n",
    "        self.r = r\n",
    "        self.x = x\n",
    "        self.y = y\n",
    "\n",
    "    def area(self):\n",
    "        return (self.pi * (self.r ** 2))\n",
    "\n",
    "    def center(self):\n",
    "        return (self.x, self.y)\n",
    "\n",
    "    def move(self, x, y):\n",
    "        self.x = x\n",
    "        self.y = y\n",
    "        print(f'원의 중심이 {x}, {y}로 이동했습니다.')\n",
    "\n",
    "    def round(self):\n",
    "        return self.r * self.pi * 2"
   ]
  },
  {
   "cell_type": "code",
   "execution_count": 125,
   "id": "aeba1e42-b9ea-4af3-a7df-34d4e1ea7789",
   "metadata": {},
   "outputs": [],
   "source": [
    "c1 = Circle(5)\n",
    "c2 = Circle(10, 3, 3)"
   ]
  },
  {
   "cell_type": "code",
   "execution_count": 126,
   "id": "2635284b-875f-4659-ae94-c2838782b3a0",
   "metadata": {},
   "outputs": [
    {
     "name": "stdout",
     "output_type": "stream",
     "text": [
      "78.5\n",
      "314.0\n"
     ]
    }
   ],
   "source": [
    "print(c1.area())\n",
    "print(c2.area())"
   ]
  },
  {
   "cell_type": "code",
   "execution_count": 127,
   "id": "b5d9fecc-db4c-4ff9-a688-2886579764a4",
   "metadata": {},
   "outputs": [
    {
     "name": "stdout",
     "output_type": "stream",
     "text": [
      "(0, 0)\n",
      "(3, 3)\n"
     ]
    }
   ],
   "source": [
    "print(c1.center())\n",
    "print(c2.center())"
   ]
  },
  {
   "cell_type": "code",
   "execution_count": 122,
   "id": "b81a9606-1eb1-428e-a40e-cc796ac90cb5",
   "metadata": {},
   "outputs": [
    {
     "name": "stdout",
     "output_type": "stream",
     "text": [
      "원의 중심이 10, 10로 이동했습니다.\n",
      "None\n",
      "원의 중심이 2, 9로 이동했습니다.\n",
      "None\n"
     ]
    }
   ],
   "source": [
    "print(c1.move(10, 10))\n",
    "print(c2.move(2, 9))"
   ]
  },
  {
   "cell_type": "code",
   "execution_count": 131,
   "id": "d8685c26-36c1-4738-bcfc-90f0828fffd7",
   "metadata": {},
   "outputs": [
    {
     "name": "stdout",
     "output_type": "stream",
     "text": [
      "31.4\n",
      "62.8\n"
     ]
    }
   ],
   "source": [
    "print(round(c1.round(), 2))\n",
    "print(round(c2.round(), 2))"
   ]
  },
  {
   "cell_type": "code",
   "execution_count": 151,
   "id": "0a7ae458-dde6-4e0f-9454-b1612dce9110",
   "metadata": {},
   "outputs": [],
   "source": [
    "class Point():\n",
    "    def __init__(self, x, y):\n",
    "        self.x = x\n",
    "        self.y = y\n",
    "\n",
    "    def info(self):\n",
    "        return (self.x, self.y)"
   ]
  },
  {
   "cell_type": "code",
   "execution_count": 160,
   "id": "26694e5a-815b-4240-987f-d516a0a0047d",
   "metadata": {},
   "outputs": [],
   "source": [
    "class Circle():\n",
    "    \n",
    "    def __init__(self, point, r):\n",
    "        self.point = point\n",
    "        self.r = r\n",
    "\n",
    "    def info(self):\n",
    "        return (self.point.x, self.point.y, self.r)\n",
    "\n",
    "    def move(self, x, y):\n",
    "        self.point.x = x\n",
    "        self.point.y = y"
   ]
  },
  {
   "cell_type": "code",
   "execution_count": 153,
   "id": "57bb6f64-8274-4293-95fb-7b4c285c7a9e",
   "metadata": {},
   "outputs": [
    {
     "name": "stdout",
     "output_type": "stream",
     "text": [
      "(1, 2)\n"
     ]
    }
   ],
   "source": [
    "p1 = Point(1, 2)\n",
    "print(p1.info())"
   ]
  },
  {
   "cell_type": "code",
   "execution_count": 161,
   "id": "2bbefddd-c621-437d-862e-4dae9d658c0e",
   "metadata": {},
   "outputs": [
    {
     "name": "stdout",
     "output_type": "stream",
     "text": [
      "(1, 2, 5)\n"
     ]
    }
   ],
   "source": [
    "c1 = Circle(p1, 5)\n",
    "print(c1.info())"
   ]
  },
  {
   "cell_type": "code",
   "execution_count": 162,
   "id": "1d90ed94-fb7e-4bf8-9a69-d7d91bc2d8e3",
   "metadata": {},
   "outputs": [
    {
     "name": "stdout",
     "output_type": "stream",
     "text": [
      "(5, 5, 5)\n"
     ]
    }
   ],
   "source": [
    "c1.move(5, 5)\n",
    "print(c1.info())"
   ]
  },
  {
   "cell_type": "markdown",
   "id": "96c63734-5ac5-4f5f-a5db-f1f2eb5b7029",
   "metadata": {},
   "source": [
    "## 3. 클래스 변수\n",
    "- 클래스 선언 블록 최상단에 위치\n",
    "\n",
    "## 3. 인스턴스 변수\n",
    "- 인스턴스 내부에서 생성한 변수 (`self.variavle = `)\n",
    "\n",
    "```python\n",
    "class MyClass():\n",
    "    class_variable = '클래스변수'\n",
    "\n",
    "    def __init__(self):\n",
    "        self.instancd_vaiable = '인스턴스변수'\n",
    "```"
   ]
  },
  {
   "cell_type": "code",
   "execution_count": 165,
   "id": "b2354d8c-2ee5-4d51-8a81-67963dd4adc5",
   "metadata": {},
   "outputs": [],
   "source": [
    "class Person():\n",
    "    name = '홍길동'\n",
    "    phone = '010-1234-1234'\n",
    "    \n",
    "    def __init__(self, name):\n",
    "            self.name = name"
   ]
  },
  {
   "cell_type": "code",
   "execution_count": 168,
   "id": "78478fe4-9e80-41de-9cc3-d04cc53da9f2",
   "metadata": {},
   "outputs": [
    {
     "name": "stdout",
     "output_type": "stream",
     "text": [
      "010-1234-1234\n",
      "김민수\n"
     ]
    }
   ],
   "source": [
    "p1 = Person('김민수')\n",
    "print(p1.phone) # => class 변수 접근\n",
    "print(p1.name) # => instance 변수 접근"
   ]
  },
  {
   "cell_type": "markdown",
   "id": "b106cff3-1f05-48da-b7da-a351455a19aa",
   "metadata": {},
   "source": [
    "## 4. 클래스 메소드, 인스턴스 메소드, 스택틱 메소드\n",
    "\n",
    "```python\n",
    "class MyClass():\n",
    "    def instance_method(self):\n",
    "        pass\n",
    "\n",
    "    @classmethod\n",
    "    def calss_method(cls):\n",
    "        pass\n",
    "\n",
    "    @staticmethod\n",
    "    def static_method():\n",
    "        pass\n",
    "        \n",
    "```"
   ]
  },
  {
   "cell_type": "code",
   "execution_count": 169,
   "id": "3c1026cc-5c16-4a9c-baba-08c975b6ccb3",
   "metadata": {},
   "outputs": [],
   "source": [
    "class MyClass():\n",
    "    def instance_method(self):\n",
    "        return self\n",
    "\n",
    "    @classmethod\n",
    "    def class_method(cls):\n",
    "        return cls\n",
    "\n",
    "    @staticmethod\n",
    "    def static_method():\n",
    "        return 'hello'"
   ]
  },
  {
   "cell_type": "code",
   "execution_count": 170,
   "id": "b842950d-d941-4ea9-9a81-05d6034de344",
   "metadata": {},
   "outputs": [
    {
     "name": "stdout",
     "output_type": "stream",
     "text": [
      "<__main__.MyClass object at 0x105571e20>\n",
      "<class '__main__.MyClass'>\n"
     ]
    }
   ],
   "source": [
    "c1 = MyClass()\n",
    "\n",
    "print(c1.instance_method())\n",
    "print(MyClass.class_method())"
   ]
  },
  {
   "cell_type": "code",
   "execution_count": 178,
   "id": "49ed9b93-7b37-426a-8bb7-f0e714888410",
   "metadata": {},
   "outputs": [],
   "source": [
    "class Puppy():\n",
    "    num_of_puppy = 0\n",
    "\n",
    "    def __init__(self, name):\n",
    "        self.name = name\n",
    "        Puppy.num_of_puppy += 1\n",
    "\n",
    "    @classmethod\n",
    "    def get_status(cls):\n",
    "        print(f'현재 강아지는 {cls.num_of_puppy}마리 입니다.')\n",
    "\n",
    "    @staticmethod\n",
    "    def bark():\n",
    "        print('멍멍')\n",
    "\n",
    "    def bark2(self):\n",
    "        print(f'내 이름은 {self.name}이야. 멍멍')"
   ]
  },
  {
   "cell_type": "code",
   "execution_count": 179,
   "id": "89abedde-d5ac-4986-b7f8-b9b3363511df",
   "metadata": {},
   "outputs": [
    {
     "name": "stdout",
     "output_type": "stream",
     "text": [
      "현재 강아지는 3마리 입니다.\n"
     ]
    }
   ],
   "source": [
    "p1 = Puppy('온유')\n",
    "p2 = Puppy('온돌')\n",
    "p3 = Puppy('두리')\n",
    "\n",
    "Puppy.get_status()"
   ]
  },
  {
   "cell_type": "code",
   "execution_count": 181,
   "id": "996ef104-56f6-4611-910c-1c54e9dda86a",
   "metadata": {},
   "outputs": [
    {
     "name": "stdout",
     "output_type": "stream",
     "text": [
      "내 이름은 온유이야. 멍멍\n",
      "내 이름은 온돌이야. 멍멍\n",
      "내 이름은 두리이야. 멍멍\n"
     ]
    }
   ],
   "source": [
    "p1.bark2()\n",
    "p2.bark2()\n",
    "p3.bark2()"
   ]
  },
  {
   "cell_type": "markdown",
   "id": "77b68e4c-d923-484a-8655-e66590417fe4",
   "metadata": {},
   "source": [
    "## 5. 상속"
   ]
  },
  {
   "cell_type": "code",
   "execution_count": 187,
   "id": "d7738a9a-6c4d-43ce-9c91-d6d87e6cb9d8",
   "metadata": {},
   "outputs": [],
   "source": [
    "class Person():\n",
    "    ident = '111111-1111111'\n",
    "\n",
    "    def __init__(self, name):\n",
    "        self.name = name\n",
    "\n",
    "    def greeting(self):\n",
    "        print(f'안녕하세요 {self.name}입니다')"
   ]
  },
  {
   "cell_type": "code",
   "execution_count": 188,
   "id": "9dd5a494-bfc5-433a-a119-851bddbae1ed",
   "metadata": {},
   "outputs": [],
   "source": [
    "p1 = Person('홍길동')\n",
    "p2 = Person('이순신')"
   ]
  },
  {
   "cell_type": "code",
   "execution_count": 189,
   "id": "0dd22623-daad-4080-9aaa-b6d9f0d4c0e6",
   "metadata": {},
   "outputs": [
    {
     "name": "stdout",
     "output_type": "stream",
     "text": [
      "안녕하세요 홍길동입니다\n",
      "안녕하세요 이순신입니다\n"
     ]
    }
   ],
   "source": [
    "p1.greeting()\n",
    "p2.greeting()"
   ]
  },
  {
   "cell_type": "code",
   "execution_count": 190,
   "id": "7b671acb-be95-4cc3-8aaa-5ad1dd3269ee",
   "metadata": {},
   "outputs": [],
   "source": [
    "class Soldier(person):\n",
    "    #ident = '111111-1111111'\n",
    "\n",
    "    #def __init__(self, name):\n",
    "    #    self.name = name\n",
    "\n",
    "    def greeting(self):\n",
    "        print(f'충성! {self.name}입니다')"
   ]
  },
  {
   "cell_type": "code",
   "execution_count": 194,
   "id": "aac023de-eb80-4622-8e02-5e82c878d275",
   "metadata": {},
   "outputs": [
    {
     "name": "stdout",
     "output_type": "stream",
     "text": [
      "충성! 국방이입니다\n",
      "111111-1111111\n"
     ]
    }
   ],
   "source": [
    "s1 = Soldier('국방이')\n",
    "s1.greeting() # => 상속을 통해 init 출력 가능\n",
    "print(s1.ident) # => 상속을 통해 ident 출력 가능"
   ]
  },
  {
   "cell_type": "code",
   "execution_count": null,
   "id": "851bd343-9fbb-4fd6-a5f3-8017be487172",
   "metadata": {},
   "outputs": [],
   "source": [
    "class Studant(person):\n",
    "    # ident = '111111-1111111'\n",
    "\n",
    "    # def __init__(self, name):\n",
    "    #     self.name = name\n",
    "\n",
    "    # def greeting(self):\n",
    "    #     print(f'안녕하세요 {self.name}입니다') \n",
    "\n",
    "    stuent_id = '123456'\n",
    "\n",
    "    def __init__(self, student_id)\n",
    "        self.student_id = student_id"
   ]
  },
  {
   "cell_type": "code",
   "execution_count": 195,
   "id": "5bf255c9-5867-4229-9855-40b7779a9e3e",
   "metadata": {},
   "outputs": [],
   "source": [
    "class Person():\n",
    "    def __init__(self, name, email, phone, location):\n",
    "        self.name = name\n",
    "        self.email = email\n",
    "        self.phone = phone\n",
    "        self.location = location\n",
    "\n",
    "class Student(Person):\n",
    "    def __init__(self, name, email, phone, location, student_id):\n",
    "        super().__init__(name, email, phone, location) # 부모가 만든 init 함수를 갖고와서 실행하는 것과 같은 결과 창출\n",
    "        self.student_id = student_id"
   ]
  },
  {
   "cell_type": "code",
   "execution_count": 196,
   "id": "42359745-f0b2-4fa2-8bad-fff7adf3ddaf",
   "metadata": {},
   "outputs": [],
   "source": [
    "p1 = Person('hong', 'test@gmail.com', '010-1234', 'seoul')\n",
    "s1 = Student('kim', 'kim@gmail.com', '1234', 'seoul', '123123')"
   ]
  },
  {
   "cell_type": "markdown",
   "id": "22bdd2ca-eb08-4f46-8196-139680f065b9",
   "metadata": {},
   "source": [
    "## 6. 다중상속"
   ]
  },
  {
   "cell_type": "code",
   "execution_count": 201,
   "id": "9104f154-a310-43fa-87c0-3db7601cfbc8",
   "metadata": {},
   "outputs": [],
   "source": [
    "class Person():\n",
    "    def __init__(self, name):\n",
    "        self.name = name\n",
    "\n",
    "    def breath(self):\n",
    "        print('후하')"
   ]
  },
  {
   "cell_type": "code",
   "execution_count": 203,
   "id": "ee72530f-e33e-469e-8cba-0765ce21f9f4",
   "metadata": {},
   "outputs": [],
   "source": [
    "class Mom(Person):\n",
    "    gene = 'xx'\n",
    "\n",
    "    def swim(self):\n",
    "        print('어푸어푸')"
   ]
  },
  {
   "cell_type": "code",
   "execution_count": 204,
   "id": "e3b82394-95c7-4471-8d56-8270a881751d",
   "metadata": {},
   "outputs": [],
   "source": [
    "class Dad(person):\n",
    "    gene = 'xy'\n",
    "\n",
    "    def run(self):\n",
    "        print('다다다')"
   ]
  },
  {
   "cell_type": "code",
   "execution_count": 205,
   "id": "8668dfd0-c224-43f0-a2b5-4c58166f0304",
   "metadata": {},
   "outputs": [],
   "source": [
    "class Baby(Mom, Dad):\n",
    "    pass"
   ]
  },
  {
   "cell_type": "code",
   "execution_count": 208,
   "id": "5f37aa8d-16a5-4137-adca-db6edb70a5fb",
   "metadata": {},
   "outputs": [
    {
     "name": "stdout",
     "output_type": "stream",
     "text": [
      "금쪽이\n",
      "다다다\n",
      "None\n",
      "후하\n",
      "None\n",
      "xx\n"
     ]
    }
   ],
   "source": [
    "b = Baby('금쪽이')\n",
    "print(b.name)\n",
    "\n",
    "print(b.run())\n",
    "print(b.breath())\n",
    "\n",
    "print(b.gene) # Mom 객체를 먼저 작성했기 떄문에 xx 출연"
   ]
  },
  {
   "cell_type": "code",
   "execution_count": 1,
   "id": "996ddd99-9fea-4b4d-9168-1a800bb69a84",
   "metadata": {},
   "outputs": [],
   "source": [
    "# 나만의 객체 구조 만들기\n",
    "class Person():\n",
    "    def __init__(self, name, weight, muscle_mass):\n",
    "        self.name = name\n",
    "        self.weight = weight\n",
    "        self.muscle_mass = muscle_mass"
   ]
  },
  {
   "cell_type": "code",
   "execution_count": 43,
   "id": "50738aac-b6a9-4c9b-9dcd-fa31c7df59a3",
   "metadata": {},
   "outputs": [],
   "source": [
    "class HealthPerson(Person):\n",
    "        \n",
    "    def chest_play(self, play_number, set_number):\n",
    "        self.play_number = play_number\n",
    "        self.set_number = set_number\n",
    "        level_up = (self.play_number * self.set_number) * 0.03\n",
    "        self.muscle_mass = level_up + self.muscle_mass\n",
    "        print(f'{self.name}님의 근육량이 {level_up}만큼 늘었습니다!!')\n",
    "        print(f'총 근육량은 {self.muscle_mass}입니다.')\n",
    "    \n",
    "    def back_play(self, play_number, set_number):\n",
    "        self.play_number = play_number\n",
    "        self.set_number = set_number\n",
    "        level_up = (self.play_number * self.set_number) * 0.02\n",
    "        self.muscle_mass = level_up + self.muscle_mass\n",
    "        print(f'{self.name}님의 근육량이 {level_up}만큼 늘었습니다!!')\n",
    "        print(f'총 근육량은 {self.muscle_mass}입니다.')\n",
    "\n",
    "    def lower_body_play(self, play_number, set_number):\n",
    "        self.play_number = play_number\n",
    "        self.set_number = set_number\n",
    "        level_up = (self.play_number * self.set_number) * 0.01\n",
    "        self.muscle_mass = level_up + self.muscle_mass\n",
    "        print(f'{self.name}님의 근육량이 {level_up}만큼 늘었습니다!!')\n",
    "        print(f'총 근육량은 {self.muscle_mass}입니다.')\n",
    "\n",
    "    def shoulder_play(self, play_number, set_number):\n",
    "        self.play_number = play_number\n",
    "        self.set_number = set_number\n",
    "        level_up = (self.play_number * self.set_number) * 0.05\n",
    "        self.muscle_mass = level_up + self.muscle_mass\n",
    "        print(f'{self.name}님의 근육량이 {level_up}만큼 늘었습니다!!')\n",
    "        print(f'총 근육량은 {self.muscle_mass}입니다.')"
   ]
  },
  {
   "cell_type": "code",
   "execution_count": 29,
   "id": "a90eaa12-1cf7-4b67-af96-7afc8ff67915",
   "metadata": {},
   "outputs": [],
   "source": [
    "class Player(health):\n",
    "    pass"
   ]
  },
  {
   "cell_type": "code",
   "execution_count": 44,
   "id": "a9180309-f862-46cd-a93b-b5a12fe2b952",
   "metadata": {},
   "outputs": [],
   "source": [
    "minsu = HealthPerson('minsu', 67, 25)"
   ]
  },
  {
   "cell_type": "code",
   "execution_count": 45,
   "id": "87907af2-148e-4a8b-a462-7374c6115b38",
   "metadata": {},
   "outputs": [
    {
     "name": "stdout",
     "output_type": "stream",
     "text": [
      "minsu님의 근육량이 1.7999999999999998만큼 늘었습니다!!\n",
      "총 근육량은 26.8입니다.\n"
     ]
    }
   ],
   "source": [
    "minsu.chest_play(12, 5)"
   ]
  },
  {
   "cell_type": "code",
   "execution_count": 46,
   "id": "883709dc-2f3f-4ece-887b-138b13155782",
   "metadata": {},
   "outputs": [
    {
     "name": "stdout",
     "output_type": "stream",
     "text": [
      "꼬부기은 파이리에게 15.0의 공격을 했다.\n",
      "파이리은 꼬부기에게 20의 공격을 했다.\n",
      "꼬부기: 30\n",
      "파이리: 35.0\n",
      "꼬부기은 파이리에게 15.0의 공격을 했다.\n",
      "파이리은 꼬부기에게 20의 공격을 했다.\n",
      "꼬부기: 10\n",
      "파이리: 20.0\n",
      "꼬부기은 파이리에게 15.0의 공격을 했다.\n",
      "파이리은 꼬부기에게 20의 공격을 했다.\n",
      "꼬부기 승리\n"
     ]
    }
   ],
   "source": [
    "class Pocketmon():\n",
    "    def __init__(self, name):\n",
    "        self.name = name\n",
    "        self.level = 10\n",
    "        self.hp = self.level * 5\n",
    "        self.exp = 0\n",
    "\n",
    "    def attack(self, opponent):\n",
    "        damege = self.level\n",
    "        opponent.hp -= damege\n",
    "        if opponent.check_hp():\n",
    "            self.exp += 5\n",
    "\n",
    "    def check_hp(self):\n",
    "        return True if self.hp <= 0 else False\n",
    "\n",
    "    \n",
    "class WaterType():\n",
    "    type_name = 'water'\n",
    "\n",
    "class FireType():\n",
    "    type_name = 'fire'\n",
    "\n",
    "class WaterPocketmon(Pocketmon, WaterType):\n",
    "    def water_attack(self, opponent):\n",
    "        if opponent.type_name == 'fire':\n",
    "            damege = self.level * 1.5\n",
    "        else:\n",
    "            damege = self.level * 1.2\n",
    "        opponent.hp -= damege\n",
    "        print(f'{self.name}은 {opponent.name}에게 {damege}의 공격을 했다.')\n",
    "\n",
    "class FirePocketmon(Pocketmon, FireType):\n",
    "    def fire_attack(self, opponent):\n",
    "        damege = self.level * 2\n",
    "        opponent.hp -= damege\n",
    "        print(f'{self.name}은 {opponent.name}에게 {damege}의 공격을 했다.')\n",
    "\n",
    "\n",
    "koboki = WaterPocketmon('꼬부기')\n",
    "pairi = FirePocketmon('파이리')\n",
    "\n",
    "\n",
    "import random \n",
    "\n",
    "while not koboki.check_hp() or not pairi.check_hp():\n",
    "    random_attack = random.randint(0, 1)\n",
    "    \n",
    "    koboki.water_attack(pairi)\n",
    "    \n",
    "    if pairi.check_hp():\n",
    "        print(f'{pairi.name} 승리')\n",
    "        break\n",
    "\n",
    "    random_attack = random.randint(0, 1)\n",
    "    pairi.fire_attack(koboki)\n",
    "    \n",
    "    if koboki.check_hp():\n",
    "        print(f'{koboki.name} 승리')\n",
    "        break\n",
    "\n",
    "    \n",
    "    print(f'{koboki.name}: {koboki.hp}')\n",
    "    print(f'{pairi.name}: {pairi.hp}')"
   ]
  }
 ],
 "metadata": {
  "kernelspec": {
   "display_name": "Python 3 (ipykernel)",
   "language": "python",
   "name": "python3"
  },
  "language_info": {
   "codemirror_mode": {
    "name": "ipython",
    "version": 3
   },
   "file_extension": ".py",
   "mimetype": "text/x-python",
   "name": "python",
   "nbconvert_exporter": "python",
   "pygments_lexer": "ipython3",
   "version": "3.12.4"
  }
 },
 "nbformat": 4,
 "nbformat_minor": 5
}
