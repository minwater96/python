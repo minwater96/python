{
 "cells": [
  {
   "cell_type": "markdown",
   "id": "a938a97d-943f-4db7-9118-82db40d645a4",
   "metadata": {},
   "source": [
    "# 함수(function)"
   ]
  },
  {
   "cell_type": "code",
   "execution_count": 4,
   "id": "14c5a861-c4d2-42ae-8b76-d81549755b06",
   "metadata": {},
   "outputs": [
    {
     "name": "stdout",
     "output_type": "stream",
     "text": [
      "사각형의 넚이는 1500이고, 둘레는 160입니다.\n"
     ]
    }
   ],
   "source": [
    "height = 50\n",
    "width = 30\n",
    "\n",
    "area = height * width\n",
    "perimeter = (height + width) * 2\n",
    "\n",
    "print(f'사각형의 넚이는 {area}이고, 둘레는 {perimeter}입니다.')"
   ]
  },
  {
   "cell_type": "markdown",
   "id": "f8bc4a19-987c-445d-a38b-043c9f173808",
   "metadata": {},
   "source": [
    "## 1. 함수의 선언과 호출\n",
    "\n",
    "- 함수의 선언\n",
    "\n",
    "```python\n",
    "def func_name(parameter1, parameter2, ...):\n",
    "    code1\n",
    "    code2\n",
    "    ...\n",
    "    return value\n",
    "```\n",
    "\n",
    "- 함수의 호출(실행)\n",
    "\n",
    "```python\n",
    "func_name(parameter1, parameter2, ...)\n",
    "```"
   ]
  },
  {
   "cell_type": "code",
   "execution_count": 10,
   "id": "e1390965-5db9-4ffb-90cd-ca60fbffbdb4",
   "metadata": {},
   "outputs": [],
   "source": [
    "def rectangle(height, width):\n",
    "    area = height * width\n",
    "    perimeter = (height + width) * 2\n",
    "    print(area, perimeter)"
   ]
  },
  {
   "cell_type": "code",
   "execution_count": 13,
   "id": "a9c634ad-55d9-437d-9ad3-d775a50c796f",
   "metadata": {},
   "outputs": [
    {
     "name": "stdout",
     "output_type": "stream",
     "text": [
      "20000 600\n",
      "250000 2000\n",
      "50 30\n"
     ]
    }
   ],
   "source": [
    "rectangle(100, 200)\n",
    "rectangle(500, 500)\n",
    "rectangle(5, 10)"
   ]
  },
  {
   "cell_type": "code",
   "execution_count": 16,
   "id": "c3bb7525-f537-46d3-a35f-14185716141d",
   "metadata": {},
   "outputs": [
    {
     "data": {
      "text/plain": [
       "4"
      ]
     },
     "execution_count": 16,
     "metadata": {},
     "output_type": "execute_result"
    }
   ],
   "source": [
    "max([1, 2, 3, 4])"
   ]
  },
  {
   "cell_type": "code",
   "execution_count": 18,
   "id": "62ede178-c3ce-4bcc-a506-2096dc88a010",
   "metadata": {},
   "outputs": [],
   "source": [
    "def my_max(num1, num2):\n",
    "    if num1 > num2:\n",
    "        print(num1)\n",
    "    elif num1 == num2:\n",
    "        print('같습니다')\n",
    "    else:\n",
    "        print(num2)"
   ]
  },
  {
   "cell_type": "code",
   "execution_count": 20,
   "id": "bda97927-ec90-453f-8017-1b7558bd996b",
   "metadata": {},
   "outputs": [
    {
     "name": "stdout",
     "output_type": "stream",
     "text": [
      "5\n",
      "4\n",
      "같습니다\n"
     ]
    }
   ],
   "source": [
    "my_max(5, 1)\n",
    "my_max(2, 4)\n",
    "my_max(4, 4)"
   ]
  },
  {
   "cell_type": "markdown",
   "id": "20bb2f65-19c5-41a9-9a17-46069f01c1d5",
   "metadata": {},
   "source": [
    "## 2. 함수의 return\n",
    "\n",
    "- 함수가 return을 만나면 해당 값을 반환하고 함수를 종료\n",
    "- 만약 return이 없는 경우 None을 자동으로 반환\n",
    "- return은 오직 하나의 객체만 반환한다."
   ]
  },
  {
   "cell_type": "code",
   "execution_count": 22,
   "id": "bfafdfd6-1cbc-4f03-b95e-e8b8c53a29a3",
   "metadata": {},
   "outputs": [
    {
     "name": "stdout",
     "output_type": "stream",
     "text": [
      "2\n",
      "None\n"
     ]
    }
   ],
   "source": [
    "result = my_max(1, 2)\n",
    "print(result)"
   ]
  },
  {
   "cell_type": "code",
   "execution_count": 24,
   "id": "df7e3e9d-5f67-4e02-8b21-fdad50619bcd",
   "metadata": {},
   "outputs": [],
   "source": [
    "def my_max2(num1, num2):\n",
    "    if num1 > num2:\n",
    "        return num1\n",
    "    elif num1 < num2:\n",
    "        return num2\n",
    "    else:\n",
    "        return num1"
   ]
  },
  {
   "cell_type": "code",
   "execution_count": 30,
   "id": "d8c7a1a2-9041-41fb-aeb8-20d88398aee1",
   "metadata": {},
   "outputs": [
    {
     "name": "stdout",
     "output_type": "stream",
     "text": [
      "2\n",
      "None\n"
     ]
    }
   ],
   "source": [
    "#print를 통해 만든 함수\n",
    "result = my_max(1, 2)\n",
    "print(result)"
   ]
  },
  {
   "cell_type": "code",
   "execution_count": 32,
   "id": "27307649-0dcb-466b-89be-24b9797dee5f",
   "metadata": {},
   "outputs": [
    {
     "name": "stdout",
     "output_type": "stream",
     "text": [
      "2\n"
     ]
    }
   ],
   "source": [
    "#return을 통해 만든 함수\n",
    "result = my_max2(1, 2)\n",
    "print(result)"
   ]
  },
  {
   "cell_type": "code",
   "execution_count": 59,
   "id": "a016a23c-cc10-4b90-ad27-4c8e51423aba",
   "metadata": {},
   "outputs": [],
   "source": [
    "#version1\n",
    "def my_list_max(list1, list2):\n",
    "    if sum(list1) > sum(list2):\n",
    "        return(list1)\n",
    "    elif sum(list1) == sum(list2):\n",
    "        return('같습니다')\n",
    "    else:\n",
    "        return(list2)"
   ]
  },
  {
   "cell_type": "code",
   "execution_count": 63,
   "id": "3f0782f9-bb86-4e5b-8402-9427e9d38a20",
   "metadata": {},
   "outputs": [
    {
     "data": {
      "text/plain": [
       "[2, 3, 4, 5, 6, 7, 8]"
      ]
     },
     "execution_count": 63,
     "metadata": {},
     "output_type": "execute_result"
    }
   ],
   "source": [
    "my_list_max([1, 2, 3], [2, 3, 4, 5, 6, 7, 8])"
   ]
  },
  {
   "cell_type": "code",
   "execution_count": 61,
   "id": "ba359e79-61ff-49cd-a2cb-bf63072c4aba",
   "metadata": {},
   "outputs": [],
   "source": [
    "#version2\n",
    "def my_list_max2(list1, list2):\n",
    "    result1 = 0\n",
    "    result2 = 0\n",
    "\n",
    "    for num in list1:\n",
    "        result1 += num\n",
    "\n",
    "    for num in list2:\n",
    "        result2 += num\n",
    "\n",
    "    if result1 > result2:\n",
    "        return list1\n",
    "    elif result1 < result2:\n",
    "        return list2\n",
    "    else:\n",
    "        return print('같습니다')"
   ]
  },
  {
   "cell_type": "code",
   "execution_count": 64,
   "id": "e545a0ca-5c05-4176-bf6b-b336f86ca0a2",
   "metadata": {},
   "outputs": [
    {
     "data": {
      "text/plain": [
       "[2, 3, 4, 5, 6, 7, 8]"
      ]
     },
     "execution_count": 64,
     "metadata": {},
     "output_type": "execute_result"
    }
   ],
   "source": [
    "my_list_max2([1, 2, 3], [2, 3, 4, 5, 6, 7, 8])"
   ]
  },
  {
   "cell_type": "code",
   "execution_count": 68,
   "id": "853a4f7d-5c3e-4870-8170-0467ec595ad3",
   "metadata": {},
   "outputs": [],
   "source": [
    "def my_def(x):\n",
    "    return x * 3\n",
    "    return x * 2 # 첫번째 return을 만나면 실행 후 종료되어 동작 x"
   ]
  },
  {
   "cell_type": "code",
   "execution_count": 69,
   "id": "3ab3d5b2-47af-448a-b02c-46645be33a0e",
   "metadata": {},
   "outputs": [
    {
     "data": {
      "text/plain": [
       "30"
      ]
     },
     "execution_count": 69,
     "metadata": {},
     "output_type": "execute_result"
    }
   ],
   "source": [
    "my_def(10)"
   ]
  },
  {
   "cell_type": "code",
   "execution_count": 70,
   "id": "f04dc45e-fc47-42f5-b264-b3309feb2bbf",
   "metadata": {},
   "outputs": [
    {
     "name": "stdout",
     "output_type": "stream",
     "text": [
      "10\n"
     ]
    }
   ],
   "source": [
    "def my_def2(x):\n",
    "    if x < 0:\n",
    "        return 0\n",
    "    else:\n",
    "        return x\n",
    "\n",
    "print(my_def2(10))"
   ]
  },
  {
   "cell_type": "markdown",
   "id": "0241b6a0-c111-4441-bee6-de8bfb5f3b37",
   "metadata": {},
   "source": [
    "## 3. 함수의 인수\n",
    "### 3-1. 위치인수\n",
    "\n",
    "- 기본적으로 함수는 위치를 기분으로 인수를 판단합니다.\n",
    "  "
   ]
  },
  {
   "cell_type": "code",
   "execution_count": 72,
   "id": "48a01acd-697b-41ab-9363-e02843010ba9",
   "metadata": {},
   "outputs": [],
   "source": [
    "def cylinder(r, h):\n",
    "    return (3.14) * (r**2) * (h)"
   ]
  },
  {
   "cell_type": "code",
   "execution_count": 76,
   "id": "f0792163-3a04-4cca-94f1-587d0cf9af9a",
   "metadata": {},
   "outputs": [
    {
     "name": "stdout",
     "output_type": "stream",
     "text": [
      "1570.0\n",
      "785.0\n"
     ]
    }
   ],
   "source": [
    "print(cylinder(10, 5))\n",
    "print(cylinder(5, 10))"
   ]
  },
  {
   "cell_type": "markdown",
   "id": "454a9ea1-d61b-4971-8f71-12438af45781",
   "metadata": {},
   "source": [
    "### 3-2. 기본값\n",
    "> 사용자가 넣은 데이터가 없었을때 활용되는 자료\n",
    "\n",
    "```python\n",
    "def func(p1=v1):\n",
    "    code...\n",
    "    return vlaue\n",
    "```"
   ]
  },
  {
   "cell_type": "code",
   "execution_count": 81,
   "id": "0d71b97a-5944-407e-9a28-27f696982318",
   "metadata": {},
   "outputs": [
    {
     "name": "stdout",
     "output_type": "stream",
     "text": [
      "안녕하세요?저는 길동이에요!"
     ]
    }
   ],
   "source": [
    "print('안녕하세요', '저는 길동이에요', sep='?', end='!')"
   ]
  },
  {
   "cell_type": "code",
   "execution_count": 88,
   "id": "1288c69c-00a0-434e-8c37-1f0ac124295a",
   "metadata": {},
   "outputs": [
    {
     "ename": "SyntaxError",
     "evalue": "parameter without a default follows parameter with a default (1858466238.py, line 1)",
     "output_type": "error",
     "traceback": [
      "\u001b[0;36m  Cell \u001b[0;32mIn[88], line 1\u001b[0;36m\u001b[0m\n\u001b[0;31m    def greeting(name ='익명', age):\u001b[0m\n\u001b[0m                             ^\u001b[0m\n\u001b[0;31mSyntaxError\u001b[0m\u001b[0;31m:\u001b[0m parameter without a default follows parameter with a default\n"
     ]
    }
   ],
   "source": [
    "def greeting(name ='익명', age):\n",
    "    return f'{name}님의 나이는 {age} 입니다.'"
   ]
  },
  {
   "cell_type": "code",
   "execution_count": 86,
   "id": "b1d38af3-ca26-414b-afac-1acb84554cec",
   "metadata": {},
   "outputs": [],
   "source": [
    "# 기본값은 뒤로 넣어야 사용가능\n",
    "def greeting(age, name ='익명'):\n",
    "    return f'{name}님의 나이는 {age} 입니다.'"
   ]
  },
  {
   "cell_type": "code",
   "execution_count": 79,
   "id": "293856fb-6e5d-4bb1-959c-10e147a3606c",
   "metadata": {},
   "outputs": [],
   "source": [
    "def greeting(name='익명'):\n",
    "    return f'{name}님 반갑습니다.'"
   ]
  },
  {
   "cell_type": "code",
   "execution_count": 85,
   "id": "0866e5a2-e809-4abb-ba7d-67d37f9d3fa9",
   "metadata": {},
   "outputs": [
    {
     "data": {
      "text/plain": [
       "'익명님의 나이는 10 입니다.'"
      ]
     },
     "execution_count": 85,
     "metadata": {},
     "output_type": "execute_result"
    }
   ],
   "source": [
    "greeting(10)"
   ]
  },
  {
   "cell_type": "code",
   "execution_count": 89,
   "id": "ba187f05-172f-4662-a55f-1ad70e4d7bd1",
   "metadata": {},
   "outputs": [
    {
     "data": {
      "text/plain": [
       "'길동님의 나이는 10 입니다.'"
      ]
     },
     "execution_count": 89,
     "metadata": {},
     "output_type": "execute_result"
    }
   ],
   "source": [
    "greeting(10, '길동')"
   ]
  },
  {
   "cell_type": "markdown",
   "id": "8cb78208-4708-4d8d-8737-7d9c321105a2",
   "metadata": {},
   "source": [
    "## 4. 키워드 인수\n",
    "- 함수를 호출(실행)할 때 내가 원하는 위치에 직접적으로 특정인자를 전달"
   ]
  },
  {
   "cell_type": "code",
   "execution_count": 91,
   "id": "20535155-5d9c-49ba-b47e-fa5872930080",
   "metadata": {},
   "outputs": [],
   "source": [
    "def greeting(age, name='익명'):\n",
    "    return(f'{name}님의 나이는{age}입니다')"
   ]
  },
  {
   "cell_type": "code",
   "execution_count": 94,
   "id": "e43a2205-1143-472e-80eb-957d04760750",
   "metadata": {},
   "outputs": [
    {
     "name": "stdout",
     "output_type": "stream",
     "text": [
      "익명님의 나이는10입니다\n",
      "길동님의 나이는10입니다\n",
      "길동님의 나이는10입니다\n"
     ]
    }
   ],
   "source": [
    "print(greeting(10))\n",
    "print(greeting(10, '길동'))\n",
    "print(greeting(name='길동', age=10))"
   ]
  },
  {
   "cell_type": "markdown",
   "id": "431ac312-a876-408f-8003-bcc956e8bee3",
   "metadata": {},
   "source": [
    "### 4-1 가변인자 리스트\n",
    "\n",
    "- 데이터가 얼마나 들어올지 모르는 상황\n",
    "- 입련되는 데이터는 전부 Tuple로 보관\n",
    "\n",
    "```python\n",
    "def func(*parms):\n",
    "    code...\n",
    "```"
   ]
  },
  {
   "cell_type": "code",
   "execution_count": 95,
   "id": "8b2a5682-9b07-4302-a1a3-1a82391c036f",
   "metadata": {},
   "outputs": [
    {
     "name": "stdout",
     "output_type": "stream",
     "text": [
      "hi hello my name is\n"
     ]
    }
   ],
   "source": [
    "print('hi', 'hello', 'my', 'name', 'is')"
   ]
  },
  {
   "cell_type": "code",
   "execution_count": 96,
   "id": "501c2625-668d-4b1c-ada4-209a3c3e8f56",
   "metadata": {},
   "outputs": [],
   "source": [
    "def my_print(*words):\n",
    "    print(words)"
   ]
  },
  {
   "cell_type": "code",
   "execution_count": 99,
   "id": "077fb933-76d5-4010-9ec2-07f3488b16d4",
   "metadata": {},
   "outputs": [
    {
     "name": "stdout",
     "output_type": "stream",
     "text": [
      "('my', 'name', 'is')\n"
     ]
    }
   ],
   "source": [
    "# 더욱 많은 데이터를 입력해도 출력 가능\n",
    "my_print('my', 'name', 'is')"
   ]
  },
  {
   "cell_type": "code",
   "execution_count": 100,
   "id": "d9aaee13-775c-4769-828c-0c5d248755f5",
   "metadata": {},
   "outputs": [
    {
     "data": {
      "text/plain": [
       "10"
      ]
     },
     "execution_count": 100,
     "metadata": {},
     "output_type": "execute_result"
    }
   ],
   "source": [
    "max(1, 2, 3, 4, 5, 6, 7, 8, 9, 10)"
   ]
  },
  {
   "cell_type": "code",
   "execution_count": 136,
   "id": "02e019ef-3518-4ccb-8069-0b27e3c9ba64",
   "metadata": {},
   "outputs": [],
   "source": [
    "def my_max(*numbers):\n",
    "    max_num=numbers[0]\n",
    "    \n",
    "    for num in numbers:\n",
    "        if(max_num<num):\n",
    "            max_num=num\n",
    "    return max_num"
   ]
  },
  {
   "cell_type": "code",
   "execution_count": 137,
   "id": "5a34cdfd-2ebb-4c9d-a777-299cbd6af6c5",
   "metadata": {},
   "outputs": [
    {
     "data": {
      "text/plain": [
       "11"
      ]
     },
     "execution_count": 137,
     "metadata": {},
     "output_type": "execute_result"
    }
   ],
   "source": [
    "my_max(3, 10, 6, 11, 1)"
   ]
  },
  {
   "cell_type": "markdown",
   "id": "52d6a6f4-36b5-4b1d-a130-5fdae9377092",
   "metadata": {},
   "source": [
    "### 4-2. 정의되지 않은 키워드 인자 처리하기\n",
    "\n",
    "- 어떤 값이 들어올지 모르기 때문에 정의 없이 키워드 인자를 처리하는데 활용\n",
    "  \n",
    "\n",
    "```python\n",
    "def func(**kwargs):\n",
    "    code...\n",
    "```"
   ]
  },
  {
   "cell_type": "code",
   "execution_count": 138,
   "id": "5ee9c87b-ee66-45c6-946b-368ee41dafea",
   "metadata": {},
   "outputs": [
    {
     "name": "stdout",
     "output_type": "stream",
     "text": [
      "{'name': 'kim', 'age': 10}\n"
     ]
    }
   ],
   "source": [
    "info = {\n",
    "    'name': 'kim',\n",
    "    'age': 10,\n",
    "}\n",
    "print(info)"
   ]
  },
  {
   "cell_type": "code",
   "execution_count": 144,
   "id": "c762584f-4bb4-4d62-8795-64f806b2dc94",
   "metadata": {},
   "outputs": [
    {
     "name": "stdout",
     "output_type": "stream",
     "text": [
      "{'name': 'hong', 'age': 10, 'location': 'seoul'}\n"
     ]
    }
   ],
   "source": [
    "info = dict(name='hong', age=10, location='seoul') #dict 함수에 어떤 값이 지정될지 모를대 키워드 인자 사용\n",
    "print(info)"
   ]
  },
  {
   "cell_type": "code",
   "execution_count": 141,
   "id": "7b0c09ff-8856-4452-b112-68167dfa9bc9",
   "metadata": {},
   "outputs": [],
   "source": [
    "def my_dict(**kwargs):\n",
    "    print(kwargs)"
   ]
  },
  {
   "cell_type": "code",
   "execution_count": 142,
   "id": "c51b1207-103f-4144-8daf-94e35f50a231",
   "metadata": {},
   "outputs": [
    {
     "name": "stdout",
     "output_type": "stream",
     "text": [
      "{'asdf': '123', 'qwer': '456'}\n"
     ]
    }
   ],
   "source": [
    "my_dict(asdf='123', qwer='456')"
   ]
  },
  {
   "cell_type": "markdown",
   "id": "f3715089-c599-4b89-ad15-465f869b6459",
   "metadata": {},
   "source": [
    "### 4-3. dictionary를 인자로 넣기(unpacking)"
   ]
  },
  {
   "cell_type": "code",
   "execution_count": 145,
   "id": "f2344f09-73b5-4039-a8bf-1b41f19cdb6c",
   "metadata": {},
   "outputs": [],
   "source": [
    "def sign_up(username, pw, pw_conf):\n",
    "    if pw == pw_conf:\n",
    "        print(f'{username}님 회원가입을 환영합니다.')\n",
    "    else:\n",
    "        print('비밀번호가 일치하지 않습니다.')"
   ]
  },
  {
   "cell_type": "code",
   "execution_count": 148,
   "id": "97abad9c-e084-49e4-9f96-4baeda413915",
   "metadata": {},
   "outputs": [
    {
     "name": "stdout",
     "output_type": "stream",
     "text": [
      "비밀번호가 일치하지 않습니다.\n",
      "hong님 회원가입을 환영합니다.\n"
     ]
    }
   ],
   "source": [
    "sign_up('hong', '1234', '123')\n",
    "sign_up('hong', '1234', '1234')"
   ]
  },
  {
   "cell_type": "code",
   "execution_count": 151,
   "id": "d94f40a9-5c8d-4409-aa6e-0f7f28da5817",
   "metadata": {},
   "outputs": [
    {
     "name": "stdout",
     "output_type": "stream",
     "text": [
      "hong님 회원가입을 환영합니다.\n"
     ]
    }
   ],
   "source": [
    "user_info = {\n",
    "    'username': 'hong',\n",
    "    'pw': '1234',\n",
    "    'pw_conf': '1234',\n",
    "}\n",
    "\n",
    "sign_up(**user_info)"
   ]
  },
  {
   "cell_type": "markdown",
   "id": "6ac673cc-03b9-4d7e-9b16-2f85e9a8bb54",
   "metadata": {},
   "source": [
    "### 4-4. lambda 표현식\n",
    "\n",
    "```python\n",
    "lambda praameter: expression\n",
    "```"
   ]
  },
  {
   "cell_type": "code",
   "execution_count": 152,
   "id": "f35f3ed8-db2f-4ad0-91a9-2515100f60f7",
   "metadata": {},
   "outputs": [],
   "source": [
    "def my_sum(num1, num2):\n",
    "    return num1 + num2"
   ]
  },
  {
   "cell_type": "code",
   "execution_count": 153,
   "id": "c92674d9-5c6a-43da-987b-3c70e66963b4",
   "metadata": {},
   "outputs": [
    {
     "data": {
      "text/plain": [
       "4"
      ]
     },
     "execution_count": 153,
     "metadata": {},
     "output_type": "execute_result"
    }
   ],
   "source": [
    "my_sum(1,3)"
   ]
  },
  {
   "cell_type": "code",
   "execution_count": 154,
   "id": "780c4502-7501-4e8c-9c58-9fd4c3ace0cd",
   "metadata": {},
   "outputs": [
    {
     "data": {
      "text/plain": [
       "3"
      ]
     },
     "execution_count": 154,
     "metadata": {},
     "output_type": "execute_result"
    }
   ],
   "source": [
    "(lambda num1, num2: num1 + num2)(1, 2)"
   ]
  },
  {
   "cell_type": "markdown",
   "id": "f31a9b15-9b2f-4546-8fe3-48e71cc8a798",
   "metadata": {},
   "source": [
    "### 4-5. 타입힌트\n",
    "- parameter의 type형태를 힌트로 주는 것"
   ]
  },
  {
   "cell_type": "code",
   "execution_count": 158,
   "id": "0b425a23-66d5-4903-82c0-4c641106fbac",
   "metadata": {},
   "outputs": [],
   "source": [
    "def my_sum(a: 'int', b: 'int') -> int:\n",
    "    return a + b"
   ]
  },
  {
   "cell_type": "code",
   "execution_count": 161,
   "id": "015e4afe-e05b-4997-8f83-b1d2eddcda72",
   "metadata": {},
   "outputs": [
    {
     "data": {
      "text/plain": [
       "3"
      ]
     },
     "execution_count": 161,
     "metadata": {},
     "output_type": "execute_result"
    }
   ],
   "source": [
    "my_sum(1, 2)"
   ]
  },
  {
   "cell_type": "markdown",
   "id": "b380d89c-0d9d-4459-a297-ce3ee9043b3f",
   "metadata": {},
   "source": [
    "## 5. 이름공간(scope)\n",
    "\n",
    "- python에서 사용되는 이름들은 이름공간에 저장되어있습니다.\n",
    "1. Local: 정의된 함수 내부\n",
    "2. Enclosed: 상위함수\n",
    "3. Global: 함수 밖\n",
    "4. Built-in: python이 기본적으로 가지고 있는 함수 / 변수"
   ]
  },
  {
   "cell_type": "code",
   "execution_count": 168,
   "id": "fbf2ed62-7c6c-4fe4-98dd-03945e388a86",
   "metadata": {},
   "outputs": [],
   "source": [
    "# str 과 같이 원래 있는 변수에 str = 'hi'라는 값을 저장하면 기본적으로 가지고 있던 기본적인 함수 기능 상실"
   ]
  },
  {
   "cell_type": "code",
   "execution_count": 170,
   "id": "4b0a1c0f-1bca-4a2c-b4d5-ed8edd7fc058",
   "metadata": {},
   "outputs": [
    {
     "name": "stdout",
     "output_type": "stream",
     "text": [
      "1\n",
      "5\n"
     ]
    }
   ],
   "source": [
    "a = 1\n",
    "\n",
    "def local_scope(a):\n",
    "    return a\n",
    "\n",
    "print(a)\n",
    "print(local_scope(5))"
   ]
  },
  {
   "cell_type": "code",
   "execution_count": 173,
   "id": "4db40d94-7369-44fa-a241-70bebaede603",
   "metadata": {},
   "outputs": [
    {
     "data": {
      "text/plain": [
       "11"
      ]
     },
     "execution_count": 173,
     "metadata": {},
     "output_type": "execute_result"
    }
   ],
   "source": [
    "# 전역에 있는 a 값을 함수 안으로 끌고와 사용하는 방법\n",
    "\n",
    "a = 10\n",
    "\n",
    "def global_scope():\n",
    "    global a\n",
    "    a = a + 1\n",
    "    return a\n",
    "\n",
    "global_scope()"
   ]
  },
  {
   "cell_type": "markdown",
   "id": "c06c1ca4-d901-4202-8618-79692af09041",
   "metadata": {},
   "source": [
    "## 6. 재귀\n",
    "\n",
    "- 재귀함수는 함수 내부에서 자기 자신을 호출하는 함수입니다."
   ]
  },
  {
   "cell_type": "markdown",
   "id": "579602cc-5a6e-46d1-8dc1-0ac842f0c4ed",
   "metadata": {},
   "source": [
    "n! = 1 * 2 * 3 * ...n\n",
    "\n",
    "- 1! = 1\n",
    "- 2! = 1 * 2 = 1! * 2\n",
    "- 3! = 1 * 2 * 3 = 2! * 3\n",
    "- n! = (n-1)! * n"
   ]
  },
  {
   "cell_type": "code",
   "execution_count": 174,
   "id": "06901aef-bb53-4cb6-8203-80daf52dbf48",
   "metadata": {},
   "outputs": [
    {
     "name": "stdout",
     "output_type": "stream",
     "text": [
      "120\n"
     ]
    }
   ],
   "source": [
    "def fact(n):\n",
    "    if n == 1:\n",
    "        return 1\n",
    "    else:\n",
    "        return fact(n-1) * n\n",
    "\n",
    "print(fact(5))"
   ]
  }
 ],
 "metadata": {
  "kernelspec": {
   "display_name": "Python 3 (ipykernel)",
   "language": "python",
   "name": "python3"
  },
  "language_info": {
   "codemirror_mode": {
    "name": "ipython",
    "version": 3
   },
   "file_extension": ".py",
   "mimetype": "text/x-python",
   "name": "python",
   "nbconvert_exporter": "python",
   "pygments_lexer": "ipython3",
   "version": "3.12.4"
  }
 },
 "nbformat": 4,
 "nbformat_minor": 5
}
