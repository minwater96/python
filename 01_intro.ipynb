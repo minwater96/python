{
 "cells": [
  {
   "cell_type": "markdown",
   "id": "21579134-b7ab-4718-b1fb-c530f330970f",
   "metadata": {},
   "source": [
    "# 01. intro\n",
    "\n",
    "## shortcut\n",
    "- ctrl + enter : 현재 셀 실행\n",
    "- shift + enter : 현재 셀 실행 & 아래로 이동\n",
    "- alt + enter : 현재 셀 실핼 & 아래로 새로운 셀 생성\n",
    "\n",
    "## 주의사항\n",
    "\n",
    "1. Apple / apple : 대소문자 구분!\n",
    "2. git add . / git add. : 띄어쓰기 구분!\n",
    "3. message / massage : 오탈자 주의!"
   ]
  },
  {
   "cell_type": "code",
   "execution_count": null,
   "id": "30dc0bf9-1435-450e-8413-92d6f8d839fd",
   "metadata": {},
   "outputs": [],
   "source": [
    "# 여기는 주석 입니다."
   ]
  },
  {
   "cell_type": "markdown",
   "id": "6afb1c1d-8697-44c2-b74a-2406b80e448b",
   "metadata": {},
   "source": [
    "## 1. 변수\n",
    "\n",
    "변수이름 = 값\n",
    "\n",
    "- 변수이름은 어떤 이름이든 사용가능\n",
    "- 다만 영어, 숫자, _를 이용하여 선언\n",
    "- 키워드는 사용불가"
   ]
  },
  {
   "cell_type": "code",
   "execution_count": 9,
   "id": "66d626b6-338b-4f91-8540-be043d5660ba",
   "metadata": {},
   "outputs": [],
   "source": [
    "a = 30"
   ]
  },
  {
   "cell_type": "code",
   "execution_count": 10,
   "id": "babaadeb-361e-4afe-8f27-f70803950a18",
   "metadata": {},
   "outputs": [
    {
     "data": {
      "text/plain": [
       "30"
      ]
     },
     "execution_count": 10,
     "metadata": {},
     "output_type": "execute_result"
    }
   ],
   "source": [
    "a"
   ]
  },
  {
   "cell_type": "code",
   "execution_count": 12,
   "id": "6825f2bf-dde6-4885-b5c3-b305aa8a46e4",
   "metadata": {},
   "outputs": [
    {
     "data": {
      "text/plain": [
       "['False',\n",
       " 'None',\n",
       " 'True',\n",
       " 'and',\n",
       " 'as',\n",
       " 'assert',\n",
       " 'async',\n",
       " 'await',\n",
       " 'break',\n",
       " 'class',\n",
       " 'continue',\n",
       " 'def',\n",
       " 'del',\n",
       " 'elif',\n",
       " 'else',\n",
       " 'except',\n",
       " 'finally',\n",
       " 'for',\n",
       " 'from',\n",
       " 'global',\n",
       " 'if',\n",
       " 'import',\n",
       " 'in',\n",
       " 'is',\n",
       " 'lambda',\n",
       " 'nonlocal',\n",
       " 'not',\n",
       " 'or',\n",
       " 'pass',\n",
       " 'raise',\n",
       " 'return',\n",
       " 'try',\n",
       " 'while',\n",
       " 'with',\n",
       " 'yield']"
      ]
     },
     "execution_count": 12,
     "metadata": {},
     "output_type": "execute_result"
    }
   ],
   "source": [
    "import keyword\n",
    "keyword.kwlist"
   ]
  },
  {
   "cell_type": "code",
   "execution_count": 13,
   "id": "286a1b7a-3d44-4c0c-9086-78c07550164c",
   "metadata": {},
   "outputs": [],
   "source": [
    "seoul_dust_rate = 50"
   ]
  },
  {
   "cell_type": "markdown",
   "id": "86b085b1-a219-4efc-afa0-1ab078df9006",
   "metadata": {},
   "source": [
    "### 1.1 number"
   ]
  },
  {
   "cell_type": "code",
   "execution_count": 14,
   "id": "348f75c5-7b71-418b-a8c6-1a8322dac249",
   "metadata": {},
   "outputs": [],
   "source": [
    "a = 100000"
   ]
  },
  {
   "cell_type": "code",
   "execution_count": 15,
   "id": "1392648d-585f-4914-905e-da4b33344dc7",
   "metadata": {},
   "outputs": [
    {
     "data": {
      "text/plain": [
       "100000"
      ]
     },
     "execution_count": 15,
     "metadata": {},
     "output_type": "execute_result"
    }
   ],
   "source": [
    "a"
   ]
  },
  {
   "cell_type": "code",
   "execution_count": 17,
   "id": "896c9f71-d414-4c64-b392-2a2e1185d029",
   "metadata": {},
   "outputs": [
    {
     "data": {
      "text/plain": [
       "int"
      ]
     },
     "execution_count": 17,
     "metadata": {},
     "output_type": "execute_result"
    }
   ],
   "source": [
    "type(a)"
   ]
  },
  {
   "cell_type": "code",
   "execution_count": 18,
   "id": "6485393d-36d3-4c2e-9b68-28aa32660ca0",
   "metadata": {},
   "outputs": [],
   "source": [
    "b = 1.1"
   ]
  },
  {
   "cell_type": "code",
   "execution_count": 19,
   "id": "e387f85f-f410-4893-89a2-7a6e6b5c7d1f",
   "metadata": {},
   "outputs": [
    {
     "data": {
      "text/plain": [
       "1.1"
      ]
     },
     "execution_count": 19,
     "metadata": {},
     "output_type": "execute_result"
    }
   ],
   "source": [
    "b"
   ]
  },
  {
   "cell_type": "code",
   "execution_count": 20,
   "id": "d5be46e2-c7ca-490d-97bf-c402cb9ac031",
   "metadata": {},
   "outputs": [
    {
     "data": {
      "text/plain": [
       "float"
      ]
     },
     "execution_count": 20,
     "metadata": {},
     "output_type": "execute_result"
    }
   ],
   "source": [
    "type(b)"
   ]
  },
  {
   "cell_type": "code",
   "execution_count": 21,
   "id": "fdb6fc6c-7186-4692-8909-94e727c0c57b",
   "metadata": {},
   "outputs": [],
   "source": [
    "c = 1-4j"
   ]
  },
  {
   "cell_type": "code",
   "execution_count": 22,
   "id": "cce5bcca-1562-4e2f-bb56-98c181924b1d",
   "metadata": {},
   "outputs": [
    {
     "data": {
      "text/plain": [
       "(1-4j)"
      ]
     },
     "execution_count": 22,
     "metadata": {},
     "output_type": "execute_result"
    }
   ],
   "source": [
    "c"
   ]
  },
  {
   "cell_type": "code",
   "execution_count": 23,
   "id": "9d9f20e5-05a7-439e-8833-79d7b2fae459",
   "metadata": {},
   "outputs": [
    {
     "data": {
      "text/plain": [
       "complex"
      ]
     },
     "execution_count": 23,
     "metadata": {},
     "output_type": "execute_result"
    }
   ],
   "source": [
    "type(c)"
   ]
  },
  {
   "cell_type": "markdown",
   "id": "c04e74f8-e482-4a7e-b90d-37c4e3b19255",
   "metadata": {},
   "source": [
    "### 1-2. boolean\n",
    "\n",
    "True, False로 이루어진 타입"
   ]
  },
  {
   "cell_type": "code",
   "execution_count": 24,
   "id": "17337d22-e125-40fa-80b5-07fefd987662",
   "metadata": {},
   "outputs": [],
   "source": [
    "a = True"
   ]
  },
  {
   "cell_type": "code",
   "execution_count": 25,
   "id": "ab99836d-c55a-4487-8280-3f1845039a63",
   "metadata": {},
   "outputs": [
    {
     "data": {
      "text/plain": [
       "True"
      ]
     },
     "execution_count": 25,
     "metadata": {},
     "output_type": "execute_result"
    }
   ],
   "source": [
    "a"
   ]
  },
  {
   "cell_type": "code",
   "execution_count": 26,
   "id": "bca14f02-04f9-4574-8e97-bdc0c148f064",
   "metadata": {},
   "outputs": [
    {
     "data": {
      "text/plain": [
       "bool"
      ]
     },
     "execution_count": 26,
     "metadata": {},
     "output_type": "execute_result"
    }
   ],
   "source": [
    "type(a)"
   ]
  },
  {
   "cell_type": "code",
   "execution_count": 28,
   "id": "814fe737-e53a-4efd-b85f-5a2df646415a",
   "metadata": {},
   "outputs": [],
   "source": [
    "b = False"
   ]
  },
  {
   "cell_type": "code",
   "execution_count": 29,
   "id": "2ec61cc5-0049-40a3-8c87-6a341517e743",
   "metadata": {},
   "outputs": [
    {
     "data": {
      "text/plain": [
       "False"
      ]
     },
     "execution_count": 29,
     "metadata": {},
     "output_type": "execute_result"
    }
   ],
   "source": [
    "b"
   ]
  },
  {
   "cell_type": "code",
   "execution_count": 30,
   "id": "23af3445-1e15-4ff4-861b-55095ff692d8",
   "metadata": {},
   "outputs": [
    {
     "data": {
      "text/plain": [
       "bool"
      ]
     },
     "execution_count": 30,
     "metadata": {},
     "output_type": "execute_result"
    }
   ],
   "source": [
    "type(b)"
   ]
  },
  {
   "cell_type": "markdown",
   "id": "9e40c783-c585-4354-ab57-67b6427b8e79",
   "metadata": {},
   "source": [
    "### 1-3. None"
   ]
  },
  {
   "cell_type": "code",
   "execution_count": 31,
   "id": "0ea530a4-533b-4bda-9edf-69b0c6579d9d",
   "metadata": {},
   "outputs": [],
   "source": [
    "a = None"
   ]
  },
  {
   "cell_type": "code",
   "execution_count": 32,
   "id": "89036259-98e6-4569-a33f-f1dcb0bc48cd",
   "metadata": {},
   "outputs": [
    {
     "data": {
      "text/plain": [
       "NoneType"
      ]
     },
     "execution_count": 32,
     "metadata": {},
     "output_type": "execute_result"
    }
   ],
   "source": [
    "type(a)"
   ]
  },
  {
   "cell_type": "markdown",
   "id": "72e7ac8e-f336-48e3-9a6b-8a1f6f7935d0",
   "metadata": {},
   "source": [
    "### 1.4 String\n",
    "\n",
    "- 문자열은 `'`, `\"`를 이용해서 표현"
   ]
  },
  {
   "cell_type": "code",
   "execution_count": 33,
   "id": "c6a15ac1-8026-4a7f-b27c-10e682484e08",
   "metadata": {},
   "outputs": [],
   "source": [
    "a = 'hello'"
   ]
  },
  {
   "cell_type": "code",
   "execution_count": 34,
   "id": "988256b6-6ac0-4ec0-b5cd-da3a4564930b",
   "metadata": {},
   "outputs": [
    {
     "data": {
      "text/plain": [
       "str"
      ]
     },
     "execution_count": 34,
     "metadata": {},
     "output_type": "execute_result"
    }
   ],
   "source": [
    "type(a)"
   ]
  },
  {
   "cell_type": "code",
   "execution_count": 35,
   "id": "d4cf9d0a-f4da-4235-afaa-3dd0f4018b1f",
   "metadata": {},
   "outputs": [],
   "source": [
    "b=\"world\""
   ]
  },
  {
   "cell_type": "code",
   "execution_count": 36,
   "id": "a8fa9351-9d75-4d0f-b943-b603761cdf90",
   "metadata": {},
   "outputs": [
    {
     "data": {
      "text/plain": [
       "str"
      ]
     },
     "execution_count": 36,
     "metadata": {},
     "output_type": "execute_result"
    }
   ],
   "source": [
    "type(b)"
   ]
  },
  {
   "cell_type": "code",
   "execution_count": 46,
   "id": "239501b6-e5c2-4336-ad26-0db68b4d43c6",
   "metadata": {},
   "outputs": [
    {
     "name": "stdout",
     "output_type": "stream",
     "text": [
      " 29\n"
     ]
    },
    {
     "name": "stdout",
     "output_type": "stream",
     "text": [
      "29\n",
      "<class 'str'>\n"
     ]
    }
   ],
   "source": [
    "age = input() #숫자로 넣어도 글자로 저장됨\n",
    "print(age)\n",
    "print(type(age))"
   ]
  },
  {
   "cell_type": "code",
   "execution_count": 42,
   "id": "ab6e8a5e-5cb7-4838-998d-64ac872f8570",
   "metadata": {},
   "outputs": [
    {
     "name": "stdout",
     "output_type": "stream",
     "text": [
      "안녕하세요 \"김민수\" 입니다.\n",
      "안녕하세요 '김민수' 입니다.\n"
     ]
    }
   ],
   "source": [
    "#print('안녕하세요 '김민수'입니다.') ''안에 ''불가능\n",
    "print('안녕하세요 \"김민수\" 입니다.') #`'`, `\"`각 안에 써야할때는 반대로 넣어줘야함\n",
    "print(\"안녕하세요 '김민수' 입니다.\")"
   ]
  },
  {
   "cell_type": "code",
   "execution_count": 43,
   "id": "4832b9a2-2e6f-4a89-b5b6-6f4a2559881a",
   "metadata": {},
   "outputs": [
    {
     "name": "stdout",
     "output_type": "stream",
     "text": [
      "안녕하세요. '김민수'입니다.\n"
     ]
    }
   ],
   "source": [
    "print('안녕하세요. \\'김민수\\'입니다.')"
   ]
  },
  {
   "cell_type": "code",
   "execution_count": 47,
   "id": "39f2c778-60c7-4cf3-9ce3-5807e132abaa",
   "metadata": {},
   "outputs": [
    {
     "name": "stdout",
     "output_type": "stream",
     "text": [
      "\n",
      "안녕하세요 '김민수'입니다.\n",
      "여러줄도 작성가능합니다.\n",
      "\n"
     ]
    }
   ],
   "source": [
    "a = '''\n",
    "안녕하세요 '김민수'입니다.\n",
    "여러줄도 작성가능합니다.\n",
    "'''\n",
    "print(a)"
   ]
  },
  {
   "cell_type": "code",
   "execution_count": 49,
   "id": "2e6c5285-3a6e-405e-afdc-4ca68bd42e6a",
   "metadata": {},
   "outputs": [
    {
     "name": "stdout",
     "output_type": "stream",
     "text": [
      "안녕하세요. \n",
      "김민수입니다. \t들여쓰기 이스케이프 문자열입니다.\n"
     ]
    }
   ],
   "source": [
    "print('안녕하세요. \\n김민수입니다. \\t들여쓰기 이스케이프 문자열입니다.')"
   ]
  },
  {
   "cell_type": "markdown",
   "id": "793bac4d-432b-4561-b370-331953e28114",
   "metadata": {},
   "source": [
    "#### string interpolation\n",
    "\n",
    "1. %-formatting\n",
    "2. str.format()\n",
    "3. f-string"
   ]
  },
  {
   "cell_type": "code",
   "execution_count": 50,
   "id": "4d550f41-6dac-4620-9557-c6445e98173d",
   "metadata": {},
   "outputs": [],
   "source": [
    "age = 10"
   ]
  },
  {
   "cell_type": "code",
   "execution_count": 51,
   "id": "5de4002a-8391-4a5b-9bfb-b21cfc8723c3",
   "metadata": {},
   "outputs": [
    {
     "name": "stdout",
     "output_type": "stream",
     "text": [
      "홍길동은 10살 입니다.\n"
     ]
    }
   ],
   "source": [
    "print('홍길동은 %s살 입니다.' % age)"
   ]
  },
  {
   "cell_type": "code",
   "execution_count": 53,
   "id": "ab17e704-fd05-4649-a223-db4d9abe13df",
   "metadata": {},
   "outputs": [
    {
     "name": "stdout",
     "output_type": "stream",
     "text": [
      "홍길동은 10살 입니다.\n"
     ]
    }
   ],
   "source": [
    "print('홍길동은 {}살 입니다.'.format(age))"
   ]
  },
  {
   "cell_type": "code",
   "execution_count": 52,
   "id": "ec119132-d3e7-4265-bdc0-db5e7834fd0d",
   "metadata": {},
   "outputs": [
    {
     "name": "stdout",
     "output_type": "stream",
     "text": [
      "홍길동은 10살 입니다.\n"
     ]
    }
   ],
   "source": [
    "print(f'홍길동은 {age}살 입니다.')"
   ]
  },
  {
   "cell_type": "markdown",
   "id": "20c2922c-d761-43bf-a253-8f06415b8b89",
   "metadata": {},
   "source": [
    "### 2. 연산자\n",
    "\n",
    "#### 2.1 산술연산자"
   ]
  },
  {
   "cell_type": "code",
   "execution_count": 61,
   "id": "39c1e943-bb3d-4410-924d-7101db9b9775",
   "metadata": {},
   "outputs": [],
   "source": [
    "a = 7\n",
    "b = 3"
   ]
  },
  {
   "cell_type": "code",
   "execution_count": 65,
   "id": "5713a81a-059b-4a7e-9e1e-a1eb8c32a195",
   "metadata": {},
   "outputs": [
    {
     "name": "stdout",
     "output_type": "stream",
     "text": [
      "15\n",
      "-5\n",
      "50\n",
      "0.5\n",
      "9765625\n"
     ]
    }
   ],
   "source": [
    "print(a + b)\n",
    "print(a - b)\n",
    "print(a * b)\n",
    "print(a / b)\n",
    "print(a ** b)"
   ]
  },
  {
   "cell_type": "code",
   "execution_count": 66,
   "id": "719ec6bb-5149-41c3-ae05-a8b4df30c593",
   "metadata": {},
   "outputs": [
    {
     "name": "stdout",
     "output_type": "stream",
     "text": [
      "0\n",
      "5\n",
      "(0, 5)\n"
     ]
    }
   ],
   "source": [
    "# a를 b로 나눈 몫\n",
    "print(a // b)\n",
    "# a를 b로 나눈 나머지\n",
    "print(a % b)\n",
    "# 몫과 나머지를 같이\n",
    "print(divmod(a, b))"
   ]
  },
  {
   "cell_type": "markdown",
   "id": "592e75b4-b2b2-4909-81fe-236246c8235f",
   "metadata": {},
   "source": [
    "#### 2.2 비교연산자"
   ]
  },
  {
   "cell_type": "code",
   "execution_count": 63,
   "id": "bf0576c6-1599-427d-bb45-21a27d3acfa0",
   "metadata": {},
   "outputs": [],
   "source": [
    "a = 5\n",
    "b = 10"
   ]
  },
  {
   "cell_type": "code",
   "execution_count": 67,
   "id": "354cc113-1416-4fe8-b62c-a84412023de7",
   "metadata": {},
   "outputs": [
    {
     "name": "stdout",
     "output_type": "stream",
     "text": [
      "False\n",
      "True\n",
      "False\n",
      "True\n"
     ]
    }
   ],
   "source": [
    "print(a > b)\n",
    "print(a < b)\n",
    "print(a >= b)\n",
    "print(a <= b)"
   ]
  },
  {
   "cell_type": "code",
   "execution_count": 69,
   "id": "504569e6-8dc8-48c4-8ae4-36ac97e3006f",
   "metadata": {},
   "outputs": [
    {
     "name": "stdout",
     "output_type": "stream",
     "text": [
      "False\n",
      "True\n"
     ]
    }
   ],
   "source": [
    "print(a == b)\n",
    "print(a != b)"
   ]
  },
  {
   "cell_type": "code",
   "execution_count": 70,
   "id": "164cec45-a140-402d-b93a-62da3aea62ca",
   "metadata": {},
   "outputs": [
    {
     "name": "stdout",
     "output_type": "stream",
     "text": [
      "True\n",
      "False\n"
     ]
    }
   ],
   "source": [
    "print('hi' == 'hi')\n",
    "print('hi' == 'Hi')"
   ]
  },
  {
   "cell_type": "markdown",
   "id": "e1ca02c4-f229-4d23-81a2-349724da1039",
   "metadata": {},
   "source": [
    "#### 2.3 논리 연산자\n",
    "\n",
    "- and : 양쪽 모두 True일 때, True를 반환\n",
    "- or : 양쪽 모두 False일 때, False를 반환\n",
    "- not :"
   ]
  },
  {
   "cell_type": "code",
   "execution_count": 71,
   "id": "b9b2743c-a3c6-499a-bb3d-5f6b47a71a91",
   "metadata": {},
   "outputs": [
    {
     "name": "stdout",
     "output_type": "stream",
     "text": [
      "True\n",
      "False\n",
      "False\n",
      "False\n"
     ]
    }
   ],
   "source": [
    "print(True and True)\n",
    "print(True and False)\n",
    "print(False and True)\n",
    "print(False and False)"
   ]
  },
  {
   "cell_type": "code",
   "execution_count": 72,
   "id": "5349f4e4-d5a1-4240-be47-df9ecc14a737",
   "metadata": {},
   "outputs": [
    {
     "name": "stdout",
     "output_type": "stream",
     "text": [
      "True\n",
      "True\n",
      "True\n",
      "False\n"
     ]
    }
   ],
   "source": [
    "print(True or True)\n",
    "print(True or False)\n",
    "print(False or True)\n",
    "print(False or False)"
   ]
  },
  {
   "cell_type": "code",
   "execution_count": 73,
   "id": "11f0c397-dde7-4bec-af63-e4ed15dbc104",
   "metadata": {},
   "outputs": [
    {
     "name": "stdout",
     "output_type": "stream",
     "text": [
      "False\n"
     ]
    }
   ],
   "source": [
    "result = True\n",
    "print(not result)"
   ]
  },
  {
   "cell_type": "code",
   "execution_count": 74,
   "id": "f6b5a19a-85ce-4c7e-89d0-603fd399cc7a",
   "metadata": {},
   "outputs": [
    {
     "name": "stdout",
     "output_type": "stream",
     "text": [
      "5\n",
      "0\n",
      "0\n",
      "0\n"
     ]
    }
   ],
   "source": [
    "# 단축평가(and)\n",
    "\n",
    "print(3 and 5)\n",
    "print(3 and 0)\n",
    "print(0 and 3)\n",
    "print(0 and 0)"
   ]
  },
  {
   "cell_type": "code",
   "execution_count": 75,
   "id": "d1f21aba-c021-4cda-adbc-bca86e56bd70",
   "metadata": {},
   "outputs": [
    {
     "name": "stdout",
     "output_type": "stream",
     "text": [
      "3\n",
      "3\n",
      "3\n",
      "0\n"
     ]
    }
   ],
   "source": [
    "# 단축평가(or)\n",
    "\n",
    "print(3 or 5)\n",
    "print(3 or 0)\n",
    "print(0 or 3)\n",
    "print(0 or 0)"
   ]
  },
  {
   "cell_type": "markdown",
   "id": "0eea06ed-625a-487e-8d79-45d02298bcca",
   "metadata": {},
   "source": [
    "#### 2.4 복합 연산자"
   ]
  },
  {
   "cell_type": "code",
   "execution_count": 76,
   "id": "2b79ba03-f026-44eb-8d1f-9a2fef029cc8",
   "metadata": {},
   "outputs": [],
   "source": [
    "a = 1\n",
    "b = 2"
   ]
  },
  {
   "cell_type": "code",
   "execution_count": null,
   "id": "0a22c2d1-3fa4-4fb1-9ccc-0ac106b82ea2",
   "metadata": {},
   "outputs": [],
   "source": [
    "a = a + b\n",
    "a = a - b\n",
    "a = a * b\n",
    "a = a / b"
   ]
  },
  {
   "cell_type": "code",
   "execution_count": null,
   "id": "0f2300f6-9a76-41ff-aa19-2309d3d22daf",
   "metadata": {},
   "outputs": [],
   "source": [
    "a += b\n",
    "a -= b\n",
    "a *= b\n",
    "a /= b\n",
    "a //= b\n",
    "a %= b\n",
    "a **= b"
   ]
  },
  {
   "cell_type": "markdown",
   "id": "ef813187-2f5f-4462-95e4-9767e439f0c9",
   "metadata": {},
   "source": [
    "#### 2.5 기타 연산자"
   ]
  },
  {
   "cell_type": "code",
   "execution_count": 77,
   "id": "32dd6315-1d2b-4031-8acb-26d01d55ea32",
   "metadata": {},
   "outputs": [],
   "source": [
    "a = 'hi'\n",
    "b = 'hello'"
   ]
  },
  {
   "cell_type": "code",
   "execution_count": 81,
   "id": "6a24d599-eb58-4d71-83c7-362ce1de29ff",
   "metadata": {},
   "outputs": [
    {
     "name": "stdout",
     "output_type": "stream",
     "text": [
      "[1, 2, 3, 4, 5, 6]\n"
     ]
    }
   ],
   "source": [
    "# concatenation\n",
    "print(a + b)"
   ]
  },
  {
   "cell_type": "code",
   "execution_count": 82,
   "id": "0b116a9e-bb53-4e6a-9537-6f6c2e6f761d",
   "metadata": {},
   "outputs": [],
   "source": [
    "a = [1, 2, 3]\n",
    "b = [4, 5, 6]"
   ]
  },
  {
   "cell_type": "code",
   "execution_count": 83,
   "id": "4ed8003d-d246-4818-8fa8-17a8c919a605",
   "metadata": {},
   "outputs": [
    {
     "name": "stdout",
     "output_type": "stream",
     "text": [
      "[1, 2, 3, 4, 5, 6]\n"
     ]
    }
   ],
   "source": [
    "print(a + b)"
   ]
  },
  {
   "cell_type": "code",
   "execution_count": 85,
   "id": "c4afd08b-422f-4b47-b648-325bbfbc811a",
   "metadata": {},
   "outputs": [
    {
     "name": "stdout",
     "output_type": "stream",
     "text": [
      "True\n",
      "False\n"
     ]
    }
   ],
   "source": [
    "# containment\n",
    "print(1 in a) #(a에 1이 포함되어있는지?)\n",
    "print(5 in a)"
   ]
  },
  {
   "cell_type": "code",
   "execution_count": 86,
   "id": "629f3113-deee-4565-8559-7295c5d9e90c",
   "metadata": {},
   "outputs": [
    {
     "name": "stdout",
     "output_type": "stream",
     "text": [
      "True\n",
      "True\n"
     ]
    }
   ],
   "source": [
    "# identity\n",
    "a = 5\n",
    "b = 5\n",
    "\n",
    "print(a == b)\n",
    "print(a is b)"
   ]
  },
  {
   "cell_type": "code",
   "execution_count": 87,
   "id": "3cda0ff9-ff43-4829-86fb-bc1d4f4a15d2",
   "metadata": {},
   "outputs": [
    {
     "name": "stdout",
     "output_type": "stream",
     "text": [
      "True\n",
      "False\n"
     ]
    }
   ],
   "source": [
    "a = 123123\n",
    "b = 123123\n",
    "\n",
    "print(a == b)\n",
    "print(a is b)"
   ]
  },
  {
   "cell_type": "markdown",
   "id": "19f0c152-caba-48fe-8364-d17671547400",
   "metadata": {},
   "source": [
    "#### 우선순위\n",
    "\n",
    "0. ()를 통해 그룹\n",
    "1. **\n",
    "2. 산술연산자(*, /)\n",
    "3. 산술연산자(+, -)\n",
    "4. 비교연산자, in, is\n",
    "5. not\n",
    "6. and\n",
    "7. or"
   ]
  },
  {
   "cell_type": "code",
   "execution_count": 90,
   "id": "349fce06-0ebe-45fd-ac3a-144fe276282e",
   "metadata": {},
   "outputs": [
    {
     "name": "stdout",
     "output_type": "stream",
     "text": [
      "-81\n",
      "81\n"
     ]
    }
   ],
   "source": [
    "print(-3 ** 4) # -보다 **이 연산자 우선순위가 높기때문에 -81이 나옴\n",
    "print((-3)**4)"
   ]
  },
  {
   "cell_type": "markdown",
   "id": "d4765d26-7e6d-4e11-b4fe-41b8f06bed07",
   "metadata": {},
   "source": [
    "### 3. 형변환\n",
    "#### 3.1 암시적 형변환"
   ]
  },
  {
   "cell_type": "code",
   "execution_count": 91,
   "id": "6d2c20de-bb67-4f27-a9bd-de11321c7282",
   "metadata": {},
   "outputs": [],
   "source": [
    "a = True\n",
    "b = False\n",
    "c = 1"
   ]
  },
  {
   "cell_type": "code",
   "execution_count": 93,
   "id": "adf87f90-842f-4489-b981-39124df82e85",
   "metadata": {},
   "outputs": [
    {
     "name": "stdout",
     "output_type": "stream",
     "text": [
      "1\n",
      "-1\n"
     ]
    }
   ],
   "source": [
    "print(a + b)\n",
    "print(b - c)"
   ]
  },
  {
   "cell_type": "code",
   "execution_count": 94,
   "id": "0e5bd522-6b14-48f7-837b-cbc392dbea70",
   "metadata": {},
   "outputs": [],
   "source": [
    "int_num = 3\n",
    "float_num = 3.3\n",
    "complex_num = 3 + 3j"
   ]
  },
  {
   "cell_type": "code",
   "execution_count": 97,
   "id": "feb572bc-eba9-4cd2-8afd-1600cb2a2ae6",
   "metadata": {},
   "outputs": [
    {
     "name": "stdout",
     "output_type": "stream",
     "text": [
      "6.3\n",
      "(6.3+3j)\n"
     ]
    }
   ],
   "source": [
    "print(int_num + float_num)\n",
    "print(complex_num + float_num)"
   ]
  },
  {
   "cell_type": "code",
   "execution_count": 98,
   "id": "fd4d397c-11e1-43da-a08d-7743b6febace",
   "metadata": {},
   "outputs": [
    {
     "name": "stdout",
     "output_type": "stream",
     "text": [
      "<class 'float'>\n",
      "<class 'complex'>\n"
     ]
    }
   ],
   "source": [
    "print(type(int_num + float_num))\n",
    "print(type(complex_num + float_num))"
   ]
  },
  {
   "cell_type": "markdown",
   "id": "417f63e1-b2c9-4bb6-8e1e-bcb646904f09",
   "metadata": {},
   "source": [
    "#### 3.2 명시적 형변환\n",
    "\n",
    "- int() : string, float => int\n",
    "- float() : string, int => float\n",
    "- str() : int, float => string\n",
    "- bool() : int, string => bool"
   ]
  },
  {
   "cell_type": "code",
   "execution_count": 99,
   "id": "85d9ab4e-c251-4079-a6ed-88d9e4918a31",
   "metadata": {},
   "outputs": [],
   "source": [
    "a = 1\n",
    "b = '번'"
   ]
  },
  {
   "cell_type": "code",
   "execution_count": 101,
   "id": "112a2575-e20e-4bf5-8c56-cf044372aa37",
   "metadata": {},
   "outputs": [
    {
     "name": "stdout",
     "output_type": "stream",
     "text": [
      "1번\n"
     ]
    }
   ],
   "source": [
    "print(str(a)+b)"
   ]
  },
  {
   "cell_type": "code",
   "execution_count": 102,
   "id": "d455040f-6510-41f1-ab1d-25c0770da8ac",
   "metadata": {},
   "outputs": [
    {
     "name": "stdout",
     "output_type": "stream",
     "text": [
      "<class 'str'>\n"
     ]
    }
   ],
   "source": [
    "a = '3'\n",
    "print(type(a))"
   ]
  },
  {
   "cell_type": "code",
   "execution_count": 104,
   "id": "eebcb137-84be-44de-9e3c-7b1f003f52a2",
   "metadata": {},
   "outputs": [
    {
     "name": "stdout",
     "output_type": "stream",
     "text": [
      "<class 'int'>\n"
     ]
    }
   ],
   "source": [
    "print(type(int(a)))"
   ]
  },
  {
   "cell_type": "code",
   "execution_count": null,
   "id": "644a1da3-7607-497b-884f-282f33d07242",
   "metadata": {},
   "outputs": [],
   "source": [
    "a = 'a'\n",
    "#print(int(a))"
   ]
  },
  {
   "cell_type": "code",
   "execution_count": 105,
   "id": "0b363ca0-dcad-454e-b229-6244ba9063af",
   "metadata": {},
   "outputs": [
    {
     "name": "stdout",
     "output_type": "stream",
     "text": [
      "3.3\n"
     ]
    }
   ],
   "source": [
    "a = '3.3'\n",
    "#print(int(a)) error\n",
    "print(float(a))"
   ]
  },
  {
   "cell_type": "code",
   "execution_count": 106,
   "id": "881e3946-bc4f-4724-b1b1-341d61cd9ddf",
   "metadata": {},
   "outputs": [
    {
     "name": "stdout",
     "output_type": "stream",
     "text": [
      "True\n",
      "False\n"
     ]
    }
   ],
   "source": [
    "a = 1\n",
    "b = 0\n",
    "\n",
    "print(bool(a))\n",
    "print(bool(b))"
   ]
  },
  {
   "cell_type": "code",
   "execution_count": 108,
   "id": "f8d36ae1-d351-4c0a-b4e1-6038f855631d",
   "metadata": {},
   "outputs": [
    {
     "name": "stdout",
     "output_type": "stream",
     "text": [
      "False\n"
     ]
    }
   ],
   "source": [
    "print(bool([]))"
   ]
  },
  {
   "cell_type": "code",
   "execution_count": 107,
   "id": "89baa044-c18c-4bd1-8f47-7889307fc2ea",
   "metadata": {},
   "outputs": [
    {
     "name": "stdout",
     "output_type": "stream",
     "text": [
      "True\n"
     ]
    }
   ],
   "source": [
    "print(bool([1, 2, 3]))"
   ]
  },
  {
   "cell_type": "markdown",
   "id": "3ca9a171-1abd-4320-b586-54f46bff25c5",
   "metadata": {},
   "source": [
    "### 4. 시퀀스 자료형\n",
    "\n",
    "- 시퀀스는 데이터의 순서대로 나열된 자료구조. (순서대로 나열되었다는 것은 정렬된 것과 다르다)\n",
    "\n",
    "1. List []\n",
    "2. Tuple ()\n",
    "3. Range\n",
    "4. String"
   ]
  },
  {
   "cell_type": "markdown",
   "id": "274f03db-a113-4913-ab78-2b2f15048312",
   "metadata": {},
   "source": [
    "#### 4.1 List(리스트, 배열)\n",
    "\n",
    "- 선언 : 변수이름 = [value1, value2, value3 ...]\n",
    "- 접근 : 변수이름[index]"
   ]
  },
  {
   "cell_type": "code",
   "execution_count": 110,
   "id": "a4c9133f-a099-412e-9135-b75c2ebd414e",
   "metadata": {},
   "outputs": [
    {
     "name": "stdout",
     "output_type": "stream",
     "text": [
      "[]\n",
      "<class 'list'>\n"
     ]
    }
   ],
   "source": [
    "l = []\n",
    "print(l)\n",
    "print(type(l))"
   ]
  },
  {
   "cell_type": "code",
   "execution_count": 115,
   "id": "a0251e94-bc0c-4903-8afb-c39b17d96b34",
   "metadata": {},
   "outputs": [
    {
     "name": "stdout",
     "output_type": "stream",
     "text": [
      "['서울', '대전', '부산']\n",
      "서울\n",
      "['서울', '광주', '부산']\n"
     ]
    }
   ],
   "source": [
    "location = ['서울', '대전', '부산']\n",
    "print(location)\n",
    "print(location[0])\n",
    "\n",
    "location[1] = '광주'\n",
    "print(location)"
   ]
  },
  {
   "cell_type": "markdown",
   "id": "283e2397-52eb-41fe-919f-7d953ac9aa47",
   "metadata": {},
   "source": [
    "#### 4.2 Tuple(튜플)\n",
    "\n",
    "- 선언 : 변수이름 = (value1, value2, value3 ...)\n",
    "- 접근 : 변수이름[index]\n",
    "- 리스트와 유사하지만 수정 불가능(immutable)이다."
   ]
  },
  {
   "cell_type": "code",
   "execution_count": 116,
   "id": "e8cb77be-9e13-41d2-a026-594baf728bdf",
   "metadata": {},
   "outputs": [
    {
     "name": "stdout",
     "output_type": "stream",
     "text": [
      "(123, 456, 789)\n",
      "456\n"
     ]
    }
   ],
   "source": [
    "number = (123, 456, 789)\n",
    "print(number)\n",
    "print(number[1])"
   ]
  },
  {
   "cell_type": "code",
   "execution_count": 118,
   "id": "0827f1bd-14c8-41c7-a18c-71e657ac1f3d",
   "metadata": {},
   "outputs": [
    {
     "name": "stdout",
     "output_type": "stream",
     "text": [
      "1 2\n",
      "2 1\n"
     ]
    }
   ],
   "source": [
    "x, y = (1, 2)\n",
    "print(x, y)\n",
    "\n",
    "x, y = y, x\n",
    "print(x, y)"
   ]
  },
  {
   "cell_type": "markdown",
   "id": "d7ee6506-ff37-4728-8c1e-7a7f60abbb54",
   "metadata": {},
   "source": [
    "#### 4.3 Range\n",
    "\n",
    "- range(n) : 0부터 n-1까지 범위\n",
    "- range(n, m) : n부터 m-1까지 범위\n",
    "- range(n, m, s) : n부터 m-1까지 s만큼 증가하는 범위"
   ]
  },
  {
   "cell_type": "code",
   "execution_count": 122,
   "id": "0b15b7f0-cc9f-48ce-b370-1d2d9d3b7ede",
   "metadata": {},
   "outputs": [
    {
     "name": "stdout",
     "output_type": "stream",
     "text": [
      "[0, 1, 2, 3, 4, 5, 6, 7, 8, 9, 10, 11, 12, 13, 14, 15, 16, 17, 18, 19, 20, 21, 22, 23, 24, 25, 26, 27, 28, 29, 30, 31, 32, 33, 34, 35, 36, 37, 38, 39, 40, 41, 42, 43, 44]\n"
     ]
    }
   ],
   "source": [
    "#로또번호 뽑기\n",
    "\n",
    "#lotto = [1, 2, 3, 4, 5 ..., 45]\n",
    "lotto = range(45)\n",
    "\n",
    "print(list(lotto))"
   ]
  },
  {
   "cell_type": "code",
   "execution_count": 123,
   "id": "c2583c36-3be7-4ea2-8b8d-85fe05e071b4",
   "metadata": {},
   "outputs": [
    {
     "name": "stdout",
     "output_type": "stream",
     "text": [
      "range(5, 10)\n",
      "[5, 6, 7, 8, 9]\n"
     ]
    }
   ],
   "source": [
    "numbers = range(5, 10)\n",
    "print(numbers)\n",
    "print(list(numbers))"
   ]
  },
  {
   "cell_type": "code",
   "execution_count": 124,
   "id": "9447e9d7-6240-4681-a9ed-899d037a6e39",
   "metadata": {},
   "outputs": [
    {
     "name": "stdout",
     "output_type": "stream",
     "text": [
      "range(2, 20, 2)\n",
      "[2, 4, 6, 8, 10, 12, 14, 16, 18]\n"
     ]
    }
   ],
   "source": [
    "even = range(2, 20, 2)\n",
    "print(even)\n",
    "print(list(even))"
   ]
  },
  {
   "cell_type": "code",
   "execution_count": 125,
   "id": "8dfac763-da30-41ee-8610-a0e6ea75f306",
   "metadata": {},
   "outputs": [
    {
     "name": "stdout",
     "output_type": "stream",
     "text": [
      "range(0, -10, -2)\n",
      "[0, -2, -4, -6, -8]\n"
     ]
    }
   ],
   "source": [
    "numbers = range(0, -10, -2)\n",
    "print(numbers)\n",
    "print(list(numbers))"
   ]
  },
  {
   "cell_type": "markdown",
   "id": "7fdfff06-6f47-47fe-8d1a-fd5ed5d1d901",
   "metadata": {},
   "source": [
    "#### 4.4 String\n",
    "\n",
    "기본 데이터 구조 참조"
   ]
  },
  {
   "cell_type": "markdown",
   "id": "843c49be-3446-4219-b966-752afb0331ec",
   "metadata": {},
   "source": [
    "#### 4.5 시퀀스에서 활용가능한 연산/함수\n",
    "\n",
    "- 시퀀스는 indexing(하나씩 접근) 가능\n",
    "- 시퀀스는 slicing(자르기) 가능\n",
    "- 시퀀스는 in(포함여부)/not in(불포함 여부) 가능\n",
    "- 시퀀스는 concatenation(연결) 가능\n",
    "- 시퀀스는 *(반복), min, max 등 반복 및 특정값 출력 가능"
   ]
  },
  {
   "cell_type": "code",
   "execution_count": 128,
   "id": "04c1a637-f343-4e68-8dca-1bb4daebab8d",
   "metadata": {},
   "outputs": [],
   "source": [
    "my_list = [1, 2, 3, 4, 5]\n",
    "my_tuple = (1, 2, 3, 4, 5)\n",
    "my_range = range(5)\n",
    "my_string = '12345'"
   ]
  },
  {
   "cell_type": "code",
   "execution_count": 129,
   "id": "8f499def-93fb-46f5-bdbb-b80135c37ae7",
   "metadata": {},
   "outputs": [
    {
     "name": "stdout",
     "output_type": "stream",
     "text": [
      "1\n",
      "1\n",
      "0\n",
      "1\n"
     ]
    }
   ],
   "source": [
    "# indexing\n",
    "\n",
    "print(my_list[0])\n",
    "print(my_tuple[0])\n",
    "print(my_range[0])\n",
    "print(my_string[0])"
   ]
  },
  {
   "cell_type": "code",
   "execution_count": 133,
   "id": "7b7f3c6a-c3c7-4a12-b14a-4f613b0603f8",
   "metadata": {},
   "outputs": [
    {
     "name": "stdout",
     "output_type": "stream",
     "text": [
      "[2, 3]\n",
      "(2, 3)\n",
      "range(1, 3)\n",
      "23\n",
      "13\n"
     ]
    }
   ],
   "source": [
    "# slicing\n",
    "\n",
    "print(my_list[1:3])\n",
    "print(my_tuple[1:3])\n",
    "print(my_range[1:3])\n",
    "print(my_string[1:3])\n",
    "\n",
    "print(my_string[0:4:2])"
   ]
  },
  {
   "cell_type": "code",
   "execution_count": 137,
   "id": "354b20f9-c04a-4998-87ba-8e740a9c055f",
   "metadata": {},
   "outputs": [
    {
     "name": "stdout",
     "output_type": "stream",
     "text": [
      "True\n",
      "True\n",
      "True\n",
      "True\n",
      "False\n"
     ]
    }
   ],
   "source": [
    "# in\n",
    "\n",
    "print(1 in my_list)\n",
    "print(1 in my_tuple)\n",
    "print(1 in my_range)\n",
    "print('1' in my_string)\n",
    "\n",
    "# not in\n",
    "print(1 not in my_list)"
   ]
  },
  {
   "cell_type": "code",
   "execution_count": 140,
   "id": "face97bf-eb78-4abd-936e-6e5bd3315939",
   "metadata": {},
   "outputs": [
    {
     "name": "stdout",
     "output_type": "stream",
     "text": [
      "[1, 2, 3, 4, 5, 6, 7, 8, 9, 10]\n",
      "(1, 2, 3, 4, 5, 6, 7, 8, 9, 10)\n",
      "12345678910\n"
     ]
    }
   ],
   "source": [
    "# concatenation\n",
    "\n",
    "print(my_list + [6, 7, 8, 9, 10])\n",
    "print(my_tuple + (6, 7, 8, 9, 10))\n",
    "print(my_string + '678910')"
   ]
  },
  {
   "cell_type": "code",
   "execution_count": 143,
   "id": "c2265796-9555-48cd-a851-dd51376a3d0b",
   "metadata": {},
   "outputs": [
    {
     "name": "stdout",
     "output_type": "stream",
     "text": [
      "##########\n",
      "[0, 0, 0, 0, 0, 0, 0, 0, 0, 0]\n"
     ]
    }
   ],
   "source": [
    "# * 반복작업\n",
    "\n",
    "print('#' * 10)\n",
    "print([0] * 10)"
   ]
  },
  {
   "cell_type": "code",
   "execution_count": 147,
   "id": "2af810f3-138e-42e4-8609-316c99be88ef",
   "metadata": {},
   "outputs": [
    {
     "name": "stdout",
     "output_type": "stream",
     "text": [
      "5\n"
     ]
    }
   ],
   "source": [
    "print(len(my_list)) #길이"
   ]
  },
  {
   "cell_type": "code",
   "execution_count": 146,
   "id": "d4ded21f-3ff7-4d64-9a39-c59f1e3cc9ea",
   "metadata": {},
   "outputs": [
    {
     "name": "stdout",
     "output_type": "stream",
     "text": [
      "5\n",
      "1\n"
     ]
    }
   ],
   "source": [
    "print(max(my_list)) #최대값\n",
    "print(min(my_list)) #최솟값"
   ]
  },
  {
   "cell_type": "markdown",
   "id": "235e6538-e2c1-441f-815f-02db4e880b65",
   "metadata": {},
   "source": [
    "### 5. 시퀀스형이 아닌 자료구조"
   ]
  },
  {
   "cell_type": "markdown",
   "id": "c2ae8d8a-0527-41ce-9054-3bfd0da37d7c",
   "metadata": {},
   "source": [
    "#### 5.1 Set\n",
    "\n",
    "수학에서 사용하는 집합과 동일한 개념 (중복값이 없음)\n",
    "\n",
    "- 선언 : 변수이름 = {value1, value2, value3 ...}"
   ]
  },
  {
   "cell_type": "code",
   "execution_count": 148,
   "id": "3cc5c3dc-bdf6-48b0-a0ca-cb98b19b038c",
   "metadata": {},
   "outputs": [],
   "source": [
    "my_set_a = {1, 3, 5, 7, 9}\n",
    "my_set_b = {1, 2, 3, 4, 5}"
   ]
  },
  {
   "cell_type": "code",
   "execution_count": 150,
   "id": "2ad882d5-f695-4e7c-8e4d-dd98834452d0",
   "metadata": {},
   "outputs": [
    {
     "name": "stdout",
     "output_type": "stream",
     "text": [
      "{9, 7}\n",
      "{1, 2, 3, 4, 5, 7, 9}\n",
      "{1, 3, 5}\n"
     ]
    }
   ],
   "source": [
    "print(my_set_a - my_set_b) #차집합\n",
    "print(my_set_a | my_set_b) #합집합\n",
    "print(my_set_a & my_set_b) #교집합"
   ]
  },
  {
   "cell_type": "code",
   "execution_count": 152,
   "id": "a904794a-76f1-4dfa-be67-ecfbec3193af",
   "metadata": {},
   "outputs": [
    {
     "name": "stdout",
     "output_type": "stream",
     "text": [
      "{1, 2, 3, 4, 5, 6}\n"
     ]
    }
   ],
   "source": [
    "#중복값 확인\n",
    "test_set = {1, 2, 3, 4, 1, 3, 4, 5, 6, 1, 2, 3, 4, 5}\n",
    "print(test_set)"
   ]
  },
  {
   "cell_type": "markdown",
   "id": "af449188-9796-45e5-9c3b-a21e20965e24",
   "metadata": {},
   "source": [
    "#### 5.2 Dictionary\n",
    "\n",
    "- 선언 : 변수이름 = {key1:value1, key2:value2, key3:value3 ...}\n",
    "- 접근 : 변수이름[key] -> 출력 : value"
   ]
  },
  {
   "cell_type": "code",
   "execution_count": 154,
   "id": "172c7cc5-be34-4ddc-9f25-6df7943f2fa0",
   "metadata": {},
   "outputs": [
    {
     "name": "stdout",
     "output_type": "stream",
     "text": [
      "{'서울': '02', '경기': '031', '충북': '043'}\n",
      "02\n"
     ]
    }
   ],
   "source": [
    "my_dict = {'서울':'02', '경기':'031', '충북':'043'}\n",
    "print(my_dict)\n",
    "print(my_dict['서울'])"
   ]
  },
  {
   "cell_type": "code",
   "execution_count": 155,
   "id": "847a3384-bdd1-402d-b7c2-87456ce63fc8",
   "metadata": {},
   "outputs": [
    {
     "name": "stdout",
     "output_type": "stream",
     "text": [
      "seoul\n"
     ]
    }
   ],
   "source": [
    "my_info = {\n",
    "    'name':'minsu',\n",
    "    'location':'seoul',\n",
    "    'age': 29\n",
    "}\n",
    "\n",
    "print(my_info['location'])"
   ]
  },
  {
   "cell_type": "code",
   "execution_count": 156,
   "id": "6d421920-e9bd-4488-980b-d3148a7aa5af",
   "metadata": {},
   "outputs": [
    {
     "data": {
      "text/plain": [
       "dict_keys(['name', 'location', 'age'])"
      ]
     },
     "execution_count": 156,
     "metadata": {},
     "output_type": "execute_result"
    }
   ],
   "source": [
    "my_info.keys()"
   ]
  },
  {
   "cell_type": "code",
   "execution_count": 158,
   "id": "5d3ee86d-6629-447b-a925-97b3c26ce9de",
   "metadata": {},
   "outputs": [
    {
     "data": {
      "text/plain": [
       "dict_values(['minsu', 'seoul', 29])"
      ]
     },
     "execution_count": 158,
     "metadata": {},
     "output_type": "execute_result"
    }
   ],
   "source": [
    "my_info.values()"
   ]
  },
  {
   "cell_type": "markdown",
   "id": "db33db77-26e2-49bf-a6fb-8bdea77eed5f",
   "metadata": {},
   "source": [
    "##### 데이터 타입\n",
    "1. Number\n",
    "2. Boolean\n",
    "3. String\n",
    "\n",
    "##### 자료구조\n",
    "- 시퀀스 자료형\n",
    "\n",
    "1. .[list]. : mutable\n",
    "2. (Tuple) : immutable\n",
    "3. range() : immutable\n",
    "4. 'String' : immutable\n",
    "\n",
    "- 시퀀스 자료형\n",
    "\n",
    "1. {set} : mutable\n",
    "2. {Dict: ionary} : mutable"
   ]
  }
 ],
 "metadata": {
  "kernelspec": {
   "display_name": "Python 3 (ipykernel)",
   "language": "python",
   "name": "python3"
  },
  "language_info": {
   "codemirror_mode": {
    "name": "ipython",
    "version": 3
   },
   "file_extension": ".py",
   "mimetype": "text/x-python",
   "name": "python",
   "nbconvert_exporter": "python",
   "pygments_lexer": "ipython3",
   "version": "3.12.4"
  }
 },
 "nbformat": 4,
 "nbformat_minor": 5
}
