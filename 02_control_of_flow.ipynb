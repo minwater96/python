{
 "cells": [
  {
   "cell_type": "markdown",
   "id": "7dfaa95d-b5ea-42a7-b3b2-a67585e983d8",
   "metadata": {},
   "source": [
    "# 02 제어문\n",
    " > 코드를 컨트롤 하는것\n",
    "\n",
    "## 1. 조건문(if)\n",
    "\n",
    "- 1) if문은 반드시 일정한 참/거짓을 판단할 수 있는`조건식`과 함께 사용된다.\n",
    "   - (`if<조건식>:`)\n",
    "- 2) <조건식> 참(True)인경우 `:` 이후의 문장을 실행\n",
    "- 3) <조건식> 거짓(False)인경우 `else:` 이후의 문장을 실행\n",
    "\n",
    "\n",
    "```bash\n",
    "if <조건식>:\n",
    "    if의 조건식이 참인 경우 실행\n",
    "else:\n",
    "    if의 조건식이 거짓인 경우 실행\n",
    "```"
   ]
  },
  {
   "cell_type": "code",
   "execution_count": 5,
   "id": "c91d316e-2ed2-4ad6-8cfa-3ca1b4942448",
   "metadata": {},
   "outputs": [
    {
     "name": "stdout",
     "output_type": "stream",
     "text": [
      "현재날짜를 입력해주세요: 12/25\n"
     ]
    },
    {
     "name": "stdout",
     "output_type": "stream",
     "text": [
      "크리스마스 입니다.\n"
     ]
    }
   ],
   "source": [
    "my_string = input('현재날짜를 입력해주세요:')\n",
    "\n",
    "if my_string == '12/25':\n",
    "    print('크리스마스 입니다.')\n",
    "else:\n",
    "    print('크리스마스가 아닙니다.')"
   ]
  },
  {
   "cell_type": "code",
   "execution_count": 10,
   "id": "9e19460d-ce13-408a-941a-b47158e46e5d",
   "metadata": {},
   "outputs": [
    {
     "name": "stdout",
     "output_type": "stream",
     "text": [
      "숫자를 입력해주요: 10\n"
     ]
    },
    {
     "name": "stdout",
     "output_type": "stream",
     "text": [
      "짝수입니다.\n"
     ]
    }
   ],
   "source": [
    "num = input('숫자를 입력해주요:')\n",
    "\n",
    "result = int(num) % 2\n",
    "\n",
    "if bool(result):\n",
    "    print('홀수입니다.')\n",
    "else:\n",
    "    print('짝수입니다.')"
   ]
  },
  {
   "cell_type": "code",
   "execution_count": 12,
   "id": "6c894f15-d0e3-49ec-8575-1862f364de4e",
   "metadata": {},
   "outputs": [
    {
     "name": "stdout",
     "output_type": "stream",
     "text": [
      " 123\n"
     ]
    },
    {
     "name": "stdout",
     "output_type": "stream",
     "text": [
      "홀수입니다.\n"
     ]
    }
   ],
   "source": [
    "num = int(input())\n",
    "\n",
    "if num % 2 == 1:\n",
    "    print('홀수입니다.')\n",
    "else:\n",
    "    print('짝수입니다.')"
   ]
  },
  {
   "cell_type": "code",
   "execution_count": 13,
   "id": "a1df83be-199b-4231-af1d-1b11ae086d50",
   "metadata": {},
   "outputs": [
    {
     "name": "stdout",
     "output_type": "stream",
     "text": [
      " 123\n"
     ]
    },
    {
     "name": "stdout",
     "output_type": "stream",
     "text": [
      "홀수입니다.\n"
     ]
    }
   ],
   "source": [
    "num = int(input())\n",
    "\n",
    "if num % 2 == 0:\n",
    "    print('짝수입니다.')\n",
    "else:\n",
    "    print('홀수입니다.')"
   ]
  },
  {
   "cell_type": "code",
   "execution_count": 14,
   "id": "d40cc9c1-bf69-425a-be4f-129624640099",
   "metadata": {},
   "outputs": [
    {
     "name": "stdout",
     "output_type": "stream",
     "text": [
      " 123\n"
     ]
    },
    {
     "name": "stdout",
     "output_type": "stream",
     "text": [
      "홀수입니다.\n"
     ]
    }
   ],
   "source": [
    "num = int(input())\n",
    "\n",
    "if num % 2:\n",
    "    print('홀수입니다.')\n",
    "else:\n",
    "    print('짝수입니다.')"
   ]
  },
  {
   "attachments": {},
   "cell_type": "markdown",
   "id": "fc21d051-4bcc-44ce-afda-88874dc86248",
   "metadata": {},
   "source": [
    "#### 1-1-2 elif\n",
    "\n",
    "```bash\n",
    "if <조건식>:\n",
    "    if의 조건식이 참인 경우 실행\n",
    "elif <조건식>:\n",
    "    elif 조건식이 참인 경우 실행\n",
    "...\n",
    "else:\n",
    "    위의 조건식이 하나도 부합하지 않는 경우\n",
    "```"
   ]
  },
  {
   "cell_type": "code",
   "execution_count": 28,
   "id": "f94d21c2-59ee-442e-bcf0-b7e2a3c0420b",
   "metadata": {},
   "outputs": [
    {
     "name": "stdout",
     "output_type": "stream",
     "text": [
      " 96\n"
     ]
    }
   ],
   "source": [
    "score = int(input())"
   ]
  },
  {
   "cell_type": "code",
   "execution_count": 24,
   "id": "2cba36ca-368a-47d3-b8f7-314265567d81",
   "metadata": {},
   "outputs": [
    {
     "name": "stdout",
     "output_type": "stream",
     "text": [
      "C\n"
     ]
    }
   ],
   "source": [
    "# 90점 이상 A\n",
    "# 80~89 B\n",
    "# 70~79 C\n",
    "# 나머지는 F\n",
    "\n",
    "if score >= 90:\n",
    "    print('A')\n",
    "elif score >= 80 and score <= 89:\n",
    "    print('B')\n",
    "elif 70 <= score <= 79:\n",
    "    print('C')\n",
    "else:\n",
    "    print('F')"
   ]
  },
  {
   "cell_type": "code",
   "execution_count": 29,
   "id": "46657c22-43ac-4d4c-accf-5a3740b1ac01",
   "metadata": {},
   "outputs": [
    {
     "name": "stdout",
     "output_type": "stream",
     "text": [
      "A\n",
      "참잘했어요.\n"
     ]
    }
   ],
   "source": [
    "if score >= 90:\n",
    "    print('A')\n",
    "    if score >= 95:\n",
    "        print('참잘했어요.')\n",
    "elif score >= 80:\n",
    "    print('B')\n",
    "elif score >= 70:\n",
    "    print('C')\n",
    "else:\n",
    "    print('F')"
   ]
  },
  {
   "attachments": {},
   "cell_type": "markdown",
   "id": "bc03c6e4-fec5-46ed-9b71-dcd6be01a1ab",
   "metadata": {},
   "source": [
    "#### 1-1-2 조건표현식\n",
    "\n",
    "```bash\n",
    "True_vlaue if <조건식> else 거짓 false_value\n",
    "```"
   ]
  },
  {
   "cell_type": "code",
   "execution_count": 30,
   "id": "2fadffe5-13af-46fe-86ea-6e4503bff94c",
   "metadata": {},
   "outputs": [
    {
     "name": "stdout",
     "output_type": "stream",
     "text": [
      "True\n"
     ]
    }
   ],
   "source": [
    "print('True') if 1 > 0 else print('False')"
   ]
  },
  {
   "cell_type": "code",
   "execution_count": 32,
   "id": "7f77cf75-51eb-47e5-9ae5-9b8d4c30aae0",
   "metadata": {},
   "outputs": [
    {
     "name": "stdout",
     "output_type": "stream",
     "text": [
      "True\n"
     ]
    }
   ],
   "source": [
    "print('True' if 1 > 0 else 'False' )"
   ]
  },
  {
   "cell_type": "code",
   "execution_count": 33,
   "id": "4fb439d6-076b-4d0a-b7e4-e30f455432df",
   "metadata": {},
   "outputs": [
    {
     "name": "stdout",
     "output_type": "stream",
     "text": [
      "5\n"
     ]
    }
   ],
   "source": [
    "num = 5\n",
    "value = num if num >= 0 else 0\n",
    "print(value)"
   ]
  },
  {
   "cell_type": "code",
   "execution_count": 40,
   "id": "c7c827e2-ae8d-4e1c-8342-f2422d49d5d2",
   "metadata": {},
   "outputs": [
    {
     "name": "stdout",
     "output_type": "stream",
     "text": [
      "5\n"
     ]
    }
   ],
   "source": [
    "num = 5\n",
    "\n",
    "if num >= 0:\n",
    "    value = num\n",
    "else:\n",
    "    value = 0\n",
    "print(value)"
   ]
  },
  {
   "cell_type": "code",
   "execution_count": 41,
   "id": "e3eb7f83-d6d6-456d-ab70-4f06e70689a2",
   "metadata": {},
   "outputs": [
    {
     "name": "stdout",
     "output_type": "stream",
     "text": [
      "짝수\n"
     ]
    }
   ],
   "source": [
    "num = 2\n",
    "\n",
    "if num % 2:\n",
    "    result = '홀수'\n",
    "else:\n",
    "    result = '짝수'\n",
    "print(result)"
   ]
  },
  {
   "cell_type": "code",
   "execution_count": 44,
   "id": "6dc4a41e-4ac6-481f-8bab-81f8521f118b",
   "metadata": {},
   "outputs": [
    {
     "name": "stdout",
     "output_type": "stream",
     "text": [
      "홀수\n"
     ]
    }
   ],
   "source": [
    "num = 3\n",
    "\n",
    "result = '홀수' if num % 2 else '짝수'\n",
    "print(result)"
   ]
  },
  {
   "attachments": {},
   "cell_type": "markdown",
   "id": "c48155d2-f63b-482d-8afa-616e01b1bae4",
   "metadata": {},
   "source": [
    "## 2. 반복문\n",
    "\n",
    "### 2-1. while문\n",
    "\n",
    "```bash\n",
    "while <조건식>:\n",
    "    실행할코드\n",
    "```"
   ]
  },
  {
   "cell_type": "code",
   "execution_count": 1,
   "id": "195cde70-91c8-4737-b8f3-79e28f87b327",
   "metadata": {},
   "outputs": [
    {
     "name": "stdout",
     "output_type": "stream",
     "text": [
      "0\n",
      "1\n",
      "2\n",
      "3\n",
      "4\n"
     ]
    }
   ],
   "source": [
    "a = 0\n",
    "\n",
    "while a < 5:\n",
    "    print(a)\n",
    "    a += 1"
   ]
  },
  {
   "cell_type": "code",
   "execution_count": 3,
   "id": "65bdc0b8-f1bc-475e-afe6-5e02ec8bfb38",
   "metadata": {},
   "outputs": [
    {
     "name": "stdout",
     "output_type": "stream",
     "text": [
      "안녕이라고 말해줘 아녕\n",
      "안녕이라고 말해줘 hello\n",
      "안녕이라고 말해줘 hi\n",
      "안녕이라고 말해줘 안녕\n"
     ]
    }
   ],
   "source": [
    "greeting = ''\n",
    "\n",
    "while greeting != '안녕':\n",
    "    greeting = input('안녕이라고 말해줘')\n",
    "    "
   ]
  },
  {
   "attachments": {},
   "cell_type": "markdown",
   "id": "403bbdf6-763b-4534-b35b-9571199066ca",
   "metadata": {},
   "source": [
    "### 2-2. for문\n",
    "\n",
    "- 정해진 범위 내의 반복\n",
    "\n",
    "```bash\n",
    "for variable(item) in sequence:\n",
    "    code\n",
    "```"
   ]
  },
  {
   "cell_type": "code",
   "execution_count": 4,
   "id": "216dc538-24df-4d2a-b6df-30293e02a111",
   "metadata": {},
   "outputs": [
    {
     "name": "stdout",
     "output_type": "stream",
     "text": [
      "1\n",
      "2\n",
      "3\n",
      "4\n",
      "5\n"
     ]
    }
   ],
   "source": [
    "numbers = [1, 2, 3, 4, 5]\n",
    "\n",
    "for number in numbers:\n",
    "    print(number)"
   ]
  },
  {
   "cell_type": "code",
   "execution_count": 6,
   "id": "65515931-637b-49ab-b62c-41e8024f3dad",
   "metadata": {},
   "outputs": [
    {
     "name": "stdout",
     "output_type": "stream",
     "text": [
      "단어를 입력해주세요 apple\n"
     ]
    },
    {
     "name": "stdout",
     "output_type": "stream",
     "text": [
      "a\n",
      "p\n",
      "p\n",
      "l\n",
      "e\n"
     ]
    }
   ],
   "source": [
    "word = input('단어를 입력해주세요')\n",
    "\n",
    "for char in word:\n",
    "    print(char)"
   ]
  },
  {
   "cell_type": "code",
   "execution_count": 8,
   "id": "4b937a09-ab85-4cb9-b6a4-7beaa82f6b7b",
   "metadata": {},
   "outputs": [
    {
     "name": "stdout",
     "output_type": "stream",
     "text": [
      "0\n",
      "1\n",
      "2\n",
      "3\n",
      "4\n"
     ]
    }
   ],
   "source": [
    "for i in range(5):\n",
    "    print(i)"
   ]
  },
  {
   "cell_type": "code",
   "execution_count": 9,
   "id": "dad72a53-5b1e-41a6-83cb-732e171dde1e",
   "metadata": {},
   "outputs": [
    {
     "name": "stdout",
     "output_type": "stream",
     "text": [
      "1\n",
      "2\n",
      "3\n",
      "4\n",
      "5\n"
     ]
    }
   ],
   "source": [
    "for i in (1, 2, 3, 4, 5):\n",
    "    print(i)"
   ]
  },
  {
   "cell_type": "code",
   "execution_count": 17,
   "id": "cb8789ad-5d79-4829-ba65-491c86b2d4f9",
   "metadata": {},
   "outputs": [
    {
     "name": "stdout",
     "output_type": "stream",
     "text": [
      "1\n",
      "3\n",
      "5\n",
      "7\n",
      "9\n",
      "11\n",
      "13\n",
      "15\n",
      "17\n",
      "19\n",
      "21\n",
      "23\n",
      "25\n",
      "27\n",
      "29\n"
     ]
    }
   ],
   "source": [
    "# 1~30 까지 숫자들 중에서 홀수만 출력\n",
    "\n",
    "my_range = range(31)\n",
    "\n",
    "for i in my_range[1:31:2]:\n",
    "    print(i)"
   ]
  },
  {
   "cell_type": "code",
   "execution_count": 18,
   "id": "61b5b4cf-685c-415d-b78e-faf65e90727b",
   "metadata": {},
   "outputs": [
    {
     "name": "stdout",
     "output_type": "stream",
     "text": [
      "1\n",
      "3\n",
      "5\n",
      "7\n",
      "9\n",
      "11\n",
      "13\n",
      "15\n",
      "17\n",
      "19\n",
      "21\n",
      "23\n",
      "25\n",
      "27\n",
      "29\n"
     ]
    }
   ],
   "source": [
    "for i in range(31):\n",
    "    if i % 2:\n",
    "        print(i)"
   ]
  },
  {
   "cell_type": "code",
   "execution_count": 20,
   "id": "f500011f-2a7f-4d58-845d-5a34c2b54ce6",
   "metadata": {},
   "outputs": [
    {
     "name": "stdout",
     "output_type": "stream",
     "text": [
      "(0, '라면')\n",
      "(1, '김밥')\n",
      "(2, '백반')\n"
     ]
    }
   ],
   "source": [
    "menus = ['라면', '김밥', '백반']\n",
    "\n",
    "for menu in enumerate(menus):\n",
    "    print(menu)"
   ]
  },
  {
   "cell_type": "code",
   "execution_count": 22,
   "id": "4a357b1c-655d-4c85-9074-1b91371c35bb",
   "metadata": {},
   "outputs": [
    {
     "name": "stdout",
     "output_type": "stream",
     "text": [
      "0\n",
      "라면\n",
      "1\n",
      "김밥\n",
      "2\n",
      "백반\n"
     ]
    }
   ],
   "source": [
    "for index, menu in enumerate(menus):\n",
    "    print(index)\n",
    "    print(menu)"
   ]
  },
  {
   "attachments": {},
   "cell_type": "markdown",
   "id": "93347ef5-aeb5-427e-a3dd-9da3f8567745",
   "metadata": {},
   "source": [
    "#### 2-2-1. dictionary 반복\n",
    "\n",
    "- 1. for key in dict:\n",
    "- 2. for key in dict.keys():\n",
    "- 3. for value in dicrt.values():"
   ]
  },
  {
   "cell_type": "code",
   "execution_count": 23,
   "id": "53a76ef4-7748-4be2-a338-0a265acbcc90",
   "metadata": {},
   "outputs": [],
   "source": [
    "info = {\n",
    "    'name' : '길동',\n",
    "    'location' : 'seoul',\n",
    "    'phone' : '010-1234-1234',\n",
    "    'age' : 20,\n",
    "}"
   ]
  },
  {
   "cell_type": "code",
   "execution_count": 27,
   "id": "590d3a29-6989-42cf-9392-6ff636eaca57",
   "metadata": {},
   "outputs": [
    {
     "name": "stdout",
     "output_type": "stream",
     "text": [
      "name\n",
      "길동\n",
      "location\n",
      "seoul\n",
      "phone\n",
      "010-1234-1234\n",
      "age\n",
      "20\n"
     ]
    }
   ],
   "source": [
    "for cat in info:\n",
    "    print(cat)\n",
    "    print(info[cat])"
   ]
  },
  {
   "cell_type": "code",
   "execution_count": 30,
   "id": "ee42962d-f3c1-4836-9dbf-12a1843e2b9d",
   "metadata": {},
   "outputs": [
    {
     "name": "stdout",
     "output_type": "stream",
     "text": [
      "name\n",
      "길동\n",
      "location\n",
      "seoul\n",
      "phone\n",
      "010-1234-1234\n",
      "age\n",
      "20\n"
     ]
    }
   ],
   "source": [
    "for key in info.keys():\n",
    "    print(key)\n",
    "    print(info[key])"
   ]
  },
  {
   "cell_type": "code",
   "execution_count": 31,
   "id": "0eae4d95-8442-4880-abe8-81077127f377",
   "metadata": {},
   "outputs": [
    {
     "name": "stdout",
     "output_type": "stream",
     "text": [
      "길동\n",
      "seoul\n",
      "010-1234-1234\n",
      "20\n"
     ]
    }
   ],
   "source": [
    "for value in info.values():\n",
    "    print(value)"
   ]
  },
  {
   "cell_type": "code",
   "execution_count": null,
   "id": "537405ae-d613-4864-a75a-5248e2ec7438",
   "metadata": {},
   "outputs": [],
   "source": [
    "for key, value in info:"
   ]
  },
  {
   "cell_type": "code",
   "execution_count": 32,
   "id": "08c3cbed-ee0c-425b-bfa4-8f674ffd2831",
   "metadata": {},
   "outputs": [],
   "source": [
    "blood_type = {\n",
    "    'A' : 5,\n",
    "    'B' : 3,\n",
    "    'O' : 2,\n",
    "    'AB' : 2,\n",
    "}"
   ]
  },
  {
   "cell_type": "code",
   "execution_count": 39,
   "id": "d250be6e-ebbe-4ceb-9be6-b116e51d0c9d",
   "metadata": {},
   "outputs": [
    {
     "name": "stdout",
     "output_type": "stream",
     "text": [
      "혈액형의 종류는 A, B, O, AB, 입니다.\n"
     ]
    }
   ],
   "source": [
    "# 혈액형의 종류는 ?? ?? 입니다.\n",
    "\n",
    "print('혈액형의 종류는', end=' ')\n",
    "for key in blood_type.keys():\n",
    "    print(key, end=', ')\n",
    "print('입니다.')    "
   ]
  },
  {
   "cell_type": "code",
   "execution_count": 45,
   "id": "d64bbcca-6fe3-4437-a1fc-5e2b9a97c0e1",
   "metadata": {},
   "outputs": [
    {
     "name": "stdout",
     "output_type": "stream",
     "text": [
      "총 학생수는 12명 입니다.\n"
     ]
    }
   ],
   "source": [
    "# 총 학생수는 몇명입니다.\n",
    "\n",
    "result = 0\n",
    "\n",
    "for value in blood_type.values():\n",
    "    result = result + value\n",
    "\n",
    "print(f'총 학생수는 {result}명 입니다.')"
   ]
  },
  {
   "attachments": {},
   "cell_type": "markdown",
   "id": "09c96000-aa54-4398-baba-eb5453b8a809",
   "metadata": {},
   "source": [
    "#### 2-2-2 break\n",
    ">반복문을 종료 시키는 키워드"
   ]
  },
  {
   "cell_type": "code",
   "execution_count": 47,
   "id": "b329191c-2494-4955-84d8-9f60e91060b7",
   "metadata": {},
   "outputs": [
    {
     "name": "stdout",
     "output_type": "stream",
     "text": [
      "0\n",
      "1\n",
      "2\n",
      "3\n",
      "4\n",
      "5\n",
      "6\n",
      "7\n",
      "8\n",
      "9\n",
      "10\n"
     ]
    }
   ],
   "source": [
    "for i in range(100):\n",
    "    if i > 10:\n",
    "        break\n",
    "    print(i)    "
   ]
  },
  {
   "cell_type": "code",
   "execution_count": 50,
   "id": "dfcf9b84-9aaa-409e-b04e-8ccef2c03081",
   "metadata": {},
   "outputs": [
    {
     "name": "stdout",
     "output_type": "stream",
     "text": [
      "보리\n",
      "보리\n",
      "보리\n",
      "보리\n",
      "쌀\n",
      "잡았다\n"
     ]
    }
   ],
   "source": [
    "rice = ['보리', '보리', '보리', '보리', '쌀', '보리', '보리']\n",
    "\n",
    "for r in rice:\n",
    "    print(r)\n",
    "    if r == '쌀':\n",
    "        print('잡았다')\n",
    "        break"
   ]
  },
  {
   "cell_type": "code",
   "execution_count": 52,
   "id": "b83ce665-c3c8-4e1e-b212-3ced086b70a4",
   "metadata": {},
   "outputs": [
    {
     "name": "stdout",
     "output_type": "stream",
     "text": [
      "보리\n",
      "보리\n",
      "보리\n",
      "보리\n",
      "잡았다\n"
     ]
    }
   ],
   "source": [
    "i = 0\n",
    "\n",
    "while True:\n",
    "    if rice[i] == '쌀':\n",
    "        print('잡았다')\n",
    "        break\n",
    "    print(rice[i])\n",
    "    i += 1"
   ]
  },
  {
   "attachments": {},
   "cell_type": "markdown",
   "id": "46c1d617-f1ac-487d-9974-84dde4fca60d",
   "metadata": {},
   "source": [
    "#### 2-2-3. continue\n",
    ">continue 이후의 코드를 실행하지 않고 다음 반복을 진행"
   ]
  },
  {
   "cell_type": "code",
   "execution_count": 54,
   "id": "0b76abfa-19e7-450c-a5f2-6d11f76d8119",
   "metadata": {},
   "outputs": [
    {
     "name": "stdout",
     "output_type": "stream",
     "text": [
      "0\n",
      "2\n",
      "4\n",
      "6\n",
      "8\n",
      "10\n",
      "12\n",
      "14\n",
      "16\n",
      "18\n"
     ]
    }
   ],
   "source": [
    "for i in range(20):\n",
    "    if i % 2:\n",
    "        continue\n",
    "    print(i)"
   ]
  },
  {
   "cell_type": "code",
   "execution_count": 57,
   "id": "59a4ad90-a73d-4951-8cc9-a58bfeee5a50",
   "metadata": {},
   "outputs": [
    {
     "name": "stdout",
     "output_type": "stream",
     "text": [
      "38살은 성인입니다.\n",
      "82살은 성인입니다.\n",
      "39살은 성인입니다.\n"
     ]
    }
   ],
   "source": [
    "ages = [10, 20, 38, 82, 11, 13, 39]\n",
    "\n",
    "for age in ages:\n",
    "    if age <= 20:\n",
    "        continue\n",
    "    print(f'{age}살은 성인입니다.')"
   ]
  },
  {
   "attachments": {},
   "cell_type": "markdown",
   "id": "e21b5a23-55a4-4477-8340-10ddb31cd11e",
   "metadata": {},
   "source": [
    "#### 2-2-4. else\n",
    "\n",
    ">else문은 끝까지 반복된 후 실행됩니다.\n",
    "\n",
    "> = braek를 만나지 않았을 때 실행됩니다."
   ]
  },
  {
   "cell_type": "code",
   "execution_count": 59,
   "id": "7125e438-ffff-4342-aad1-dc1e90321b7c",
   "metadata": {},
   "outputs": [
    {
     "name": "stdout",
     "output_type": "stream",
     "text": [
      "0\n",
      "1\n",
      "2\n",
      "3\n",
      "4\n",
      "5\n"
     ]
    }
   ],
   "source": [
    "for i in range(10):\n",
    "    if i > 5:\n",
    "        break\n",
    "    print(i)\n",
    "else:\n",
    "    print('else입니다.')"
   ]
  },
  {
   "attachments": {},
   "cell_type": "markdown",
   "id": "286100c7-8981-4283-8d23-d6d3e759aed1",
   "metadata": {},
   "source": [
    "#### 2-2-5. pass"
   ]
  },
  {
   "cell_type": "code",
   "execution_count": 62,
   "id": "056920f6-ba7f-4e79-9472-f1237c575d86",
   "metadata": {},
   "outputs": [],
   "source": [
    "if True:\n",
    "    pass"
   ]
  },
  {
   "attachments": {},
   "cell_type": "markdown",
   "id": "da908a15-63cf-460e-933e-406a9a3b3d16",
   "metadata": {},
   "source": [
    "#### 2-2-6. match\n",
    "\n",
    "```bash\n",
    "match value:\n",
    "    case 조건:\n",
    "        code\n",
    "    case 조건:\n",
    "        code\n",
    "    case _:\n",
    "        code\n",
    "\n",
    "```"
   ]
  },
  {
   "cell_type": "code",
   "execution_count": 65,
   "id": "ad94b835-7d03-44b5-a3da-9c82d0c400b0",
   "metadata": {},
   "outputs": [
    {
     "name": "stdout",
     "output_type": "stream",
     "text": [
      "i dont know\n"
     ]
    }
   ],
   "source": [
    "status = 123\n",
    "\n",
    "match status:\n",
    "    case 200:\n",
    "        print('ok')\n",
    "    case 404:\n",
    "        print('bad')\n",
    "    case _:\n",
    "        print('i dont know')"
   ]
  }
 ],
 "metadata": {
  "kernelspec": {
   "display_name": "Python 3 (ipykernel)",
   "language": "python",
   "name": "python3"
  },
  "language_info": {
   "codemirror_mode": {
    "name": "ipython",
    "version": 3
   },
   "file_extension": ".py",
   "mimetype": "text/x-python",
   "name": "python",
   "nbconvert_exporter": "python",
   "pygments_lexer": "ipython3",
   "version": "3.12.4"
  }
 },
 "nbformat": 4,
 "nbformat_minor": 5
}
