{
 "cells": [
  {
   "cell_type": "markdown",
   "id": "3a3fb491-7a6c-4c07-ad18-b6134b571711",
   "metadata": {},
   "source": [
    "# 1. 모듈"
   ]
  },
  {
   "cell_type": "code",
   "execution_count": 9,
   "id": "671cd0f8-b057-4300-a2a2-6b376dadb98c",
   "metadata": {},
   "outputs": [],
   "source": [
    "import fact"
   ]
  },
  {
   "cell_type": "code",
   "execution_count": 10,
   "id": "fb8e4b8d-ce84-44d6-8dae-d899ebcbe3f5",
   "metadata": {},
   "outputs": [
    {
     "name": "stdout",
     "output_type": "stream",
     "text": [
      "<module 'fact' from '/Users/kimminsu/Desktop/DMF/python/fact.py'>\n"
     ]
    }
   ],
   "source": [
    "print(fact)"
   ]
  },
  {
   "cell_type": "code",
   "execution_count": 11,
   "id": "b6201a22-c51e-48a5-8acf-7298e1b2c3d1",
   "metadata": {},
   "outputs": [
    {
     "name": "stdout",
     "output_type": "stream",
     "text": [
      "120\n"
     ]
    }
   ],
   "source": [
    "# 5!을 구하는 함수 불러오기\n",
    "print(fact.fact(5))"
   ]
  },
  {
   "cell_type": "code",
   "execution_count": 12,
   "id": "875aabb9-3ffa-4411-bade-9c5db424be92",
   "metadata": {},
   "outputs": [
    {
     "name": "stdout",
     "output_type": "stream",
     "text": [
      "4\n"
     ]
    }
   ],
   "source": [
    "# 큰수 찾기 함수 불러오기\n",
    "print(fact.my_max(2, 4))"
   ]
  },
  {
   "cell_type": "code",
   "execution_count": 8,
   "id": "f165bb99-9516-4786-ae15-9e0c25fdbe30",
   "metadata": {},
   "outputs": [
    {
     "data": {
      "text/plain": [
       "['__builtins__',\n",
       " '__cached__',\n",
       " '__doc__',\n",
       " '__file__',\n",
       " '__loader__',\n",
       " '__name__',\n",
       " '__package__',\n",
       " '__spec__',\n",
       " 'fact',\n",
       " 'my_max']"
      ]
     },
     "execution_count": 8,
     "metadata": {},
     "output_type": "execute_result"
    }
   ],
   "source": [
    "# 함수 안에있는 모듈을 모여줌\n",
    "dir(fact)"
   ]
  },
  {
   "cell_type": "markdown",
   "id": "1a9ba231-2a89-47fc-a74e-106a7ec1f5e2",
   "metadata": {},
   "source": [
    "# 2. 패키지\n",
    "\n",
    "```\n",
    "myPackage/\n",
    "    __init__.py\n",
    "     math/\n",
    "       __init__py\n",
    "\n",
    "```\n",
    "패키지 안에 `__init__.py`파일이 존재해야만 패키지로 인식"
   ]
  },
  {
   "cell_type": "code",
   "execution_count": 28,
   "id": "0788cd94-5157-4443-8e31-0c046927abde",
   "metadata": {},
   "outputs": [],
   "source": [
    "from myPackage.math import fomula"
   ]
  },
  {
   "cell_type": "code",
   "execution_count": 17,
   "id": "72e578ad-badb-4629-a204-48f395d93aae",
   "metadata": {},
   "outputs": [
    {
     "name": "stdout",
     "output_type": "stream",
     "text": [
      "<module 'myPackage' from '/Users/kimminsu/Desktop/DMF/python/myPackage/__init__.py'>\n"
     ]
    }
   ],
   "source": [
    "print(myPackage)"
   ]
  },
  {
   "cell_type": "code",
   "execution_count": 29,
   "id": "241d6968-f3eb-4615-9e88-e0c0c979dfae",
   "metadata": {},
   "outputs": [
    {
     "data": {
      "text/plain": [
       "2"
      ]
     },
     "execution_count": 29,
     "metadata": {},
     "output_type": "execute_result"
    }
   ],
   "source": [
    "myPackage.math.fomula.my_max(1,2)"
   ]
  },
  {
   "cell_type": "code",
   "execution_count": 30,
   "id": "499e6933-0bab-47d4-80ec-c6c4b1aad738",
   "metadata": {},
   "outputs": [
    {
     "data": {
      "text/plain": [
       "3.14"
      ]
     },
     "execution_count": 30,
     "metadata": {},
     "output_type": "execute_result"
    }
   ],
   "source": [
    "fomula.pi"
   ]
  },
  {
   "cell_type": "code",
   "execution_count": 32,
   "id": "e4bf0f1a-9302-4727-b41e-56e8755735dc",
   "metadata": {},
   "outputs": [
    {
     "name": "stdout",
     "output_type": "stream",
     "text": [
      "2\n",
      "6\n",
      "3.14\n"
     ]
    }
   ],
   "source": [
    "from myPackage.math.fomula import my_max, fact, pi\n",
    "print(my_max(1, 2))\n",
    "print(fact(3))\n",
    "print(pi)"
   ]
  },
  {
   "cell_type": "code",
   "execution_count": 34,
   "id": "0f79dcf2-9284-4971-ae36-8ddd81d79e59",
   "metadata": {},
   "outputs": [
    {
     "name": "stdout",
     "output_type": "stream",
     "text": [
      "3.14\n"
     ]
    }
   ],
   "source": [
    "# * 전체 가져오기\n",
    "from myPackage.math.fomula import *\n",
    "print(pi)"
   ]
  },
  {
   "cell_type": "code",
   "execution_count": 36,
   "id": "afedd7c4-832d-494c-9010-badd8a7a21e5",
   "metadata": {},
   "outputs": [
    {
     "name": "stdout",
     "output_type": "stream",
     "text": [
      "1234\n",
      "<module 'myPackage.math.fomula' from '/Users/kimminsu/Desktop/DMF/python/myPackage/math/fomula.py'>\n"
     ]
    }
   ],
   "source": [
    "fomula = 1234\n",
    "from myPackage.math import fomula as f\n",
    "print(fomula)\n",
    "print(f)"
   ]
  },
  {
   "cell_type": "markdown",
   "id": "ef79ace0-569b-4bb7-acdd-9c63dd873a97",
   "metadata": {},
   "source": [
    "# 3. 파이썬 내장 패키지"
   ]
  },
  {
   "cell_type": "markdown",
   "id": "b709619d-7fd8-4a07-82e9-31dcb056858e",
   "metadata": {},
   "source": [
    "## 3-1. math"
   ]
  },
  {
   "cell_type": "code",
   "execution_count": 37,
   "id": "1352810b-4993-46f7-b797-38f438b5162e",
   "metadata": {},
   "outputs": [],
   "source": [
    "import math"
   ]
  },
  {
   "cell_type": "code",
   "execution_count": 38,
   "id": "a348eb00-eab0-4669-8336-162bdc81788d",
   "metadata": {},
   "outputs": [
    {
     "data": {
      "text/plain": [
       "3.141592653589793"
      ]
     },
     "execution_count": 38,
     "metadata": {},
     "output_type": "execute_result"
    }
   ],
   "source": [
    "math.pi"
   ]
  },
  {
   "cell_type": "code",
   "execution_count": 39,
   "id": "6a24db00-01ad-44b5-98ce-0b2a1e688744",
   "metadata": {},
   "outputs": [
    {
     "data": {
      "text/plain": [
       "2.718281828459045"
      ]
     },
     "execution_count": 39,
     "metadata": {},
     "output_type": "execute_result"
    }
   ],
   "source": [
    "math.e"
   ]
  },
  {
   "cell_type": "code",
   "execution_count": 40,
   "id": "67434268-7f05-4a30-b2f1-277c7b84bf48",
   "metadata": {},
   "outputs": [
    {
     "data": {
      "text/plain": [
       "4"
      ]
     },
     "execution_count": 40,
     "metadata": {},
     "output_type": "execute_result"
    }
   ],
   "source": [
    "# 올림\n",
    "math.ceil(math.pi)"
   ]
  },
  {
   "cell_type": "code",
   "execution_count": 41,
   "id": "70cbfa94-2741-4639-9ca8-d390ec5a5876",
   "metadata": {},
   "outputs": [
    {
     "data": {
      "text/plain": [
       "3"
      ]
     },
     "execution_count": 41,
     "metadata": {},
     "output_type": "execute_result"
    }
   ],
   "source": [
    "# 내림\n",
    "math.floor(math.pi)"
   ]
  },
  {
   "cell_type": "code",
   "execution_count": 42,
   "id": "375d5e51-ab03-40fe-aa06-e405c60b0151",
   "metadata": {},
   "outputs": [
    {
     "data": {
      "text/plain": [
       "3.0"
      ]
     },
     "execution_count": 42,
     "metadata": {},
     "output_type": "execute_result"
    }
   ],
   "source": [
    "# 루트\n",
    "math.sqrt(9)"
   ]
  },
  {
   "cell_type": "code",
   "execution_count": 43,
   "id": "d53b2f53-e7ca-4c8f-9275-d44eb9a2890f",
   "metadata": {},
   "outputs": [
    {
     "data": {
      "text/plain": [
       "120"
      ]
     },
     "execution_count": 43,
     "metadata": {},
     "output_type": "execute_result"
    }
   ],
   "source": [
    "# ! factorial\n",
    "math.factorial(5)"
   ]
  },
  {
   "cell_type": "markdown",
   "id": "88ba2f42-e667-4889-a953-e99592e340c7",
   "metadata": {},
   "source": [
    "## 3-2. random"
   ]
  },
  {
   "cell_type": "code",
   "execution_count": 45,
   "id": "8263c5d4-16c8-419c-85b4-3cc0c0546675",
   "metadata": {},
   "outputs": [],
   "source": [
    "import random"
   ]
  },
  {
   "cell_type": "code",
   "execution_count": 56,
   "id": "c1002fc7-d8ed-4fec-9e24-feb619a04647",
   "metadata": {},
   "outputs": [
    {
     "data": {
      "text/plain": [
       "0.3087859591470393"
      ]
     },
     "execution_count": 56,
     "metadata": {},
     "output_type": "execute_result"
    }
   ],
   "source": [
    "random.random()"
   ]
  },
  {
   "cell_type": "code",
   "execution_count": 58,
   "id": "f0d27f04-1225-4a06-808f-0c912392424d",
   "metadata": {},
   "outputs": [
    {
     "data": {
      "text/plain": [
       "9"
      ]
     },
     "execution_count": 58,
     "metadata": {},
     "output_type": "execute_result"
    }
   ],
   "source": [
    "random.randint(1, 10)"
   ]
  },
  {
   "cell_type": "code",
   "execution_count": 63,
   "id": "e5c4973a-9243-4048-822d-9a7db710f609",
   "metadata": {},
   "outputs": [
    {
     "data": {
      "text/plain": [
       "0.13436424411240122"
      ]
     },
     "execution_count": 63,
     "metadata": {},
     "output_type": "execute_result"
    }
   ],
   "source": [
    "random.seed(1)\n",
    "random.random()"
   ]
  },
  {
   "cell_type": "code",
   "execution_count": 70,
   "id": "19dda7a4-1dd0-474a-8182-401acf890bf9",
   "metadata": {},
   "outputs": [
    {
     "name": "stdout",
     "output_type": "stream",
     "text": [
      "[2, 4, 3, 5, 1]\n"
     ]
    }
   ],
   "source": [
    "numbers = [1, 2, 3, 4, 5]\n",
    "random.shuffle(numbers)\n",
    "print(numbers)"
   ]
  },
  {
   "cell_type": "code",
   "execution_count": 72,
   "id": "85f24cee-0145-43ac-9050-ebcdff328fbf",
   "metadata": {},
   "outputs": [
    {
     "data": {
      "text/plain": [
       "4"
      ]
     },
     "execution_count": 72,
     "metadata": {},
     "output_type": "execute_result"
    }
   ],
   "source": [
    "# 복원추출 (모수가 유지)\n",
    "random.choice(numbers)"
   ]
  },
  {
   "cell_type": "code",
   "execution_count": 75,
   "id": "8707fa2d-4638-43fa-b0c6-6fe6f6c88139",
   "metadata": {},
   "outputs": [
    {
     "data": {
      "text/plain": [
       "[1, 4]"
      ]
     },
     "execution_count": 75,
     "metadata": {},
     "output_type": "execute_result"
    }
   ],
   "source": [
    "# 비복원추출 (모수유지 x)\n",
    "random.sample(numbers, 2) # 같은 수 못나옴"
   ]
  },
  {
   "cell_type": "markdown",
   "id": "700adaf1-60c8-4fbe-8ca1-f1efb0fd3119",
   "metadata": {},
   "source": [
    "## 3-3. datetime"
   ]
  },
  {
   "cell_type": "code",
   "execution_count": 76,
   "id": "68bfb6cc-0e82-4b61-b22a-f7d32cbbb540",
   "metadata": {},
   "outputs": [],
   "source": [
    "from datetime import datetime"
   ]
  },
  {
   "cell_type": "code",
   "execution_count": 77,
   "id": "47bf2c1a-e619-4105-b6a9-47186c057163",
   "metadata": {},
   "outputs": [
    {
     "data": {
      "text/plain": [
       "datetime.datetime(2024, 7, 2, 10, 44, 43, 184085)"
      ]
     },
     "execution_count": 77,
     "metadata": {},
     "output_type": "execute_result"
    }
   ],
   "source": [
    "datetime.now()"
   ]
  },
  {
   "cell_type": "code",
   "execution_count": 78,
   "id": "5c54d565-3a87-4b80-be28-85d5255213a7",
   "metadata": {},
   "outputs": [
    {
     "data": {
      "text/plain": [
       "datetime.datetime(2024, 7, 2, 10, 45, 19, 116648)"
      ]
     },
     "execution_count": 78,
     "metadata": {},
     "output_type": "execute_result"
    }
   ],
   "source": [
    "datetime.today()"
   ]
  },
  {
   "cell_type": "code",
   "execution_count": 80,
   "id": "d9df6bc4-ce0d-4642-991b-98b21592392a",
   "metadata": {},
   "outputs": [
    {
     "name": "stderr",
     "output_type": "stream",
     "text": [
      "/var/folders/40/58yhrb9d7q32wcxf8vbspv8h0000gn/T/ipykernel_2896/2213889806.py:1: DeprecationWarning: datetime.datetime.utcnow() is deprecated and scheduled for removal in a future version. Use timezone-aware objects to represent datetimes in UTC: datetime.datetime.now(datetime.UTC).\n",
      "  datetime.utcnow()\n"
     ]
    },
    {
     "data": {
      "text/plain": [
       "datetime.datetime(2024, 7, 2, 1, 49, 22, 396007)"
      ]
     },
     "execution_count": 80,
     "metadata": {},
     "output_type": "execute_result"
    }
   ],
   "source": [
    "datetime.utcnow()\n",
    "# datetime.datetime.now(datetime.UTC) => import detetime"
   ]
  },
  {
   "cell_type": "code",
   "execution_count": 84,
   "id": "f9833906-eaab-4afd-b3eb-f8c391b0c711",
   "metadata": {},
   "outputs": [
    {
     "name": "stdout",
     "output_type": "stream",
     "text": [
      "2024-07-02 10:59:16.349613\n"
     ]
    },
    {
     "data": {
      "text/plain": [
       "'2024년 07월 02일 Tue'"
      ]
     },
     "execution_count": 84,
     "metadata": {},
     "output_type": "execute_result"
    }
   ],
   "source": [
    "now = datetime.now()\n",
    "print(now)\n",
    "now.strftime('%Y년 %m월 %d일 %a')"
   ]
  },
  {
   "cell_type": "code",
   "execution_count": 87,
   "id": "9a223630-8100-4e31-8752-2044e944a36c",
   "metadata": {},
   "outputs": [
    {
     "data": {
      "text/plain": [
       "2024"
      ]
     },
     "execution_count": 87,
     "metadata": {},
     "output_type": "execute_result"
    }
   ],
   "source": [
    "now.year"
   ]
  },
  {
   "cell_type": "code",
   "execution_count": 88,
   "id": "d1d1e890-14ea-4f6e-8dab-75f403fe0d10",
   "metadata": {},
   "outputs": [
    {
     "data": {
      "text/plain": [
       "7"
      ]
     },
     "execution_count": 88,
     "metadata": {},
     "output_type": "execute_result"
    }
   ],
   "source": [
    "now.month"
   ]
  },
  {
   "cell_type": "code",
   "execution_count": 89,
   "id": "5b864fcb-44a7-4b9f-bc98-b8c688382b01",
   "metadata": {},
   "outputs": [
    {
     "data": {
      "text/plain": [
       "1"
      ]
     },
     "execution_count": 89,
     "metadata": {},
     "output_type": "execute_result"
    }
   ],
   "source": [
    "now.weekday()"
   ]
  },
  {
   "cell_type": "code",
   "execution_count": 99,
   "id": "5d35d140-1b07-4d69-a3ce-cdb9db936c1b",
   "metadata": {},
   "outputs": [
    {
     "name": "stdout",
     "output_type": "stream",
     "text": [
      "2024-12-25 00:00:00\n"
     ]
    }
   ],
   "source": [
    "x_mas = datetime(2024, 12,25)\n",
    "print(x_mas)"
   ]
  },
  {
   "cell_type": "code",
   "execution_count": 100,
   "id": "cd0e2921-bccc-4911-9110-06c38d073364",
   "metadata": {},
   "outputs": [],
   "source": [
    "from datetime import timedelta"
   ]
  },
  {
   "cell_type": "code",
   "execution_count": 106,
   "id": "ae9ed983-9541-4831-9b62-0386eae8cfa1",
   "metadata": {},
   "outputs": [
    {
     "name": "stdout",
     "output_type": "stream",
     "text": [
      "3 days, 0:00:00\n"
     ]
    }
   ],
   "source": [
    "future = timedelta(days=3)\n",
    "print(future)"
   ]
  },
  {
   "cell_type": "code",
   "execution_count": 107,
   "id": "2f6a6a4f-5551-440f-b76b-6e6f5dc48e0f",
   "metadata": {},
   "outputs": [
    {
     "data": {
      "text/plain": [
       "datetime.datetime(2024, 12, 28, 0, 0)"
      ]
     },
     "execution_count": 107,
     "metadata": {},
     "output_type": "execute_result"
    }
   ],
   "source": [
    "x_mas + future"
   ]
  },
  {
   "cell_type": "code",
   "execution_count": 103,
   "id": "c415337f-4596-452a-9b52-b1aa34402efb",
   "metadata": {},
   "outputs": [
    {
     "name": "stdout",
     "output_type": "stream",
     "text": [
      "182 days, 12:54:24.461404\n"
     ]
    }
   ],
   "source": [
    "new_year = datetime(2025, 1, 1)\n",
    "now = datetime.now()\n",
    "\n",
    "print(new_year - now)"
   ]
  },
  {
   "cell_type": "code",
   "execution_count": 105,
   "id": "6fa010b1-d09c-49b8-bd96-8c9c86c5ed57",
   "metadata": {},
   "outputs": [
    {
     "name": "stdout",
     "output_type": "stream",
     "text": [
      "2024-10-10 11:06:27.361187\n"
     ]
    }
   ],
   "source": [
    "now = datetime.now()\n",
    "d100 = timedelta(days=100)\n",
    "\n",
    "print(now + d100)"
   ]
  },
  {
   "cell_type": "markdown",
   "id": "109851ab-80bb-4f14-8da4-70e9d3a5995d",
   "metadata": {},
   "source": [
    "## 4. 라이브러리"
   ]
  },
  {
   "cell_type": "code",
   "execution_count": 108,
   "id": "ebe3c8db-1e0b-4f13-991a-16a34be86523",
   "metadata": {},
   "outputs": [],
   "source": [
    "import requests"
   ]
  },
  {
   "cell_type": "code",
   "execution_count": null,
   "id": "ffb26217-721a-4e5b-a9bd-1382a0ed2170",
   "metadata": {
    "scrolled": true
   },
   "outputs": [],
   "source": [
    "r = requests.get('https://api.github.com/events')\n",
    "print(r.text)"
   ]
  },
  {
   "cell_type": "code",
   "execution_count": 115,
   "id": "56581e7c-eec1-4536-90be-f84237465a96",
   "metadata": {
    "scrolled": true
   },
   "outputs": [
    {
     "name": "stdout",
     "output_type": "stream",
     "text": [
      "<Response [200]>\n"
     ]
    }
   ],
   "source": [
    "payload = {'query': '한화이글스'}\n",
    "r = requests.get('https://search.naver.com/search.naver', params=payload)\n",
    "print(r)"
   ]
  },
  {
   "cell_type": "code",
   "execution_count": null,
   "id": "8680fa5f-9197-4dd6-a49d-725d1a95e88e",
   "metadata": {},
   "outputs": [],
   "source": [
    "payload = {'query': '한화이글스'}\n",
    "r = requests.get('https://search.naver.com/search.naver', params=payload)\n",
    "print(r)"
   ]
  },
  {
   "cell_type": "code",
   "execution_count": null,
   "id": "4da2c900-c221-405e-995f-82a7a38ae40d",
   "metadata": {
    "scrolled": true
   },
   "outputs": [],
   "source": [
    "payload = {'q': '한화이글스'}\n",
    "r = requests.get('https://www.google.com/search', params=payload)\n",
    "print(r.text)"
   ]
  },
  {
   "cell_type": "code",
   "execution_count": 128,
   "id": "638af2ba-08c1-4839-87c0-9c8d8c0debe9",
   "metadata": {},
   "outputs": [
    {
     "name": "stdout",
     "output_type": "stream",
     "text": [
      "4\n",
      "5\n",
      "9\n",
      "11\n",
      "37\n",
      "40\n"
     ]
    }
   ],
   "source": [
    "payload = {\n",
    "    'method': 'getLottoNumber',\n",
    "    'drwNo': 1126,\n",
    "}\n",
    "\n",
    "r = requests.get('https://www.dhlottery.co.kr/common.do', params=payload)\n",
    "\n",
    "# print(r.text)\n",
    "\n",
    "lotto_dict = r.json()\n",
    "\n",
    "print(lotto_dict['drwtNo1'])\n",
    "print(lotto_dict['drwtNo2'])\n",
    "print(lotto_dict['drwtNo3'])\n",
    "print(lotto_dict['drwtNo4'])\n",
    "print(lotto_dict['drwtNo5'])\n",
    "print(lotto_dict['drwtNo6'])"
   ]
  },
  {
   "cell_type": "code",
   "execution_count": 137,
   "id": "3e055b6c-c28f-4e38-9a3e-2d8af45d6c40",
   "metadata": {},
   "outputs": [],
   "source": [
    "result = []\n",
    "for i in range(1, 7):\n",
    "    result.append(f'drwtNo{i}')\n",
    "        "
   ]
  },
  {
   "cell_type": "code",
   "execution_count": 138,
   "id": "0f7c4334-8b09-4d70-8795-22685948dc03",
   "metadata": {},
   "outputs": [
    {
     "name": "stdout",
     "output_type": "stream",
     "text": [
      "['drwtNo1', 'drwtNo2', 'drwtNo3', 'drwtNo4', 'drwtNo5', 'drwtNo6']\n"
     ]
    }
   ],
   "source": [
    "print(result)"
   ]
  },
  {
   "cell_type": "code",
   "execution_count": 153,
   "id": "9df74de8-1fbd-4af6-a856-026290d3b401",
   "metadata": {},
   "outputs": [
    {
     "name": "stdout",
     "output_type": "stream",
     "text": [
      "[1, 2, 3, 4, 5, 6, 7, 8, 9, 10]\n"
     ]
    }
   ],
   "source": [
    "i = [1, 2, 3, 4, 5, 6, 7, 8, 9, 10]\n",
    "print(i)"
   ]
  },
  {
   "cell_type": "code",
   "execution_count": 165,
   "id": "c097d361-1207-4880-bc38-abe73833eb7d",
   "metadata": {},
   "outputs": [
    {
     "name": "stdout",
     "output_type": "stream",
     "text": [
      "이번주 당첨번호 : [4, 5, 9, 11, 37, 40] BN: 7\n",
      "{1: [4, 5, 9, 11, 37, 7], 2: [4, 5, 9, 11, 37, 7], 3: [4, 5, 9, 11, 37, 7], 4: [4, 5, 9, 11, 37, 7], 5: [4, 5, 9, 11, 37, 7]}\n",
      "[4, 5, 37, 9, 11]\n",
      "5\n",
      "3등입니다.\n",
      "[4, 5, 37, 9, 11]\n",
      "5\n",
      "3등입니다.\n",
      "[4, 5, 37, 9, 11]\n",
      "5\n",
      "3등입니다.\n",
      "[4, 5, 37, 9, 11]\n",
      "5\n",
      "3등입니다.\n",
      "[4, 5, 37, 9, 11]\n",
      "5\n",
      "3등입니다.\n"
     ]
    }
   ],
   "source": [
    "import random\n",
    "import requests\n",
    "\n",
    "# 파라미터 설정\n",
    "payload = {\n",
    "    'method' : 'getLottoNumber',\n",
    "    'drwNo' : 1126,\n",
    "}\n",
    "\n",
    "# url 접속 및 당첨번호만 파싱\n",
    "r = requests.get('https://www.dhlottery.co.kr/common.do',params=payload)\n",
    "lotto_dict = r.json()\n",
    "result = []\n",
    "\n",
    "for i in range(1,7):\n",
    "    i = lotto_dict[f'drwtNo{i}'] \n",
    "    result.append(i)\n",
    "\n",
    "#당첨번호 출력\n",
    "print('이번주 당첨번호 :', result, 'BN:',lotto_dict['bnusNo'])\n",
    "\n",
    "\n",
    "# 6개의 랜덤 번호 생성\n",
    "lotto_try = {}\n",
    "for i in range(1,6):\n",
    "    \n",
    "    lotto_num = []\n",
    "    \n",
    "    for j in range(1,7):\n",
    "        lotto_num.append(random.randint(1,45))\n",
    "    #lotto_try[i] = lotto_num\n",
    "    lotto_try[i] = [4, 5, 9, 11, 37, 7]\n",
    "print(lotto_try)\n",
    "\n",
    "# 당첨번호와 비교 \n",
    "# lotto_dict의 key : 횟수, value : 번호\n",
    "for x,y in lotto_try.items():\n",
    "    \n",
    "    num_count = (set(y).intersection(set(result)))\n",
    "    Y = (list(num_count))\n",
    "    print(Y)\n",
    "    print(len(Y))\n",
    "\n",
    "    if len(Y) == 3:\n",
    "        print(\"5등입니다.\")\n",
    "\n",
    "    elif len(Y) == 4:\n",
    "        print(\"4등입니다.\")\n",
    "\n",
    "    elif len(Y) == 5:\n",
    "        print(\"3등입니다.\")\n",
    "        \n",
    "    elif len(Y) == 6:\n",
    "        print(\"1등입니다.\")\n",
    "\n",
    "    else:\n",
    "        print(\"꽝입니다.\")\n",
    "\n",
    " "
   ]
  },
  {
   "cell_type": "code",
   "execution_count": 175,
   "id": "4e2c7c1e-9325-45bd-850e-73883e616dd3",
   "metadata": {},
   "outputs": [
    {
     "name": "stdout",
     "output_type": "stream",
     "text": [
      "{'1회차': [5, 3, 6, 9, 11, 41], '2회차': [35, 14, 18, 22, 39, 33], '3회차': [17, 24, 22, 43, 8, 19], '4회차': [16, 39, 32, 9, 38, 36], '5회차': [7, 21, 3, 27, 5, 25]}\n",
      "이번주 당첨번호[40, 11, 37, 5, 9, 4], BN: 7\n",
      "5등 입니다.\n",
      "꽝입니다.\n",
      "꽝입니다.\n",
      "꽝입니다.\n",
      "꽝입니다.\n"
     ]
    }
   ],
   "source": [
    "my_numbers = {}\n",
    "\n",
    "for i in range(1, 6):\n",
    "    random_number = random.sample(range(1, 46), 6)\n",
    "    my_numbers[f'{i}회차'] = random_number\n",
    "\n",
    "print(my_numbers)\n",
    "\n",
    "# 파라미터 설정\n",
    "payload = {\n",
    "    'method' : 'getLottoNumber',\n",
    "    'drwNo' : 1126,\n",
    "}\n",
    "\n",
    "LOTTO_URL = 'https://www.dhlottery.co.kr/common.do'\n",
    "\n",
    "# url 접속 및 당첨번호만 파싱\n",
    "r = requests.get(LOTTO_URL, params=payload)\n",
    "lotto_dict = r.json()\n",
    "\n",
    "lucky_number = []\n",
    "bouns_number = lotto_dict['bnusNo']\n",
    "\n",
    "for key, value in lotto_dict.items():\n",
    "    if 'drwtNo' in key:\n",
    "        lucky_number.append(value)\n",
    "\n",
    "print(f'이번주 당첨번호{lucky_number}, BN: {bouns_number}')\n",
    "\n",
    "for my_number in my_numbers.values():\n",
    "    my_number_set = set(my_number)\n",
    "    lucky_number_set = set(lucky_number)\n",
    "\n",
    "    match_count = len(my_number_set & lucky_number_set)\n",
    "    if match_count == 6:\n",
    "        print('1등 입니다.')\n",
    "    elif match_count == 5 and (bonus_number in my_number):\n",
    "        print('2등 입니다.')\n",
    "    elif match_count == 5:\n",
    "        print('3등 입니다.')\n",
    "    elif match_count == 4:\n",
    "        print('4등 입니다.')\n",
    "    elif match_count == 3:\n",
    "        print('5등 입니다.')\n",
    "    else:\n",
    "        print('꽝입니다.')"
   ]
  },
  {
   "cell_type": "markdown",
   "id": "c1953ea2-19d5-41b2-aba1-072b5be23e44",
   "metadata": {},
   "source": [
    "## 5. error"
   ]
  },
  {
   "attachments": {},
   "cell_type": "markdown",
   "id": "7a21dd91-8d01-461f-b6d7-44f744507a66",
   "metadata": {},
   "source": [
    "### 5-1. syntex error"
   ]
  },
  {
   "cell_type": "code",
   "execution_count": 176,
   "id": "63b01701-30df-441d-9fe2-fee6f90d4e19",
   "metadata": {},
   "outputs": [
    {
     "ename": "SyntaxError",
     "evalue": "expected ':' (3448656250.py, line 3)",
     "output_type": "error",
     "traceback": [
      "\u001b[0;36m  Cell \u001b[0;32mIn[176], line 3\u001b[0;36m\u001b[0m\n\u001b[0;31m    else\u001b[0m\n\u001b[0m        ^\u001b[0m\n\u001b[0;31mSyntaxError\u001b[0m\u001b[0;31m:\u001b[0m expected ':'\n"
     ]
    }
   ],
   "source": [
    "if True:\n",
    "    pass\n",
    "else"
   ]
  },
  {
   "cell_type": "code",
   "execution_count": 177,
   "id": "8c85c242-56b0-4975-856c-12fae9781a7d",
   "metadata": {},
   "outputs": [
    {
     "ename": "SyntaxError",
     "evalue": "unterminated string literal (detected at line 1) (3259792019.py, line 1)",
     "output_type": "error",
     "traceback": [
      "\u001b[0;36m  Cell \u001b[0;32mIn[177], line 1\u001b[0;36m\u001b[0m\n\u001b[0;31m    print('hello\u001b[0m\n\u001b[0m          ^\u001b[0m\n\u001b[0;31mSyntaxError\u001b[0m\u001b[0;31m:\u001b[0m unterminated string literal (detected at line 1)\n"
     ]
    }
   ],
   "source": [
    "print('hello"
   ]
  },
  {
   "cell_type": "code",
   "execution_count": 178,
   "id": "47cb0418-4b91-452c-9812-f24735d02527",
   "metadata": {},
   "outputs": [
    {
     "ename": "SyntaxError",
     "evalue": "invalid syntax (3767511997.py, line 1)",
     "output_type": "error",
     "traceback": [
      "\u001b[0;36m  Cell \u001b[0;32mIn[178], line 1\u001b[0;36m\u001b[0m\n\u001b[0;31m    if True print('hi')\u001b[0m\n\u001b[0m            ^\u001b[0m\n\u001b[0;31mSyntaxError\u001b[0m\u001b[0;31m:\u001b[0m invalid syntax\n"
     ]
    }
   ],
   "source": [
    "if True print('hi')"
   ]
  },
  {
   "cell_type": "markdown",
   "id": "0ae73041-98f1-42fe-b96b-5a76ae461b76",
   "metadata": {},
   "source": [
    "### 5-2. exception"
   ]
  },
  {
   "cell_type": "code",
   "execution_count": 179,
   "id": "18a3ee3b-0501-47fb-aacf-9bbbd6baeceb",
   "metadata": {},
   "outputs": [
    {
     "ename": "ZeroDivisionError",
     "evalue": "division by zero",
     "output_type": "error",
     "traceback": [
      "\u001b[0;31m---------------------------------------------------------------------------\u001b[0m",
      "\u001b[0;31mZeroDivisionError\u001b[0m                         Traceback (most recent call last)",
      "Cell \u001b[0;32mIn[179], line 1\u001b[0m\n\u001b[0;32m----> 1\u001b[0m \u001b[38;5;28mprint\u001b[39m(\u001b[38;5;241;43m5\u001b[39;49m\u001b[38;5;241;43m/\u001b[39;49m\u001b[38;5;241;43m0\u001b[39;49m)\n",
      "\u001b[0;31mZeroDivisionError\u001b[0m: division by zero"
     ]
    }
   ],
   "source": [
    "print(5/0)"
   ]
  },
  {
   "cell_type": "code",
   "execution_count": 188,
   "id": "5d581bb8-598c-422f-8935-5cdefca99359",
   "metadata": {},
   "outputs": [
    {
     "ename": "TypeError",
     "evalue": "unsupported operand type(s) for +: 'int' and 'str'",
     "output_type": "error",
     "traceback": [
      "\u001b[0;31m---------------------------------------------------------------------------\u001b[0m",
      "\u001b[0;31mTypeError\u001b[0m                                 Traceback (most recent call last)",
      "Cell \u001b[0;32mIn[188], line 2\u001b[0m\n\u001b[1;32m      1\u001b[0m \u001b[38;5;66;03m#type error\u001b[39;00m\n\u001b[0;32m----> 2\u001b[0m \u001b[38;5;241;43m1\u001b[39;49m\u001b[43m \u001b[49m\u001b[38;5;241;43m+\u001b[39;49m\u001b[43m \u001b[49m\u001b[38;5;124;43m'\u001b[39;49m\u001b[38;5;124;43m1\u001b[39;49m\u001b[38;5;124;43m'\u001b[39;49m\n",
      "\u001b[0;31mTypeError\u001b[0m: unsupported operand type(s) for +: 'int' and 'str'"
     ]
    }
   ],
   "source": [
    "#type error\n",
    "1 + '1'"
   ]
  },
  {
   "cell_type": "code",
   "execution_count": 181,
   "id": "09c7ffee-8e5d-4f0b-99ef-30c198939695",
   "metadata": {},
   "outputs": [
    {
     "ename": "TypeError",
     "evalue": "can only concatenate str (not \"int\") to str",
     "output_type": "error",
     "traceback": [
      "\u001b[0;31m---------------------------------------------------------------------------\u001b[0m",
      "\u001b[0;31mTypeError\u001b[0m                                 Traceback (most recent call last)",
      "Cell \u001b[0;32mIn[181], line 1\u001b[0m\n\u001b[0;32m----> 1\u001b[0m \u001b[38;5;124;43m'\u001b[39;49m\u001b[38;5;124;43m1\u001b[39;49m\u001b[38;5;124;43m'\u001b[39;49m\u001b[43m \u001b[49m\u001b[38;5;241;43m+\u001b[39;49m\u001b[43m \u001b[49m\u001b[38;5;241;43m1\u001b[39;49m\n",
      "\u001b[0;31mTypeError\u001b[0m: can only concatenate str (not \"int\") to str"
     ]
    }
   ],
   "source": [
    "'1' + 1"
   ]
  },
  {
   "cell_type": "code",
   "execution_count": 182,
   "id": "221fb1cc-f960-42c8-9c17-15231f576567",
   "metadata": {},
   "outputs": [
    {
     "ename": "TypeError",
     "evalue": "Random.sample() missing 1 required positional argument: 'k'",
     "output_type": "error",
     "traceback": [
      "\u001b[0;31m---------------------------------------------------------------------------\u001b[0m",
      "\u001b[0;31mTypeError\u001b[0m                                 Traceback (most recent call last)",
      "Cell \u001b[0;32mIn[182], line 2\u001b[0m\n\u001b[1;32m      1\u001b[0m \u001b[38;5;28;01mimport\u001b[39;00m \u001b[38;5;21;01mrandom\u001b[39;00m\n\u001b[0;32m----> 2\u001b[0m \u001b[43mrandom\u001b[49m\u001b[38;5;241;43m.\u001b[39;49m\u001b[43msample\u001b[49m\u001b[43m(\u001b[49m\u001b[43m[\u001b[49m\u001b[38;5;241;43m1\u001b[39;49m\u001b[43m,\u001b[49m\u001b[43m \u001b[49m\u001b[38;5;241;43m2\u001b[39;49m\u001b[43m,\u001b[49m\u001b[43m \u001b[49m\u001b[38;5;241;43m3\u001b[39;49m\u001b[43m,\u001b[49m\u001b[43m \u001b[49m\u001b[38;5;241;43m4\u001b[39;49m\u001b[43m,\u001b[49m\u001b[43m \u001b[49m\u001b[38;5;241;43m5\u001b[39;49m\u001b[43m]\u001b[49m\u001b[43m)\u001b[49m\n",
      "\u001b[0;31mTypeError\u001b[0m: Random.sample() missing 1 required positional argument: 'k'"
     ]
    }
   ],
   "source": [
    "import random\n",
    "random.sample([1, 2, 3, 4, 5])"
   ]
  },
  {
   "cell_type": "code",
   "execution_count": 183,
   "id": "0e80477c-68d3-42b0-ab20-7615398be4e6",
   "metadata": {},
   "outputs": [
    {
     "ename": "TypeError",
     "evalue": "Random.sample() takes 3 positional arguments but 4 were given",
     "output_type": "error",
     "traceback": [
      "\u001b[0;31m---------------------------------------------------------------------------\u001b[0m",
      "\u001b[0;31mTypeError\u001b[0m                                 Traceback (most recent call last)",
      "Cell \u001b[0;32mIn[183], line 1\u001b[0m\n\u001b[0;32m----> 1\u001b[0m \u001b[43mrandom\u001b[49m\u001b[38;5;241;43m.\u001b[39;49m\u001b[43msample\u001b[49m\u001b[43m(\u001b[49m\u001b[43m[\u001b[49m\u001b[38;5;241;43m1\u001b[39;49m\u001b[43m,\u001b[49m\u001b[43m \u001b[49m\u001b[38;5;241;43m2\u001b[39;49m\u001b[43m,\u001b[49m\u001b[43m \u001b[49m\u001b[38;5;241;43m3\u001b[39;49m\u001b[43m,\u001b[49m\u001b[43m \u001b[49m\u001b[38;5;241;43m4\u001b[39;49m\u001b[43m,\u001b[49m\u001b[43m \u001b[49m\u001b[38;5;241;43m5\u001b[39;49m\u001b[43m]\u001b[49m\u001b[43m,\u001b[49m\u001b[43m \u001b[49m\u001b[38;5;241;43m2\u001b[39;49m\u001b[43m,\u001b[49m\u001b[43m \u001b[49m\u001b[38;5;241;43m2\u001b[39;49m\u001b[43m)\u001b[49m\n",
      "\u001b[0;31mTypeError\u001b[0m: Random.sample() takes 3 positional arguments but 4 were given"
     ]
    }
   ],
   "source": [
    "random.sample([1, 2, 3, 4, 5], 2, 2)"
   ]
  },
  {
   "cell_type": "code",
   "execution_count": 185,
   "id": "0af09716-6cf3-4a3b-a834-1d3e3ed844e8",
   "metadata": {},
   "outputs": [
    {
     "ename": "ValueError",
     "evalue": "invalid literal for int() with base 10: '4.5'",
     "output_type": "error",
     "traceback": [
      "\u001b[0;31m---------------------------------------------------------------------------\u001b[0m",
      "\u001b[0;31mValueError\u001b[0m                                Traceback (most recent call last)",
      "Cell \u001b[0;32mIn[185], line 2\u001b[0m\n\u001b[1;32m      1\u001b[0m \u001b[38;5;66;03m#vlaue error\u001b[39;00m\n\u001b[0;32m----> 2\u001b[0m \u001b[38;5;28;43mint\u001b[39;49m\u001b[43m(\u001b[49m\u001b[38;5;124;43m'\u001b[39;49m\u001b[38;5;124;43m4.5\u001b[39;49m\u001b[38;5;124;43m'\u001b[39;49m\u001b[43m)\u001b[49m\n",
      "\u001b[0;31mValueError\u001b[0m: invalid literal for int() with base 10: '4.5'"
     ]
    }
   ],
   "source": [
    "#vlaue error\n",
    "int('4.5')"
   ]
  },
  {
   "cell_type": "code",
   "execution_count": 186,
   "id": "dc93a00d-e41c-45a2-a862-c2db8db54d16",
   "metadata": {},
   "outputs": [
    {
     "ename": "ValueError",
     "evalue": "100 is not in list",
     "output_type": "error",
     "traceback": [
      "\u001b[0;31m---------------------------------------------------------------------------\u001b[0m",
      "\u001b[0;31mValueError\u001b[0m                                Traceback (most recent call last)",
      "Cell \u001b[0;32mIn[186], line 3\u001b[0m\n\u001b[1;32m      1\u001b[0m \u001b[38;5;66;03m#value error\u001b[39;00m\n\u001b[1;32m      2\u001b[0m numbers \u001b[38;5;241m=\u001b[39m [\u001b[38;5;241m1\u001b[39m, \u001b[38;5;241m2\u001b[39m, \u001b[38;5;241m3\u001b[39m]\n\u001b[0;32m----> 3\u001b[0m \u001b[43mnumbers\u001b[49m\u001b[38;5;241;43m.\u001b[39;49m\u001b[43mindex\u001b[49m\u001b[43m(\u001b[49m\u001b[38;5;241;43m100\u001b[39;49m\u001b[43m)\u001b[49m\n",
      "\u001b[0;31mValueError\u001b[0m: 100 is not in list"
     ]
    }
   ],
   "source": [
    "#value error\n",
    "numbers = [1, 2, 3]\n",
    "numbers.index(100)"
   ]
  },
  {
   "cell_type": "code",
   "execution_count": 187,
   "id": "6fedab16-5821-4a3a-b5b8-e6113a4d9771",
   "metadata": {},
   "outputs": [
    {
     "ename": "IndexError",
     "evalue": "list index out of range",
     "output_type": "error",
     "traceback": [
      "\u001b[0;31m---------------------------------------------------------------------------\u001b[0m",
      "\u001b[0;31mIndexError\u001b[0m                                Traceback (most recent call last)",
      "Cell \u001b[0;32mIn[187], line 2\u001b[0m\n\u001b[1;32m      1\u001b[0m \u001b[38;5;66;03m#index error\u001b[39;00m\n\u001b[0;32m----> 2\u001b[0m \u001b[43mnumbers\u001b[49m\u001b[43m[\u001b[49m\u001b[38;5;241;43m100\u001b[39;49m\u001b[43m]\u001b[49m\n",
      "\u001b[0;31mIndexError\u001b[0m: list index out of range"
     ]
    }
   ],
   "source": [
    "#index error\n",
    "numbers[100]"
   ]
  },
  {
   "cell_type": "code",
   "execution_count": 191,
   "id": "335222ca-c305-47b7-9334-6abd98c09ecf",
   "metadata": {},
   "outputs": [],
   "source": [
    "my_dict = {\n",
    "    'apple': '사과',\n",
    "    'banana': '바나나',\n",
    "}"
   ]
  },
  {
   "cell_type": "code",
   "execution_count": 192,
   "id": "c1ce6fd3-9b6f-410a-b85d-801ff399ea4d",
   "metadata": {},
   "outputs": [
    {
     "ename": "KeyError",
     "evalue": "'melon'",
     "output_type": "error",
     "traceback": [
      "\u001b[0;31m---------------------------------------------------------------------------\u001b[0m",
      "\u001b[0;31mKeyError\u001b[0m                                  Traceback (most recent call last)",
      "Cell \u001b[0;32mIn[192], line 1\u001b[0m\n\u001b[0;32m----> 1\u001b[0m \u001b[43mmy_dict\u001b[49m\u001b[43m[\u001b[49m\u001b[38;5;124;43m'\u001b[39;49m\u001b[38;5;124;43mmelon\u001b[39;49m\u001b[38;5;124;43m'\u001b[39;49m\u001b[43m]\u001b[49m\n",
      "\u001b[0;31mKeyError\u001b[0m: 'melon'"
     ]
    }
   ],
   "source": [
    "#key error\n",
    "my_dict['melon']"
   ]
  },
  {
   "cell_type": "code",
   "execution_count": 193,
   "id": "4454350c-827c-4908-9c09-669f147b6e76",
   "metadata": {},
   "outputs": [
    {
     "ename": "ModuleNotFoundError",
     "evalue": "No module named 'pandas'",
     "output_type": "error",
     "traceback": [
      "\u001b[0;31m---------------------------------------------------------------------------\u001b[0m",
      "\u001b[0;31mModuleNotFoundError\u001b[0m                       Traceback (most recent call last)",
      "Cell \u001b[0;32mIn[193], line 1\u001b[0m\n\u001b[0;32m----> 1\u001b[0m \u001b[38;5;28;01mimport\u001b[39;00m \u001b[38;5;21;01mpandas\u001b[39;00m\n",
      "\u001b[0;31mModuleNotFoundError\u001b[0m: No module named 'pandas'"
     ]
    }
   ],
   "source": [
    "import pandas"
   ]
  },
  {
   "attachments": {},
   "cell_type": "markdown",
   "id": "335bcc84-1b88-4815-89f5-b5b39cbbb1e5",
   "metadata": {},
   "source": [
    "### 5-3. 예외처리\n",
    "\n",
    "```python\n",
    "try:\n",
    "    code\n",
    "except 예외:\n",
    "    code\n",
    "```"
   ]
  },
  {
   "cell_type": "code",
   "execution_count": 200,
   "id": "46f27603-feca-4b85-9dab-c5bb6e7a0651",
   "metadata": {},
   "outputs": [
    {
     "name": "stdout",
     "output_type": "stream",
     "text": [
      "숫자를 입력해주세요:  456\n"
     ]
    },
    {
     "name": "stdout",
     "output_type": "stream",
     "text": [
      "456의 세제곱은 94818816입니다.\n"
     ]
    }
   ],
   "source": [
    "try:\n",
    "    num = int(input('숫자를 입력해주세요: '))\n",
    "    print(f'{num}의 세제곱은 {num**3}입니다.')\n",
    "except:\n",
    "    print('숫자를 입력해주세요!')"
   ]
  },
  {
   "cell_type": "code",
   "execution_count": 205,
   "id": "d8983f99-5896-4548-9875-89323d685f94",
   "metadata": {},
   "outputs": [
    {
     "name": "stdout",
     "output_type": "stream",
     "text": [
      "100을 무엇으로 나누시겠습니까? 삼십\n"
     ]
    },
    {
     "name": "stdout",
     "output_type": "stream",
     "text": [
      "입력한 데이터는 숫자가 아닙니다.\n"
     ]
    }
   ],
   "source": [
    "try:\n",
    "    num = int(input('100을 무엇으로 나누시겠습니까?'))\n",
    "    print(f'100을 {num}으로 나누면 {100/num}입니다.')\n",
    "except ValueError:\n",
    "    print('입력한 데이터는 숫자가 아닙니다.')\n",
    "except ZeroDivisionError:\n",
    "    print('모든수는 0으로 나눌 수 없습니다.')"
   ]
  },
  {
   "cell_type": "code",
   "execution_count": 207,
   "id": "4d83efb6-1396-422d-9930-bab216250fc1",
   "metadata": {},
   "outputs": [
    {
     "name": "stdout",
     "output_type": "stream",
     "text": [
      "out of index\n",
      "list index out of range\n"
     ]
    }
   ],
   "source": [
    "try:\n",
    "    my_list = [1, 2, 3]\n",
    "    print(my_list[100])\n",
    "except IndexError as err:\n",
    "    print('out of index')\n",
    "    print(err)"
   ]
  },
  {
   "cell_type": "code",
   "execution_count": 210,
   "id": "fcf2ea95-4d45-42e4-8cc8-97aadd1a2b1c",
   "metadata": {},
   "outputs": [
    {
     "name": "stdout",
     "output_type": "stream",
     "text": [
      "1000\n"
     ]
    }
   ],
   "source": [
    "# else -> 예외를 일으키지 않을 때 실행되는 코드\n",
    "try:\n",
    "    numbers = [1, 2, 3]\n",
    "    numbers[100]\n",
    "except:\n",
    "    print('오류입니다.')\n",
    "else:\n",
    "    print(num ** 3)"
   ]
  },
  {
   "cell_type": "code",
   "execution_count": 213,
   "id": "c311b175-39f2-42d1-8da8-b179a987a759",
   "metadata": {},
   "outputs": [
    {
     "name": "stdout",
     "output_type": "stream",
     "text": [
      "오류입니다.\n",
      "end\n"
     ]
    }
   ],
   "source": [
    "# finally => 예외와 상관없이 try의 모든 코드 실행 후 무조건 실행\n",
    "try:\n",
    "    numbers = [1, 2, 3]\n",
    "    numbers[100]\n",
    "except:\n",
    "    print('오류입니다.')\n",
    "finally:\n",
    "    print('end')    "
   ]
  },
  {
   "cell_type": "code",
   "execution_count": 219,
   "id": "4c1292b3-c2ae-4bf3-985b-99e25fde4037",
   "metadata": {},
   "outputs": [],
   "source": [
    "def my_div(num1, num2):\n",
    "    try:\n",
    "        return nums1 / num2\n",
    "    except (ValueError, TypeError):\n",
    "        return '숫자를 입력해주세요.'\n",
    "    except ZeroDivisionError:\n",
    "        return '0으로 나눌 수 없습니다.'\n",
    "    except:\n",
    "        return '무엇인가 잘못되었어요'"
   ]
  },
  {
   "cell_type": "code",
   "execution_count": 220,
   "id": "799acdc0-87a4-438a-94c1-ce0d4fa4b6dc",
   "metadata": {},
   "outputs": [
    {
     "name": "stdout",
     "output_type": "stream",
     "text": [
      "무엇인가 잘못되었어요\n"
     ]
    }
   ],
   "source": [
    "print(my_div('2', 'q'))"
   ]
  },
  {
   "cell_type": "code",
   "execution_count": null,
   "id": "137692d7-d450-48b5-a0ec-c080eee1610b",
   "metadata": {},
   "outputs": [],
   "source": []
  }
 ],
 "metadata": {
  "kernelspec": {
   "display_name": "Python 3 (ipykernel)",
   "language": "python",
   "name": "python3"
  },
  "language_info": {
   "codemirror_mode": {
    "name": "ipython",
    "version": 3
   },
   "file_extension": ".py",
   "mimetype": "text/x-python",
   "name": "python",
   "nbconvert_exporter": "python",
   "pygments_lexer": "ipython3",
   "version": "3.12.4"
  }
 },
 "nbformat": 4,
 "nbformat_minor": 5
}
